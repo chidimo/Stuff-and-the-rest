{
 "cells": [
  {
   "cell_type": "markdown",
   "metadata": {},
   "source": [
    "These are functions that are available everywhere in python without the need to use an 'import' statement"
   ]
  },
  {
   "cell_type": "markdown",
   "metadata": {},
   "source": [
    "map(function, iterable)\n",
    "applies a function to individual items of an iterable.\n",
    "Its action depends on the function to be executed. In this light it could be said that there is both a series mapping and a parallel mapping"
   ]
  },
  {
   "cell_type": "code",
   "execution_count": null,
   "metadata": {},
   "outputs": [],
   "source": []
  },
  {
   "cell_type": "code",
   "execution_count": 69,
   "metadata": {},
   "outputs": [],
   "source": [
    "insects = ['fly', 'ant', 'beetle', 'cankerworm']\n",
    "carnivores = ['lion', 'tiger', 'leopard', 'arctic fox']\n",
    "herbivores = ['african buffalo', 'moose', 'okapi', 'parakeet']\n",
    "omnivores = ['chicken', 'dove', 'mouse', 'pig']\n",
    "numbers = [0, 1, 2, 3, 4, 5]\n",
    "chickens = ['layer', 'broiler', 'old layer', 'gr  t', '']"
   ]
  },
  {
   "cell_type": "code",
   "execution_count": 70,
   "metadata": {},
   "outputs": [
    {
     "name": "stdout",
     "output_type": "stream",
     "text": [
      "False\n",
      "True\n",
      "False\n",
      "True\n"
     ]
    }
   ],
   "source": [
    "print(all(numbers))\n",
    "print(all(numbers[1:]))\n",
    "print(all(chickens))\n",
    "print(all(chickens[:3]))"
   ]
  },
  {
   "cell_type": "code",
   "execution_count": 71,
   "metadata": {},
   "outputs": [
    {
     "data": {
      "text/plain": [
       "\"['fly', 'ant', 'beetle', 'cankerworm']\""
      ]
     },
     "execution_count": 71,
     "metadata": {},
     "output_type": "execute_result"
    }
   ],
   "source": [
    "ascii(insects)"
   ]
  },
  {
   "cell_type": "code",
   "execution_count": 51,
   "metadata": {
    "collapsed": true
   },
   "outputs": [],
   "source": [
    "insects = ['fly', 'ant', 'beetle', 'cankerworm']\n",
    "carnivores = ['lion', 'tiger', 'leopard', 'arctic fox']\n",
    "herbivores = ['african buffalo', 'moose', 'okapi', 'parakeet']\n",
    "omnivores = ['chicken', 'dove', 'mouse', 'pig']"
   ]
  },
  {
   "cell_type": "markdown",
   "metadata": {},
   "source": [
    "series mappingIn this case each argument of the iterable is supplied as argument to the mapping function in ascending order. This arises when we have just one iterable to map and the mapping function requires a single argument."
   ]
  },
  {
   "cell_type": "code",
   "execution_count": 49,
   "metadata": {},
   "outputs": [
    {
     "name": "stdout",
     "output_type": "stream",
     "text": [
      "[3, 3, 6, 10]\n",
      "['fly is an insect', 'ant is an insect', 'beetle is an insect', 'cankerworm is an insect']\n"
     ]
    }
   ],
   "source": [
    "print(list(map(len, insects))) # the len function is executed each item in the insect list\n",
    "\n",
    "f = lambda x: x + ' is an insect'\n",
    "print(list(map(f, insects))) # the function defined by f is executed on each item of the iterable insects"
   ]
  },
  {
   "cell_type": "markdown",
   "metadata": {},
   "source": [
    "parallel mapping\n",
    "In this case each argument of the mapping function is pulled from across all iterables (one from each iterable) in parallel. Thus the number of iterables supplied must match the number of arguments required by the function."
   ]
  },
  {
   "cell_type": "code",
   "execution_count": 56,
   "metadata": {},
   "outputs": [],
   "source": [
    "def animals(w, x, y, z):\n",
    "    return '{0}, {1}, {2}, and {3} ARE ALL ANIMALS'.format(w.title(), x, y, z)"
   ]
  },
  {
   "cell_type": "code",
   "execution_count": 57,
   "metadata": {},
   "outputs": [
    {
     "ename": "TypeError",
     "evalue": "len() takes exactly one argument (4 given)",
     "output_type": "error",
     "traceback": [
      "\u001b[0;31m---------------------------------------------------------------------------\u001b[0m",
      "\u001b[0;31mTypeError\u001b[0m                                 Traceback (most recent call last)",
      "\u001b[0;32m<ipython-input-57-30d7ee3cabde>\u001b[0m in \u001b[0;36m<module>\u001b[0;34m()\u001b[0m\n\u001b[1;32m      2\u001b[0m \u001b[1;31m# observe here that map is trying to pass one item each from each of the four iterables to len. This leads len to complain that\u001b[0m\u001b[1;33m\u001b[0m\u001b[1;33m\u001b[0m\u001b[0m\n\u001b[1;32m      3\u001b[0m \u001b[1;31m# it is being fed too many arguments\u001b[0m\u001b[1;33m\u001b[0m\u001b[1;33m\u001b[0m\u001b[0m\n\u001b[0;32m----> 4\u001b[0;31m \u001b[0mprint\u001b[0m\u001b[1;33m(\u001b[0m\u001b[0mlist\u001b[0m\u001b[1;33m(\u001b[0m\u001b[0mmap\u001b[0m\u001b[1;33m(\u001b[0m\u001b[0mlen\u001b[0m\u001b[1;33m,\u001b[0m \u001b[0minsects\u001b[0m\u001b[1;33m,\u001b[0m \u001b[0mcarnivores\u001b[0m\u001b[1;33m,\u001b[0m \u001b[0mherbivores\u001b[0m\u001b[1;33m,\u001b[0m \u001b[0momnivores\u001b[0m\u001b[1;33m)\u001b[0m\u001b[1;33m)\u001b[0m\u001b[1;33m)\u001b[0m\u001b[1;33m\u001b[0m\u001b[0m\n\u001b[0m",
      "\u001b[0;31mTypeError\u001b[0m: len() takes exactly one argument (4 given)"
     ]
    }
   ],
   "source": [
    "# Too many arguments\n",
    "# observe here that map is trying to pass one item each from each of the four iterables to len. This leads len to complain that\n",
    "# it is being fed too many arguments\n",
    "print(list(map(len, insects, carnivores, herbivores, omnivores)))"
   ]
  },
  {
   "cell_type": "code",
   "execution_count": 1,
   "metadata": {},
   "outputs": [
    {
     "ename": "NameError",
     "evalue": "name 'animals' is not defined",
     "output_type": "error",
     "traceback": [
      "\u001b[0;31m---------------------------------------------------------------------------\u001b[0m",
      "\u001b[0;31mNameError\u001b[0m                                 Traceback (most recent call last)",
      "\u001b[0;32m<ipython-input-1-7532d0e09c16>\u001b[0m in \u001b[0;36m<module>\u001b[0;34m()\u001b[0m\n\u001b[1;32m      2\u001b[0m \u001b[1;31m# observe here that map is suppose to execute animal on individual elements of insects one-by-one. But animals complain when\u001b[0m\u001b[1;33m\u001b[0m\u001b[1;33m\u001b[0m\u001b[0m\n\u001b[1;32m      3\u001b[0m \u001b[1;31m# it only gets one argument, whereas it was expecting four.\u001b[0m\u001b[1;33m\u001b[0m\u001b[1;33m\u001b[0m\u001b[0m\n\u001b[0;32m----> 4\u001b[0;31m \u001b[0mprint\u001b[0m\u001b[1;33m(\u001b[0m\u001b[0mlist\u001b[0m\u001b[1;33m(\u001b[0m\u001b[0mmap\u001b[0m\u001b[1;33m(\u001b[0m\u001b[0manimals\u001b[0m\u001b[1;33m,\u001b[0m \u001b[0minsects\u001b[0m\u001b[1;33m)\u001b[0m\u001b[1;33m)\u001b[0m\u001b[1;33m)\u001b[0m\u001b[1;33m\u001b[0m\u001b[0m\n\u001b[0m",
      "\u001b[0;31mNameError\u001b[0m: name 'animals' is not defined"
     ]
    }
   ],
   "source": [
    "# Too few arguments\n",
    "# observe here that map is suppose to execute animal on individual elements of insects one-by-one. But animals complain when\n",
    "# it only gets one argument, whereas it was expecting four.\n",
    "print(list(map(animals, insects)))"
   ]
  },
  {
   "cell_type": "code",
   "execution_count": 59,
   "metadata": {},
   "outputs": [
    {
     "name": "stdout",
     "output_type": "stream",
     "text": [
      "['Fly, lion, african buffalo, and chicken ARE ALL ANIMALS',\n",
      " 'Ant, tiger, moose, and dove ARE ALL ANIMALS',\n",
      " 'Beetle, leopard, okapi, and mouse ARE ALL ANIMALS',\n",
      " 'Cankerworm, arctic fox, parakeet, and pig ARE ALL ANIMALS']\n"
     ]
    }
   ],
   "source": [
    "import pprint\n",
    "pprint.pprint(list(map(animals, insects, carnivores, herbivores, omnivores)))"
   ]
  },
  {
   "cell_type": "code",
   "execution_count": null,
   "metadata": {
    "collapsed": true
   },
   "outputs": [],
   "source": []
  }
 ],
 "metadata": {
  "kernelspec": {
   "display_name": "Python 3",
   "language": "python",
   "name": "python3"
  },
  "language_info": {
   "codemirror_mode": {
    "name": "ipython",
    "version": 3
   },
   "file_extension": ".py",
   "mimetype": "text/x-python",
   "name": "python",
   "nbconvert_exporter": "python",
   "pygments_lexer": "ipython3",
   "version": "3.7.3"
  }
 },
 "nbformat": 4,
 "nbformat_minor": 1
}
