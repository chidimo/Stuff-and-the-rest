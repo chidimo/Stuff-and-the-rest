{
 "cells": [
  {
   "cell_type": "markdown",
   "metadata": {},
   "source": [
    "# Exploring the github API"
   ]
  },
  {
   "cell_type": "code",
   "execution_count": null,
   "metadata": {},
   "outputs": [],
   "source": [
    "c = requests.post('https://httpbin.org/post', data={'key':'value'})\n",
    "\n",
    "base_url = \"https://api.github.com\"\n",
    "user = base_url + '/user'\n",
    "search = base_url + \"/search/repositories\"\n",
    "http = 'http://httpbin.org'\n",
    "\n",
    "import getpass from getpass\n",
    "import requests\n",
    "\n",
    "r = requests.get(search, params={'q': 'requests+language:python'})\n",
    "\n",
    "t = requests.get(search,\n",
    "                params={'q':'requests+language:python'},\n",
    "                headers={'Accept': 'application/vnd.github.v3.text-match+json'})\n",
    "\n",
    "r = requests.get(user, auth=('chidimo', getpass()))\n",
    "\n",
    "with requests.Session() as session:\n",
    "    session.auth = ('chidimo', getpass())\n",
    "    \n",
    "    r = session.get('https://api.github.com/user')\n",
    "print(r.headers)\n",
    "print(r.json())"
   ]
  },
  {
   "cell_type": "markdown",
   "metadata": {},
   "source": [
    "# API requests"
   ]
  },
  {
   "cell_type": "code",
   "execution_count": null,
   "metadata": {},
   "outputs": [],
   "source": [
    "import requests\n",
    "\n",
    "term = \"http://api.nytimes.com/svc/search/v2/articlesearch.json?q=${}&api-key=eb301130e8e84122bd6463322b7822da\".format(input())\n",
    "nyt = requests.get(term)\n",
    "\n",
    "nyt_json = nyt.json()\n",
    "print(nyt_json.keys())\n",
    "for k, v in nyt_json.items():\n",
    "    print(k)\n",
    "    print(v)\n",
    "    print(\"*\"*50)\n",
    "\n",
    "print(\"Length of NYT itemn\", len(nyt_json[\"response\"][\"docs\"]))\n",
    "for e in nyt_json[\"response\"][\"docs\"]:\n",
    "    for k, v in e.items():\n",
    "        print(k)\n",
    "        print(v)\n",
    "        print(\"+\"*50)\n",
    "    print(\"*\"*50)\n",
    "\n",
    "params = {'page': 1, \"sort\" : \"created\"}\n",
    "headers = {'Accept': 'application/vnd.github.v3+json'}\n",
    "# git_events = requests.get(\"https://api.git_events.com/users/chidimo/events/public\",\n",
    "#                           params=params, headers=headers)\n",
    "auth = (\"chidimo\", \"matt5God\")\n",
    "my_repos = requests.get(\"https://api.github.com/user/repos\", headers=headers, auth=auth)\n",
    "user_repos = requests.get(\"https://api.github.com/users/{}/repos\".format(input()),\n",
    "                          headers=headers, params=params)\n",
    "print(user_repos.json())\n",
    "\n",
    "print(\"git_events headers\\n\", my_repos.headers)\n",
    "my_repos = my_repos.json()\n",
    "print(\"\\n\\nLength of git_events items: \", len(my_repos), \"\\n\\n\")\n",
    "for each in my_repos:\n",
    "    print(each)\n",
    "    print(\"*\"*70)\n",
    "\n",
    "print(\"git_events headers\\n\", git_events.headers)\n",
    "k = git_events.json()\n",
    "print(\"\\n\\nLength of git_events items: \", len(k), \"\\n\\n\")\n",
    "for each in k:\n",
    "    print(each)\n",
    "    print(\"*\"*70)\n",
    "\n",
    "headers = {'Authorization': 'Client-ID 98c8da14e6e918139b98eb83a0170518feb24b1d548a357a66768ff3e0dc5f22'}\n",
    "term = \"https://api.unsplash.com/search/photos?page=1&query=${}\".format(input())\n",
    "u = requests.get(term, headers=headers)\n",
    "\n",
    "results = u.json()[\"results\"]\n",
    "\n",
    "print(len(results))\n",
    "for each in results:\n",
    "    for k, v in each.items():\n",
    "        print(k, \" : \", v)\n",
    "        print(\"+\"*50)\n",
    "    print(\"----\"*50)"
   ]
  },
  {
   "cell_type": "code",
   "execution_count": 7,
   "metadata": {},
   "outputs": [],
   "source": [
    "import urllib"
   ]
  },
  {
   "cell_type": "code",
   "execution_count": 8,
   "metadata": {},
   "outputs": [],
   "source": [
    "t = urllib.request.urlopen(\"https://www.choralcentral.net/song\")"
   ]
  },
  {
   "cell_type": "code",
   "execution_count": 9,
   "metadata": {},
   "outputs": [
    {
     "data": {
      "text/plain": [
       "'https://www.choralcentral.net/song/'"
      ]
     },
     "execution_count": 9,
     "metadata": {},
     "output_type": "execute_result"
    }
   ],
   "source": [
    "t.geturl()"
   ]
  },
  {
   "cell_type": "code",
   "execution_count": 15,
   "metadata": {},
   "outputs": [
    {
     "data": {
      "text/plain": [
       "[('Server', 'openresty/1.9.15.1'),\n",
       " ('Date', 'Tue, 22 Jan 2019 20:41:37 GMT'),\n",
       " ('Content-Type', 'text/html; charset=utf-8'),\n",
       " ('Content-Length', '46812'),\n",
       " ('Connection', 'close'),\n",
       " ('Vary', 'Accept-Encoding'),\n",
       " ('Cache-Control', 'must-revalidate, max-age=300'),\n",
       " ('X-Frame-Options', 'SAMEORIGIN'),\n",
       " ('Vary', 'Cookie'),\n",
       " ('X-Clacks-Overhead', 'GNU Terry Pratchett')]"
      ]
     },
     "execution_count": 15,
     "metadata": {},
     "output_type": "execute_result"
    }
   ],
   "source": [
    "t.getheaders()"
   ]
  },
  {
   "cell_type": "code",
   "execution_count": 17,
   "metadata": {},
   "outputs": [
    {
     "name": "stdout",
     "output_type": "stream",
     "text": [
      "[('Server', 'nginx'), ('Content-Type', 'text/html'), ('Last-Modified', 'Mon, 24 Dec 2018 03:27:20 GMT'), ('ETag', '\"5c205218-1f97e\"'), ('X-Clacks-Overhead', 'GNU Terry Pratchett'), ('Strict-Transport-Security', 'max-age=315360000; includeSubDomains; preload'), ('Via', '1.1 varnish'), ('Content-Length', '129406'), ('Accept-Ranges', 'bytes'), ('Date', 'Tue, 22 Jan 2019 20:49:04 GMT'), ('Via', '1.1 varnish'), ('Age', '13'), ('Connection', 'close'), ('X-Served-By', 'cache-iad2147-IAD, cache-lhr6349-LHR'), ('X-Cache', 'MISS, HIT'), ('X-Cache-Hits', '0, 1'), ('X-Timer', 'S1548190145.656266,VS0,VE1'), ('Vary', 'Accept-Encoding')]\n"
     ]
    }
   ],
   "source": [
    "with urllib.request.urlopen(\"https://docs.python.org/release/3.7.2/glossary.html\") as f:\n",
    "    print(f.getheaders())"
   ]
  },
  {
   "cell_type": "code",
   "execution_count": 19,
   "metadata": {},
   "outputs": [
    {
     "data": {
      "text/plain": [
       "'///D:/git/url-shortener/tests'"
      ]
     },
     "execution_count": 19,
     "metadata": {},
     "output_type": "execute_result"
    }
   ],
   "source": [
    "urllib.request.pathname2url(r\"D:\\git\\url-shortener\\tests\")"
   ]
  },
  {
   "cell_type": "code",
   "execution_count": 20,
   "metadata": {},
   "outputs": [
    {
     "data": {
      "text/plain": [
       "'S:\\\\www.choralcentral.net\\\\song'"
      ]
     },
     "execution_count": 20,
     "metadata": {},
     "output_type": "execute_result"
    }
   ],
   "source": [
    "urllib.request.url2pathname(\"https://www.choralcentral.net/song\")"
   ]
  },
  {
   "cell_type": "code",
   "execution_count": 21,
   "metadata": {},
   "outputs": [
    {
     "data": {
      "text/plain": [
       "{}"
      ]
     },
     "execution_count": 21,
     "metadata": {},
     "output_type": "execute_result"
    }
   ],
   "source": [
    "urllib.request.getproxies()"
   ]
  },
  {
   "cell_type": "code",
   "execution_count": 32,
   "metadata": {},
   "outputs": [
    {
     "data": {
      "text/plain": [
       "'https%3A//www.udemy.com/web-scraping-with-python-beautifulsoup/'"
      ]
     },
     "execution_count": 32,
     "metadata": {},
     "output_type": "execute_result"
    }
   ],
   "source": [
    "p = urllib.parse.quote(\"https://www.udemy.com/web-scraping-with-python-beautifulsoup/\")\n",
    "p"
   ]
  },
  {
   "cell_type": "code",
   "execution_count": 30,
   "metadata": {},
   "outputs": [
    {
     "data": {
      "text/plain": [
       "'https://www.udemy.com/web-scraping-with-python-beautifulsoup/'"
      ]
     },
     "execution_count": 30,
     "metadata": {},
     "output_type": "execute_result"
    }
   ],
   "source": [
    "urllib.parse.urlunparse(p)"
   ]
  },
  {
   "cell_type": "code",
   "execution_count": null,
   "metadata": {},
   "outputs": [],
   "source": []
  }
 ],
 "metadata": {
  "kernelspec": {
   "display_name": "Python 3",
   "language": "python",
   "name": "python3"
  },
  "language_info": {
   "codemirror_mode": {
    "name": "ipython",
    "version": 3
   },
   "file_extension": ".py",
   "mimetype": "text/x-python",
   "name": "python",
   "nbconvert_exporter": "python",
   "pygments_lexer": "ipython3",
   "version": "3.7.3"
  }
 },
 "nbformat": 4,
 "nbformat_minor": 2
}
