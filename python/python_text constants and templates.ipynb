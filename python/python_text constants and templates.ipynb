{
 "cells": [
  {
   "cell_type": "markdown",
   "metadata": {
    "deletable": true,
    "editable": true
   },
   "source": [
    "### Resources\n",
    "https://pymotw.com/3/string/index.html\n",
    "\n",
    "https://docs.python.org/3/library/string.html\n",
    "\n",
    "https://qz.com/884448/every-successful-relationship-is-successful-for-the-same-exact-reasons/\n",
    "\n",
    "http://www.regular-expressions.info/refext.html\n",
    "\n",
    "magic methods: https://docs.python.org/3/reference/datamodel.html#object.__getitem__\n",
    "\n",
    "oop: http://www.itmaybeahack.com/book/python-2.6/html/index.html\n",
    "\n",
    "\n",
    "documentation: https://medium.com/python-pandemonium/python-introspection-with-the-inspect-module-2c85d5aa5a48#.umcbxc6uj\n",
    "\n",
    "\n",
    "unicode, bytes, strings\n",
    "\n",
    "http://stackoverflow.com/questions/8219706/difference-between-binary-string-byte-string-unicode-string-and-an-ordinary-st\n",
    "\n",
    "It depends on the version on Python you are using.\n",
    "In Python 2.x if you write 'abc' it has type str but this means a byte string. If you want a Unicode string you must write u'abc'.\n",
    "In Python 3.x if you write 'abc' it still has type str but now this means that is a string of Unicode characters. If you want a byte string you must write b'abc'. It is not allowed to write u'abc'."
   ]
  },
  {
   "cell_type": "code",
   "execution_count": 54,
   "metadata": {
    "collapsed": false,
    "deletable": true,
    "editable": true
   },
   "outputs": [
    {
     "name": "stdout",
     "output_type": "stream",
     "text": [
      "what is shining on the moon?      Abolo!!! $ikeke\n",
      "\n",
      "What Is Shining On The Moon? Abolo!!! $ikeke\n"
     ]
    }
   ],
   "source": [
    "import string\n",
    "\n",
    "s = \"\"\"what is shining on the moon?      Abolo!!!\"\"\"\n",
    "print(s)\n",
    "print()\n",
    "print(string.capwords(s))"
   ]
  },
  {
   "cell_type": "markdown",
   "metadata": {
    "deletable": true,
    "editable": true
   },
   "source": [
    "### Example 2: template"
   ]
  },
  {
   "cell_type": "code",
   "execution_count": 63,
   "metadata": {
    "collapsed": false,
    "deletable": true,
    "editable": true
   },
   "outputs": [
    {
     "name": "stdout",
     "output_type": "stream",
     "text": [
      "Assessment:  \n",
      "This boy, OLODO RAPATA, has really done well for himself. He got a 0 in WHO KNOWS?\n",
      "The escape character is $.\n",
      "\n"
     ]
    }
   ],
   "source": [
    "import string\n",
    "\n",
    "values = {'name' : 'OLODO RAPATA',\n",
    "         'grade' : 0,\n",
    "         'discipline' : \"WHO KNOWS?\"}\n",
    "\n",
    "p = string.Template(\"\"\"\n",
    "This boy, $name, has really done well for himself. He got a $grade in $discipline\n",
    "The escape character is $$.\n",
    "\"\"\")\n",
    "\n",
    "print('Assessment: ', p.substitute(values))"
   ]
  },
  {
   "cell_type": "markdown",
   "metadata": {
    "deletable": true,
    "editable": true
   },
   "source": [
    "### Example 3: Safe substitution"
   ]
  },
  {
   "cell_type": "code",
   "execution_count": 58,
   "metadata": {
    "collapsed": false,
    "deletable": true,
    "editable": true
   },
   "outputs": [
    {
     "name": "stdout",
     "output_type": "stream",
     "text": [
      "ERROR: 'missing'\n",
      "safe_substitute(): foo is here but $missing is not provided\n",
      "----------------------------------------\n"
     ]
    }
   ],
   "source": [
    "import string\n",
    "\n",
    "values = {'var': 'foo'}\n",
    "\n",
    "t = string.Template(\"$var is here but $missing is not provided\")\n",
    "\n",
    "try:\n",
    "    print('substitute()     :', t.substitute(values))\n",
    "except KeyError as err:\n",
    "    print('ERROR:', str(err))\n",
    "print('safe_substitute():', t.safe_substitute(values))\n",
    "print('----' * 10)\n",
    "\n",
    "# print('Now to check for patterns')\n",
    "\n",
    "# print('The template pattern is: \\n', string.Template.pattern)\n",
    "# print('----' * 10)\n",
    "# print('The template pattern type is: \\n', type(string.Template.pattern))\n",
    "# print()\n",
    "# print('----' * 10)\n",
    "# print('We go a step further to reveal the makeup of the pattern')\n",
    "# print()\n",
    "# print('The string template string is: \\n', string.Template.pattern.pattern)\n",
    "# print('----' * 10)\n",
    "# print('The string template string type is: \\n', type(string.Template.pattern.pattern))"
   ]
  },
  {
   "cell_type": "markdown",
   "metadata": {
    "collapsed": true,
    "deletable": true,
    "editable": true
   },
   "source": [
    "### What the regexes stand for\n",
    "\n",
    "**(?P&lt;name&gt;regex)** === Captures the text matched by \"regex\" into the group \"name\". The name can contain letters and numbers but must start with a letter.\n",
    "\n",
    "**(?:abc)** === non-capturing group"
   ]
  },
  {
   "cell_type": "markdown",
   "metadata": {
    "collapsed": false,
    "deletable": true,
    "editable": true
   },
   "source": [
    "\n",
    "\\\\\\$(?: === this dollar sign precedes all capturing groups, though the larger group is non-capturing due to the ?:\n",
    "\n",
    "    (?P<escaped>\\$) === overall regex \\$$\n",
    "\n",
    "    (?P<named>[_a-z][_a-z0-9]*) === the overall regex is \\$(?P<named>[_a-z][_a-z0-9]*), (for safe substitution)???\n",
    "\n",
    "    {(?P<braced>[_a-z][_a-z0-9]*)} === overall regex is \\${(?P<braced>[_a-z][_a-z0-9]*)}, replaces brace content\n",
    "\n",
    "    (?P<invalid>)\n",
    "   )"
   ]
  },
  {
   "cell_type": "code",
   "execution_count": null,
   "metadata": {
    "collapsed": false,
    "deletable": true,
    "editable": true
   },
   "outputs": [],
   "source": []
  },
  {
   "cell_type": "code",
   "execution_count": 61,
   "metadata": {
    "collapsed": false,
    "deletable": true,
    "editable": true
   },
   "outputs": [
    {
     "name": "stdout",
     "output_type": "stream",
     "text": [
      "hello sir\n",
      "\n",
      "have a nice day sir\n",
      "\n",
      "[-have a nice day-]\n"
     ]
    }
   ],
   "source": [
    "### Borrowed\n",
    "from string import Template\n",
    "import re\n",
    "\n",
    "class TemplateClone(Template):\n",
    "    delimiter = '$'\n",
    "    pattern = r'''\n",
    "    \\$(?:\n",
    "      (?P<escaped>\\$) |   # Escape sequence of two delimiters\n",
    "      (?P<named>[_a-z][_a-z0-9]*)      |   # delimiter and a Python identifier\n",
    "      {(?P<braced>[_a-z][_a-z0-9]*)}   |   # delimiter and a braced identifier\n",
    "      (?P<invalid>)              # Other ill-formed delimiter exprs\n",
    "    )\n",
    "    '''\n",
    "\n",
    "class TemplateAlternative(Template):\n",
    "    delimiter = '[-'\n",
    "    pattern = r'''\n",
    "    \\[-(?:\n",
    "       (?P<escaped>-) |            # Expression [-- will become [-\n",
    "       (?P<named>[^\\[\\]\\n-]+)-\\] | # -, [, ], and \\n can't be used in names\n",
    "       \\b\\B(?P<braced>) |          # Braced names disabled\n",
    "       (?P<invalid>)               #\n",
    "    )\n",
    "    '''\n",
    "\n",
    "t = TemplateClone(\"$hi sir\")\n",
    "print(t.substitute({\"hi\": \"hello\"}))\n",
    "print()\n",
    "ta = TemplateAlternative(\"[-hi-] sir\")\n",
    "print(ta.substitute({\"hi\": \"have a nice day\"}))\n",
    "print()\n",
    "ta = TemplateAlternative(\"[--[-hi-]-]\")\n",
    "print(ta.substitute({\"hi\": \"have a nice day\"}))"
   ]
  },
  {
   "cell_type": "code",
   "execution_count": null,
   "metadata": {
    "collapsed": true,
    "deletable": true,
    "editable": true
   },
   "outputs": [],
   "source": []
  }
 ],
 "metadata": {
  "anaconda-cloud": {},
  "kernelspec": {
   "display_name": "Python 3",
   "language": "python",
   "name": "python3"
  },
  "language_info": {
   "codemirror_mode": {
    "name": "ipython",
    "version": 3
   },
   "file_extension": ".py",
   "mimetype": "text/x-python",
   "name": "python",
   "nbconvert_exporter": "python",
   "pygments_lexer": "ipython3",
   "version": "3.6.0"
  }
 },
 "nbformat": 4,
 "nbformat_minor": 1
}
