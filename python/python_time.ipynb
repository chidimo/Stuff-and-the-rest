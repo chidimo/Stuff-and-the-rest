{
 "cells": [
  {
   "cell_type": "code",
   "execution_count": null,
   "metadata": {},
   "outputs": [],
   "source": [
    "import time\n",
    "time.time()"
   ]
  },
  {
   "cell_type": "code",
   "execution_count": null,
   "metadata": {
    "collapsed": true
   },
   "outputs": [],
   "source": [
    "import time\n",
    "def calcProd():\n",
    "    pro = 1\n",
    "    for i in range(1, 100000):\n",
    "        pro *= i\n",
    "    return pro"
   ]
  },
  {
   "cell_type": "code",
   "execution_count": null,
   "metadata": {},
   "outputs": [],
   "source": [
    "start = time.time()\n",
    "prod = calcProd()\n",
    "end = time.time()\n",
    "print(end-start)\n",
    "print(len(str(prod)))\n",
    "print(prod)"
   ]
  },
  {
   "cell_type": "code",
   "execution_count": null,
   "metadata": {},
   "outputs": [],
   "source": [
    "import time\n",
    "now = time.time()\n",
    "print(now)\n",
    "print(round(now, 2))\n",
    "print(round(now, 5))"
   ]
  },
  {
   "cell_type": "code",
   "execution_count": null,
   "metadata": {},
   "outputs": [],
   "source": [
    "# stopwatch.py\n",
    "\n",
    "import time\n",
    "print('Press ENTER to begin. Afterwards, press ENTER to \"click\" the stopwatch')\n",
    "print('Press Ctrl+C to quit. ')\n",
    "\n",
    "input()\n",
    "print('Started')\n",
    "start_time = time.time()\n",
    "last_time = start_time\n",
    "lap_num = 1\n",
    "\n",
    "# start tracking lap times\n",
    "\n",
    "print('{:^10} {:^10} {:^10}'.format('Lap No.', 'Lap time', 'Total time'))\n",
    "\n",
    "try:\n",
    "    while True:\n",
    "        input()\n",
    "        lap_time = round(time.time() - last_time, 2)\n",
    "        total_time = round(time.time() - start_time, 2)\n",
    "        print('Lap #: {:^10} {:^10} {:^10}'.format(lap_num, total_time, lap_time), end= '')\n",
    "        lap_num += 1\n",
    "        last_time = time.time() # reset last lap time\n",
    "        \n",
    "except KeyboardInterrupt:\n",
    "    print('\\nDone')"
   ]
  },
  {
   "cell_type": "code",
   "execution_count": null,
   "metadata": {},
   "outputs": [],
   "source": [
    "import datetime\n",
    "dt = datetime.datetime.now()"
   ]
  },
  {
   "cell_type": "code",
   "execution_count": null,
   "metadata": {},
   "outputs": [],
   "source": [
    "import time\n",
    "now = time.time()\n",
    "datetime.datetime.fromtimestamp(now)"
   ]
  },
  {
   "cell_type": "code",
   "execution_count": null,
   "metadata": {},
   "outputs": [],
   "source": [
    "xmas15 = datetime.datetime(2015, 12, 25, 0, 0, 0)\n",
    "xmas16 = datetime.datetime(2016, 12, 25, 1, 0, 0)\n",
    "dec25 = datetime.datetime(2015, 12, 25, 0, 0, 0)\n",
    "\n",
    "print(xmas15==dec25)\n",
    "print(xmas15 > xmas16)\n",
    "print(xmas16!=dec25)"
   ]
  },
  {
   "cell_type": "code",
   "execution_count": null,
   "metadata": {},
   "outputs": [],
   "source": [
    "delta = datetime.timedelta(days=11, hours=10, minutes=9, seconds=8)\n",
    "print(delta.days, delta.seconds, delta.microseconds)\n",
    "print(delta.total_seconds())"
   ]
  },
  {
   "cell_type": "code",
   "execution_count": null,
   "metadata": {},
   "outputs": [],
   "source": [
    "str(delta)"
   ]
  },
  {
   "cell_type": "code",
   "execution_count": null,
   "metadata": {},
   "outputs": [],
   "source": [
    "thousandDays = datetime.timedelta(days=365)\n",
    "datetime.datetime.now() + thousandDays"
   ]
  },
  {
   "cell_type": "code",
   "execution_count": null,
   "metadata": {},
   "outputs": [],
   "source": [
    "oct21=datetime.datetime(2015, 10, 21, 16, 29, 0)\n",
    "thirtyyears = datetime.timedelta(days=365*30)\n",
    "print(oct21)\n",
    "print(oct21-thirtyyears)\n",
    "print(oct21-2*thirtyyears)"
   ]
  },
  {
   "cell_type": "code",
   "execution_count": null,
   "metadata": {
    "collapsed": true
   },
   "outputs": [],
   "source": [
    "dt=datetime.datetime.now()"
   ]
  },
  {
   "cell_type": "code",
   "execution_count": null,
   "metadata": {},
   "outputs": [],
   "source": [
    "dt.strftime('%Y:%B:%d:%A:%p')"
   ]
  },
  {
   "cell_type": "code",
   "execution_count": null,
   "metadata": {},
   "outputs": [],
   "source": [
    "datetime.datetime.strptime('October 21, 2015', '%B %d, %Y')"
   ]
  },
  {
   "cell_type": "code",
   "execution_count": null,
   "metadata": {},
   "outputs": [],
   "source": [
    "import threading, time\n",
    "print('Start of Program')\n",
    "\n",
    "def take_nap():\n",
    "    time.sleep(15)\n",
    "    print('wake up')\n",
    "    \n",
    "thread_obj = threading.Thread(target=take_nap)\n",
    "thread_obj.start()\n",
    "print('end of program')"
   ]
  },
  {
   "cell_type": "code",
   "execution_count": null,
   "metadata": {
    "collapsed": true
   },
   "outputs": [],
   "source": [
    "import subprocess"
   ]
  },
  {
   "cell_type": "code",
   "execution_count": null,
   "metadata": {
    "collapsed": true
   },
   "outputs": [],
   "source": [
    "calc = subprocess.Popen('C:\\\\Windows\\\\System32\\\\calc.exe')"
   ]
  },
  {
   "cell_type": "code",
   "execution_count": null,
   "metadata": {},
   "outputs": [],
   "source": [
    "calc.poll() ==None"
   ]
  },
  {
   "cell_type": "code",
   "execution_count": null,
   "metadata": {},
   "outputs": [],
   "source": [
    "calc.wait()\n",
    "print('chidi')"
   ]
  },
  {
   "cell_type": "code",
   "execution_count": null,
   "metadata": {},
   "outputs": [],
   "source": [
    "subprocess.Popen([r'C:\\Program Files\\Microsoft Office\\root\\Office16\\winword.exe', 'chidi.docx'])"
   ]
  },
  {
   "cell_type": "code",
   "execution_count": null,
   "metadata": {},
   "outputs": [],
   "source": [
    "f = open('book.txt', 'w')\n",
    "f.write('Hellow wordl')\n",
    "f.close()\n",
    "subprocess.Popen(['start', 'book.txt'], shell=True)"
   ]
  },
  {
   "cell_type": "code",
   "execution_count": null,
   "metadata": {},
   "outputs": [],
   "source": [
    "import time\n",
    "time.time()"
   ]
  },
  {
   "cell_type": "code",
   "execution_count": 2,
   "metadata": {},
   "outputs": [],
   "source": [
    "import docx"
   ]
  },
  {
   "cell_type": "code",
   "execution_count": null,
   "metadata": {
    "collapsed": true
   },
   "outputs": [],
   "source": []
  }
 ],
 "metadata": {
  "anaconda-cloud": {},
  "kernelspec": {
   "display_name": "Python 3",
   "language": "python",
   "name": "python3"
  },
  "language_info": {
   "codemirror_mode": {
    "name": "ipython",
    "version": 3
   },
   "file_extension": ".py",
   "mimetype": "text/x-python",
   "name": "python",
   "nbconvert_exporter": "python",
   "pygments_lexer": "ipython3",
   "version": "3.7.3"
  }
 },
 "nbformat": 4,
 "nbformat_minor": 1
}
