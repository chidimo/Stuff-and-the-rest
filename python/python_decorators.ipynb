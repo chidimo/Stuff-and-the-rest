{
 "cells": [
  {
   "cell_type": "markdown",
   "metadata": {},
   "source": []
  },
  {
   "cell_type": "code",
   "execution_count": 1,
   "metadata": {
    "collapsed": true
   },
   "outputs": [],
   "source": [
    "def getTalk(type=\"shout\"):\n",
    "\n",
    "    # We define functions on the fly\n",
    "    def shout(word=\"yes\"):\n",
    "        return word.capitalize()+\"!\"\n",
    "\n",
    "    def whisper(word=\"yes\") :\n",
    "        return word.lower()+\"...\";\n",
    "\n",
    "    # Then we return one of them\n",
    "    if type == \"shout\":\n",
    "        # We don't use \"()\", we are not calling the function,\n",
    "        # we are returning the function object\n",
    "        return shout  \n",
    "    else:\n",
    "        return whisper"
   ]
  },
  {
   "cell_type": "code",
   "execution_count": 2,
   "metadata": {
    "collapsed": true
   },
   "outputs": [],
   "source": [
    "talk = getTalk()"
   ]
  },
  {
   "cell_type": "code",
   "execution_count": 3,
   "metadata": {},
   "outputs": [
    {
     "name": "stdout",
     "output_type": "stream",
     "text": [
      "<function getTalk.<locals>.shout at 0x000001B7E9520400>\n"
     ]
    }
   ],
   "source": [
    "print(talk)"
   ]
  },
  {
   "cell_type": "code",
   "execution_count": 4,
   "metadata": {},
   "outputs": [
    {
     "name": "stdout",
     "output_type": "stream",
     "text": [
      "yes...\n"
     ]
    }
   ],
   "source": [
    "print(getTalk('whisper')())"
   ]
  },
  {
   "cell_type": "code",
   "execution_count": 5,
   "metadata": {},
   "outputs": [
    {
     "name": "stdout",
     "output_type": "stream",
     "text": [
      "I do something before then I call the function you gave me\n",
      "hello first func\n"
     ]
    }
   ],
   "source": [
    "def done():\n",
    "    print('hello first func')\n",
    "    \n",
    "\n",
    "def doSomethingBefore(func): \n",
    "    print(\"I do something before then I call the function you gave me\")\n",
    "    func()\n",
    "\n",
    "doSomethingBefore(done)    "
   ]
  },
  {
   "cell_type": "code",
   "execution_count": 6,
   "metadata": {},
   "outputs": [],
   "source": [
    "def bread(func):\n",
    "    def wrapper():\n",
    "        print(\"</''''''\\>\")\n",
    "        func()\n",
    "        print(\"<\\______/>\")\n",
    "    return wrapper\n",
    "\n",
    "def ingredients(func):\n",
    "    def wrapper():\n",
    "        print(\"#tomatoes#\")\n",
    "        func()\n",
    "        print(\"~salad~\")\n",
    "    return wrapper\n",
    "\n",
    "@bread\n",
    "# @ingredients\n",
    "@bread\n",
    "def sandwich(food=\"--hum--\"):\n",
    "    print(food)"
   ]
  },
  {
   "cell_type": "code",
   "execution_count": 7,
   "metadata": {},
   "outputs": [
    {
     "name": "stdout",
     "output_type": "stream",
     "text": [
      "</''''''\\>\n",
      "</''''''\\>\n",
      "--hum--\n",
      "<\\______/>\n",
      "<\\______/>\n"
     ]
    }
   ],
   "source": [
    "sandwich()"
   ]
  }
 ],
 "metadata": {
  "kernelspec": {
   "display_name": "Python 3",
   "language": "python",
   "name": "python3"
  },
  "language_info": {
   "codemirror_mode": {
    "name": "ipython",
    "version": 3
   },
   "file_extension": ".py",
   "mimetype": "text/x-python",
   "name": "python",
   "nbconvert_exporter": "python",
   "pygments_lexer": "ipython3",
   "version": "3.7.3"
  }
 },
 "nbformat": 4,
 "nbformat_minor": 2
}
