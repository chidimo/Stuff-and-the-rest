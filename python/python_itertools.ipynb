{
 "cells": [
  {
   "cell_type": "markdown",
   "metadata": {},
   "source": [
    "# Combinatorial generators"
   ]
  },
  {
   "cell_type": "code",
   "execution_count": 2,
   "metadata": {},
   "outputs": [],
   "source": [
    "from itertools import *\n",
    "horses = [1, 2, 3, 4]\n",
    "races = permutations(horses, 2)\n",
    "\n",
    "for i in list(races):\n",
    "    pass\n",
    "    #print(i)"
   ]
  },
  {
   "cell_type": "code",
   "execution_count": 3,
   "metadata": {},
   "outputs": [],
   "source": [
    "k = combinations(horses, 2)\n",
    "for j in k:\n",
    "    pass\n",
    "    #print(j)"
   ]
  },
  {
   "cell_type": "code",
   "execution_count": 4,
   "metadata": {},
   "outputs": [],
   "source": [
    "s = combinations_with_replacement(horses, 2) # repetition allowed\n",
    "for j in s:\n",
    "    pass\n",
    "    #print(j)"
   ]
  },
  {
   "cell_type": "code",
   "execution_count": 5,
   "metadata": {},
   "outputs": [],
   "source": [
    "m = product(horses, repeat = 2)\n",
    "for i in m:\n",
    "    pass\n",
    "    #print(i)"
   ]
  },
  {
   "cell_type": "markdown",
   "metadata": {},
   "source": [
    "# Infinite Iterators - count, cycle, repeat"
   ]
  },
  {
   "cell_type": "code",
   "execution_count": 6,
   "metadata": {},
   "outputs": [],
   "source": [
    "c = count(10) # with step value of 1\n",
    "\n",
    "for i in c:\n",
    "    #print(i)\n",
    "    if i == 15:\n",
    "        break"
   ]
  },
  {
   "cell_type": "code",
   "execution_count": 7,
   "metadata": {},
   "outputs": [],
   "source": [
    "c = count(0, 100) # with step value of 100\n",
    "\n",
    "for i in c:\n",
    "    #print(i)\n",
    "    if i >= 1000:\n",
    "        break"
   ]
  },
  {
   "cell_type": "code",
   "execution_count": 53,
   "metadata": {},
   "outputs": [],
   "source": [
    "cy = cycle(horses) # cycles through every element in the list repeatedly\n",
    "c = count(1)\n",
    "\n",
    "for i, j in zip(cy, c):\n",
    "    #print('cycle {0}, --- count {1}'.format(i, j))\n",
    "    if j >= 40:\n",
    "        break\n",
    "    "
   ]
  },
  {
   "cell_type": "code",
   "execution_count": 138,
   "metadata": {},
   "outputs": [
    {
     "name": "stdout",
     "output_type": "stream",
     "text": [
      "[1, 2, 3, 4]\n",
      "[1, 2, 3, 4]\n",
      "[1, 2, 3, 4]\n",
      "[1, 2, 3, 4]\n"
     ]
    }
   ],
   "source": [
    "times = 4\n",
    "obj = horses\n",
    "r = repeat(obj, times)\n",
    "for i in r:\n",
    "    #pass\n",
    "    print(i)"
   ]
  },
  {
   "cell_type": "code",
   "execution_count": 152,
   "metadata": {},
   "outputs": [
    {
     "data": {
      "text/plain": [
       "[1, 1, 4, 27, 256]"
      ]
     },
     "execution_count": 152,
     "metadata": {},
     "output_type": "execute_result"
    }
   ],
   "source": [
    "# map applies the pow function to the elements of the list in parallel\n",
    "list(map(pow, range(5), repeat(3)))\n",
    "\n",
    "\n",
    "list(map(pow, range(5), range(5)))"
   ]
  },
  {
   "cell_type": "code",
   "execution_count": 143,
   "metadata": {},
   "outputs": [
    {
     "data": {
      "text/plain": [
       "<map at 0x27e54ec0828>"
      ]
     },
     "execution_count": 143,
     "metadata": {},
     "output_type": "execute_result"
    }
   ],
   "source": [
    "map(pow, range(10), repeat(2))"
   ]
  },
  {
   "cell_type": "markdown",
   "metadata": {
    "collapsed": true
   },
   "source": [
    "# Iterators terminating on the shortest input sequence"
   ]
  },
  {
   "cell_type": "markdown",
   "metadata": {},
   "source": [
    "accumulate(iterable, function)\n",
    "reduce does the same thing but returns only the FINAL value"
   ]
  },
  {
   "cell_type": "code",
   "execution_count": 4,
   "metadata": {},
   "outputs": [
    {
     "name": "stdout",
     "output_type": "stream",
     "text": [
      "<class 'itertools.accumulate'>\n",
      "Iterators terminating on the shortest input sequence\n"
     ]
    }
   ],
   "source": [
    "sentence = 'Iterators terminating on the shortest input sequence'\n",
    "words = sentence.split()\n",
    "\n",
    "def concat_words(word1, word2):\n",
    "    return word1 + ' ' + word2\n",
    "\n",
    "a = accumulate(words, concat_words)\n",
    "print(type(a))\n",
    "print(list(a)[-1])"
   ]
  },
  {
   "cell_type": "markdown",
   "metadata": {
    "collapsed": true
   },
   "source": [
    "Taylor series for 1/(1-x) using accumulator.\n",
    "Practically any series can be accumulated this way. Simply generate the terms of the series up to n points, then accumulate."
   ]
  },
  {
   "cell_type": "code",
   "execution_count": null,
   "metadata": {
    "collapsed": true
   },
   "outputs": [],
   "source": [
    "n = 20\n",
    "x = 0.01\n",
    "seq = [x**n for i in range(n)]\n",
    "series = accumulate(seq, lambda x, y: x+y)\n",
    "\n",
    "print(seq)\n",
    "print(list(series))"
   ]
  },
  {
   "cell_type": "markdown",
   "metadata": {},
   "source": [
    "chain(list of iterables)\n",
    "returns an iterator that continually returns elements from input iterables. each iterable is exausted before moving on to the next one. very much like a union of lists"
   ]
  },
  {
   "cell_type": "code",
   "execution_count": 4,
   "metadata": {},
   "outputs": [
    {
     "name": "stdout",
     "output_type": "stream",
     "text": [
      "returns chained inputs from MULTIPLE iterable argument\n",
      "['a', 'b', 'c', 'd', 'e', 'f', 2, 4, 6]\n",
      "{'e', 2, 'a', 4, 'f', 6, 'c', 'd', 'b'}\n",
      "['a', 'b', 'c', 'a', 'a', 'f', 2, 4, 6]\n",
      "{2, 'a', 4, 'f', 6, 'c', 'b'}\n",
      "-------------- alternative constructor --------\n",
      "returns chained inputs from a SINGLE iterable argument\n",
      "['a', 'b', 'a', 'c', 'c', 'e']\n",
      "{'c', 'e', 'a', 'b'}\n",
      "('a', 'b', 'a', 'c', 'c', 'e')\n"
     ]
    }
   ],
   "source": [
    "print('returns chained inputs from MULTIPLE iterable argument')\n",
    "\n",
    "print(list(chain('abc', 'def', [2, 4, 6])))\n",
    "print(set(chain('abc', 'def', [2, 4, 6])))\n",
    "print(list(chain('abc', 'aaf', [2, 4, 6])))\n",
    "print(set(chain('abc', 'aaf', [2, 4, 6])))\n",
    "print('-------------- alternative constructor --------')\n",
    "print('returns chained inputs from a SINGLE iterable argument')\n",
    "print(list(chain.from_iterable(['abacce'])))\n",
    "print(set(chain.from_iterable(['abacce'])))\n",
    "print(tuple(chain.from_iterable(['abacce'])))"
   ]
  },
  {
   "cell_type": "code",
   "execution_count": 5,
   "metadata": {},
   "outputs": [
    {
     "name": "stdout",
     "output_type": "stream",
     "text": [
      "['a', 'b', 'c', 'd', 'e', 'f', 2, 4, 6]\n"
     ]
    }
   ],
   "source": [
    "list_things = ['abc', 'def', [2, 4, 6]]\n",
    "print(list(chain.from_iterable(list_things)))"
   ]
  },
  {
   "cell_type": "markdown",
   "metadata": {},
   "source": [
    "compress(list_a, list_b)\n",
    "filters the first iterable based on the second iterable. retains an element in the first iterable if its corresponding element in the second evaluates to True"
   ]
  },
  {
   "cell_type": "code",
   "execution_count": 49,
   "metadata": {},
   "outputs": [
    {
     "name": "stdout",
     "output_type": "stream",
     "text": [
      "['A', 'C', 'E', 'F']\n",
      "[1, 0, 1, 0, 1, 1]\n",
      "[1, 0, 1, 0, 1, 1]\n",
      "[1, 0, 1, 0, 1]\n",
      "[1, 0, 1]\n"
     ]
    }
   ],
   "source": [
    "print(list(compress('ABCDEF', [1,0,1,0,1,1])))\n",
    "print(list(compress([1,0,1,0,1,1], 'ABCDEF')))\n",
    "print(list(compress([1,0,1,0,1,1], 'A    F'))) # though the boolean value of a SOLITARY empty string is False\n",
    "print(list(compress([1,0,1,0,1,1], 'A    '))) # empty spaces within strings evaluate to True\n",
    "print(list(compress([1,0,1,0,1,1], 'A  ')))"
   ]
  },
  {
   "cell_type": "markdown",
   "metadata": {},
   "source": [
    "dropwhile(predicate, iterable)\n",
    "just like a filtering operation. drop individual item from iterable based on condition specified in function and returns what remains"
   ]
  },
  {
   "cell_type": "code",
   "execution_count": 55,
   "metadata": {},
   "outputs": [
    {
     "name": "stdout",
     "output_type": "stream",
     "text": [
      "[6, 4, 1]\n"
     ]
    }
   ],
   "source": [
    "print(list(dropwhile(lambda x: x<5, [1,4,6,4,1])))"
   ]
  },
  {
   "cell_type": "markdown",
   "metadata": {},
   "source": [
    "filterfalse(predicate, iterable).\n",
    "literally \"filter out the values that evaluate to False on the test. those are what we need\"\n",
    "subjects each element of iterable to predicate test. returns a list of all items which evaluates to False\n",
    "if predicate is None (no test), return items in the iterable that are false"
   ]
  },
  {
   "cell_type": "code",
   "execution_count": 59,
   "metadata": {},
   "outputs": [
    {
     "name": "stdout",
     "output_type": "stream",
     "text": [
      "[0, 2, 4, 6, 8]\n",
      "[0]\n",
      "[0, 0, 0]\n"
     ]
    }
   ],
   "source": [
    "print(list(filterfalse(lambda x: x%2, range(10))))\n",
    "print(list(filterfalse(None, range(10))))\n",
    "print(list(filterfalse(None, [0, 1, 2, 0, 3, 12,0])))"
   ]
  },
  {
   "cell_type": "markdown",
   "metadata": {},
   "source": [
    "groupby(iterable, key=None  or some func)\n",
    "takes list of iterables and groups them based on specified key. the key specifies what action to apply to individual iterable, the result of which is then used as the heading for grouping the items.\n",
    "items which end up having same value for key will end up in the same group\n",
    "ALWAYS SORT ITEMS WITH SAME KEY TO BE USED FOR GROUPING SO AS TO AVOID UNEXPECTED RESULTS"
   ]
  },
  {
   "cell_type": "code",
   "execution_count": 65,
   "metadata": {},
   "outputs": [
    {
     "data": {
      "text/plain": [
       "['A', 'B', 'C', 'D', 'A', 'B']"
      ]
     },
     "execution_count": 65,
     "metadata": {},
     "output_type": "execute_result"
    }
   ],
   "source": [
    "[k for k, g in groupby('AAAABBBCCDAABBB')]"
   ]
  },
  {
   "cell_type": "code",
   "execution_count": 62,
   "metadata": {},
   "outputs": [
    {
     "data": {
      "text/plain": [
       "[['A', 'A', 'A', 'A'], ['B', 'B', 'B'], ['C', 'C'], ['D']]"
      ]
     },
     "execution_count": 62,
     "metadata": {},
     "output_type": "execute_result"
    }
   ],
   "source": [
    "[list(g) for k, g in groupby('AAAABBBCCD')]"
   ]
  },
  {
   "cell_type": "code",
   "execution_count": 8,
   "metadata": {},
   "outputs": [
    {
     "data": {
      "text/plain": [
       "{'A': ['A', 'A', 'A', 'A'], 'B': ['B', 'B', 'B'], 'C': ['C', 'C'], 'D': ['D']}"
      ]
     },
     "execution_count": 8,
     "metadata": {},
     "output_type": "execute_result"
    }
   ],
   "source": [
    "from itertools import groupby\n",
    "c=groupby('AAAABBBCCD')\n",
    "dic = {}\n",
    "for k, v in c:\n",
    "    dic[k] = list(v)\n",
    "dic"
   ]
  },
  {
   "cell_type": "code",
   "execution_count": 6,
   "metadata": {},
   "outputs": [
    {
     "data": {
      "text/plain": [
       "{1: [1, 1],\n",
       " 2: [2],\n",
       " 3: [3],\n",
       " ('persons', 'man', 'woman'): [('persons', 'man', 'woman')],\n",
       " 'cow': ['cow'],\n",
       " 'dog': ['dog'],\n",
       " 10: [10],\n",
       " 11: [11],\n",
       " 'goat': ['goat']}"
      ]
     },
     "execution_count": 6,
     "metadata": {},
     "output_type": "execute_result"
    }
   ],
   "source": [
    "# Notice here that the tuple as a whole counts as one key in this list\n",
    "c = groupby(['goat', 'dog', 'cow', 1, 1, 2, 3, 11, 10, ('persons', 'man', 'woman')])\n",
    "dic = {}\n",
    "for k, v in c:\n",
    "    dic[k] = list(v)\n",
    "dic"
   ]
  },
  {
   "cell_type": "code",
   "execution_count": 119,
   "metadata": {},
   "outputs": [
    {
     "data": {
      "text/plain": [
       "{'c': ['camel'],\n",
       " 'd': ['dog', 'donkey'],\n",
       " 'g': ['goat'],\n",
       " 'm': ['mongoose', 'malloo'],\n",
       " 'persons': [('persons', 'man', 'woman')],\n",
       " 'w': ['wombat']}"
      ]
     },
     "execution_count": 119,
     "metadata": {},
     "output_type": "execute_result"
    }
   ],
   "source": [
    "# notice here that mulato and camel doesn't show up. only the last element with a certain key shows up, like replacing\n",
    "# earlier ones. but watch the new version where I have the data sorted first on same key\n",
    "# the last result for c actually wipes out two previous results.\n",
    "list_things = ['goat', 'dog', 'donkey', 'mulato', 'cow', 'cat', ('persons', 'man', 'woman'), \\\n",
    "               'wombat', 'mongoose', 'malloo', 'camel']\n",
    "c = groupby(list_things, key=lambda x: x[0])\n",
    "dic = {}\n",
    "for k, v in c:\n",
    "    dic[k] = list(v)\n",
    "dic"
   ]
  },
  {
   "cell_type": "code",
   "execution_count": 122,
   "metadata": {},
   "outputs": [
    {
     "name": "stdout",
     "output_type": "stream",
     "text": [
      "['cow', 'cat', 'camel', 'dog', 'donkey', 'goat', 'mulato', 'mongoose', 'malloo', ('persons', 'man', 'woman'), 'wombat']\n",
      "\n"
     ]
    },
    {
     "data": {
      "text/plain": [
       "{'c': ['cow', 'cat', 'camel'],\n",
       " 'd': ['dog', 'donkey'],\n",
       " 'g': ['goat'],\n",
       " 'm': ['mulato', 'mongoose', 'malloo'],\n",
       " 'persons': [('persons', 'man', 'woman')],\n",
       " 'w': ['wombat']}"
      ]
     },
     "execution_count": 122,
     "metadata": {},
     "output_type": "execute_result"
    }
   ],
   "source": [
    "list_things = ['goat', 'dog', 'donkey', 'mulato', 'cow', 'cat', ('persons', 'man', 'woman'), \\\n",
    "               'wombat', 'mongoose', 'malloo', 'camel']\n",
    "sorted_list = sorted(list_things, key = lambda x: x[0])\n",
    "print(sorted_list)\n",
    "print()\n",
    "c = groupby(sorted_list, key=lambda x: x[0])\n",
    "dic = {}\n",
    "for k, v in c:\n",
    "    dic[k] = list(v)\n",
    "dic"
   ]
  },
  {
   "cell_type": "code",
   "execution_count": 126,
   "metadata": {},
   "outputs": [
    {
     "data": {
      "text/plain": [
       "{'animal': [('animal', 'bear'), ('animal', 'duck')],\n",
       " 'plant': [('plant', 'cactus')],\n",
       " 'vehicle': [('vehicle', 'harley'),\n",
       "  ('vehicle', 'speed boat'),\n",
       "  ('vehicle', 'school bus')]}"
      ]
     },
     "execution_count": 126,
     "metadata": {},
     "output_type": "execute_result"
    }
   ],
   "source": [
    "things = [(\"animal\", \"bear\"), (\"animal\", \"duck\"), (\"plant\", \"cactus\"), (\"vehicle\", \"harley\"), \\\n",
    "          (\"vehicle\", \"speed boat\"), (\"vehicle\", \"school bus\")]\n",
    "dic = {}\n",
    "f = lambda x: x[0]\n",
    "for key, group in groupby(sorted(things, key=f), f):\n",
    "    dic[key] = list(group)\n",
    "dic"
   ]
  },
  {
   "cell_type": "code",
   "execution_count": 127,
   "metadata": {},
   "outputs": [
    {
     "data": {
      "text/plain": [
       "{'animal': [['animal', 'bear'], ['animal', 'duck']],\n",
       " 'plant': [['plant', 'cactus']],\n",
       " 'vehicle': [['vehicle', 'harley'],\n",
       "  ['vehicle', 'speed boat'],\n",
       "  ['vehicle', 'school bus']]}"
      ]
     },
     "execution_count": 127,
     "metadata": {},
     "output_type": "execute_result"
    }
   ],
   "source": [
    "things = [[\"animal\", \"bear\"], [\"animal\", \"duck\"], [\"vehicle\", \"harley\"], [\"plant\", \"cactus\"], \\\n",
    "          [\"vehicle\", \"speed boat\"], [\"vehicle\", \"school bus\"]]\n",
    "dic = {}\n",
    "f = lambda x: x[0]\n",
    "for key, group in groupby(sorted(things, key=f), f):\n",
    "    dic[key] = list(group)\n",
    "dic"
   ]
  },
  {
   "cell_type": "markdown",
   "metadata": {},
   "source": [
    "islice(iterable, stop)\n",
    "islice(iterable, start, stop[, step])\n",
    "unlike regular slicing, doesn't support negative values for any of start, stop, or step"
   ]
  },
  {
   "cell_type": "code",
   "execution_count": 134,
   "metadata": {},
   "outputs": [
    {
     "name": "stdout",
     "output_type": "stream",
     "text": [
      "[('animal', 'bear'), ('animal', 'duck'), ('plant', 'cactus')]\n",
      "[('animal', 'duck'), ('plant', 'cactus')]\n",
      "[('animal', 'bear'), ('plant', 'cactus'), ('vehicle', 'speed boat')]\n"
     ]
    }
   ],
   "source": [
    "things = [(\"animal\", \"bear\"), (\"animal\", \"duck\"), (\"plant\", \"cactus\"), (\"vehicle\", \"harley\"), \\\n",
    "          (\"vehicle\", \"speed boat\"), (\"vehicle\", \"school bus\")]\n",
    "\n",
    "c = islice(things, 3)\n",
    "print(list(islice(things, 3)))\n",
    "print(list(islice(things,1, 3)))\n",
    "print(list(islice(things, 0, None, 2)))"
   ]
  },
  {
   "cell_type": "markdown",
   "metadata": {},
   "source": [
    "starmap(function, iterable)\n",
    "used when arguments have been pre-zipped into tuples"
   ]
  },
  {
   "cell_type": "code",
   "execution_count": 153,
   "metadata": {},
   "outputs": [
    {
     "data": {
      "text/plain": [
       "<itertools.starmap at 0x27e54eb9048>"
      ]
     },
     "execution_count": 153,
     "metadata": {},
     "output_type": "execute_result"
    }
   ],
   "source": [
    "starmap(pow, [(2,5), (3,2), (10,3)])"
   ]
  },
  {
   "cell_type": "markdown",
   "metadata": {},
   "source": [
    "takewhile(predicate, iterable)\n",
    "returns elements from the iterable as long as the predicate is true. breaks the operation immediately a false case is encountered"
   ]
  },
  {
   "cell_type": "code",
   "execution_count": 157,
   "metadata": {},
   "outputs": [
    {
     "name": "stdout",
     "output_type": "stream",
     "text": [
      "[1, 4]\n",
      "[1, 4, 4]\n"
     ]
    }
   ],
   "source": [
    "print(list(takewhile(lambda x: x<5, [1,4,6,4,1])))\n",
    "print(list(takewhile(lambda x: x<5, [1,4,4,6,4,1])))"
   ]
  },
  {
   "cell_type": "markdown",
   "metadata": {},
   "source": [
    "tee(iterable, n=2)\n",
    "return n independent iterators from a single iterable"
   ]
  },
  {
   "cell_type": "markdown",
   "metadata": {},
   "source": [
    "zip_longest(*args, **kwds)\n",
    "performs zip based on the longest of two iterables"
   ]
  },
  {
   "cell_type": "code",
   "execution_count": 162,
   "metadata": {},
   "outputs": [
    {
     "name": "stdout",
     "output_type": "stream",
     "text": [
      "[('A', 'x'), ('B', 'y'), ('C', 'ee'), ('D', 'ee')]\n"
     ]
    }
   ],
   "source": [
    "print(list(zip_longest('ABCD', 'xy', fillvalue='ee')))"
   ]
  },
  {
   "cell_type": "code",
   "execution_count": null,
   "metadata": {
    "collapsed": true
   },
   "outputs": [],
   "source": []
  }
 ],
 "metadata": {
  "anaconda-cloud": {},
  "kernelspec": {
   "display_name": "Python 3",
   "language": "python",
   "name": "python3"
  },
  "language_info": {
   "codemirror_mode": {
    "name": "ipython",
    "version": 3
   },
   "file_extension": ".py",
   "mimetype": "text/x-python",
   "name": "python",
   "nbconvert_exporter": "python",
   "pygments_lexer": "ipython3",
   "version": "3.6.4"
  }
 },
 "nbformat": 4,
 "nbformat_minor": 1
}
