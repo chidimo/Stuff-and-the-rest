{
 "cells": [
  {
   "cell_type": "markdown",
   "metadata": {
    "deletable": true,
    "editable": true
   },
   "source": [
    "## Resources\n",
    "\n",
    "https://pymotw.com/3/inspect/index.html\n",
    "\n",
    "https://docs.python.org/3.5/library/inspect.html"
   ]
  },
  {
   "cell_type": "markdown",
   "metadata": {
    "deletable": true,
    "editable": true
   },
   "source": [
    "There are four main kinds of services provided by this module: type checking, getting source code, inspecting classes and functions, and examining the interpreter stack."
   ]
  },
  {
   "cell_type": "code",
   "execution_count": null,
   "metadata": {
    "collapsed": false,
    "deletable": true,
    "editable": true
   },
   "outputs": [],
   "source": [
    "# class animals(): # abstract base class for animals\n",
    "#     attributes : non-rational, communicates, \n",
    "\n",
    "\n",
    "# This module contains random collection of classes meant for example only\n",
    "\n",
    "\"\"\"This module has four classes and one function. The function is\n",
    "loaded by default when called from command line\"\"\"\n",
    "\n",
    "class Tea(object):\n",
    "    def __init__(self, name):\n",
    "        self.name = name\n",
    "        \n",
    "    def get_tea_name(self):\n",
    "        return self.name\n",
    "       \n",
    "class Milk(object):\n",
    "    def __init__(self, name):\n",
    "        self.name = name\n",
    "        \n",
    "    def get_milk_name(self):\n",
    "        return self.name\n",
    "\n",
    "    \n",
    "class Make_tea(Tea):\n",
    "    capacity = 0.5\n",
    "        \n",
    "    def add_tea(self, no_of_spoons, name):\n",
    "        self.no_of_spoons = no_of_spoons\n",
    "        print('{} spoons of {} tea added to cup'.format(self.no_of_spoons, name))\n",
    "        \n",
    "    def add_milk(self, no_of_spoons, name):\n",
    "        self.no_of_spoons = no_of_spoons\n",
    "        print('{} spoons of {} milk added to cup'.format(self.no_of_spoons, name))\n",
    "        \n",
    "    def add_water(self, no_of_liters):\n",
    "        \n",
    "        if no_of_liters < self.capacity:\n",
    "            self.no_of_liters = no_of_liters\n",
    "            no_of_liters += no_of_liters\n",
    "            \n",
    "            print('{} liter of water added to cup'.format(self.no_of_liters))\n",
    "            \n",
    "        else:\n",
    "            print('Cup already full\\n Please get another cup')\n",
    "\n",
    "# this is a car class. What type of car do you have? \n",
    "class cars(object):\n",
    "    \n",
    "    \"\"\"This is a class of cars\"\"\"\n",
    "    def __init__(self, name):\n",
    "        self.name = name\n",
    "        \n",
    "    def set_model(self, model):\n",
    "        self.model = model\n",
    "        \n",
    "    def get_model(self):\n",
    "        return self.model\n",
    "    \n",
    "    def horn(self):\n",
    "        print('Honk! Honk!! Honk!!!')\n",
    "        return True\n",
    "\n",
    "def module_func(x, z=None, *args, **kwargs):\n",
    "    print('This is a test function defined in the top level module')\n",
    "    y = z + 'advanced'\n",
    "    return y\n",
    "    \n",
    "if __name__ == '__main__':\n",
    "    funct()"
   ]
  },
  {
   "cell_type": "code",
   "execution_count": 1,
   "metadata": {
    "collapsed": false
   },
   "outputs": [],
   "source": [
    "import cla, inspect\n",
    "from pprint import pprint"
   ]
  },
  {
   "cell_type": "code",
   "execution_count": null,
   "metadata": {
    "collapsed": false,
    "deletable": true,
    "editable": true
   },
   "outputs": [],
   "source": [
    "a = cla.Tea('bournvita')\n",
    "b = cla.Milk('Cowbell')\n",
    "\n",
    "print('Tea: {}, Milk: {}'.format(a.get_tea_name().upper(), b.get_milk_name().upper()))\n",
    "\n",
    "c = cla.Make_tea(0.6)\n",
    "c.add_tea(2, a.get_tea_name())\n",
    "c.add_tea(2, b.get_milk_name())\n",
    "print('Cup capacity: ', c.capacity)\n",
    "c.add_water(0.4)"
   ]
  },
  {
   "cell_type": "markdown",
   "metadata": {
    "deletable": true,
    "editable": true
   },
   "source": [
    "### Example 2: Looking inside modules"
   ]
  },
  {
   "cell_type": "code",
   "execution_count": null,
   "metadata": {
    "collapsed": false,
    "deletable": true,
    "editable": true
   },
   "outputs": [],
   "source": [
    "for name, data in inspect.getmembers(cla):\n",
    "    if name.startswith('__'):\n",
    "        continue\n",
    "    print('{:20} : {!r}'.format(name, data))"
   ]
  },
  {
   "cell_type": "code",
   "execution_count": null,
   "metadata": {
    "collapsed": false,
    "deletable": true,
    "editable": true,
    "scrolled": true
   },
   "outputs": [],
   "source": [
    "for name, data in inspect.getmembers(cla):\n",
    "    print('{:20} : {!r}'.format(name, data))"
   ]
  },
  {
   "cell_type": "code",
   "execution_count": null,
   "metadata": {
    "collapsed": false,
    "deletable": true,
    "editable": true
   },
   "outputs": [],
   "source": [
    "print('Functions in {} module'.format(cla.__name__.upper()))\n",
    "for name, data in inspect.getmembers(cla, inspect.isfunction):\n",
    "    print('{:20} : {!r}'.format(name, data))\n",
    "print()   \n",
    "print('Classes in {} module'.format(cla.__name__.upper()))\n",
    "for name, data in inspect.getmembers(cla, inspect.isclass):\n",
    "    print('{:20} : {!r}'.format(name, data))"
   ]
  },
  {
   "cell_type": "code",
   "execution_count": null,
   "metadata": {
    "collapsed": true
   },
   "outputs": [],
   "source": [
    "import subprocess\n",
    "print('Classes in {} module'.format(subprocess.__name__.upper()))\n",
    "for name, date in inspect.getmembers(subprocess, inspect.isclass):\n",
    "    print('{:20} : {!r}'.format(name, data))\n",
    "print()\n",
    "print('Functions in {} module'.format(subprocess.__name__.upper()))\n",
    "for name, date in inspect.getmembers(subprocess, inspect.isfunction):\n",
    "    print('{:35} : {!r}'.format(name, data))"
   ]
  },
  {
   "cell_type": "markdown",
   "metadata": {
    "deletable": true,
    "editable": true
   },
   "source": [
    "### Example 3: Looking inside classes"
   ]
  },
  {
   "cell_type": "code",
   "execution_count": null,
   "metadata": {
    "collapsed": true,
    "deletable": true,
    "editable": true
   },
   "outputs": [],
   "source": [
    "for name, data in inspect.getmembers(cla.Tea):\n",
    "    if str(data).startswith('<slot'): # find all slots\n",
    "        print('{:20} : {!r}'.format(name, data))"
   ]
  },
  {
   "cell_type": "code",
   "execution_count": null,
   "metadata": {
    "collapsed": false
   },
   "outputs": [],
   "source": [
    "for name, data in inspect.getmembers(cla.Tea, inspect.isfunction):\n",
    "    print('{:20} : {!r}'.format(name, data))\n",
    "print()\n",
    "for name, data in inspect.getmembers(cla.Milk, inspect.isfunction):\n",
    "    print('{:20} : {!r}'.format(name, data))\n",
    "print()\n",
    "for name, data in inspect.getmembers(cla.Make_tea, inspect.isfunction):\n",
    "    print('{:20} : {!r}'.format(name, data))\n",
    "print()\n",
    "for name, data in inspect.getmembers(cla.cars, inspect.isfunction):\n",
    "    print('{:20} : {!r}'.format(name, data))"
   ]
  },
  {
   "cell_type": "markdown",
   "metadata": {},
   "source": [
    "### Example 4: Looking at instances"
   ]
  },
  {
   "cell_type": "code",
   "execution_count": null,
   "metadata": {
    "collapsed": false
   },
   "outputs": [],
   "source": [
    "j = cla.cars('jeep')\n",
    "j.set_model('chevy')\n",
    "\n",
    "# print('Doc string: ', inspect.getdoc(j))\n",
    "# print('Comment string: ', inspect.getcomments(j))\n",
    "# inspect.getsource('a')\n",
    "\n",
    "# print('Class: ', j.__class__)\n",
    "# print()\n",
    "# print('Doc: ', j.__doc__)\n",
    "# print()\n",
    "# print('Dict: ', j.__dict__)\n",
    "# print()\n",
    "# print('Dir: ', j.__dir__)\n",
    "# print()\n",
    "\n",
    "print('Members of {}\\n\\n'.format(j))\n",
    "pprint(inspect.getmembers(j))"
   ]
  },
  {
   "cell_type": "code",
   "execution_count": null,
   "metadata": {
    "collapsed": false
   },
   "outputs": [],
   "source": [
    "k = cla.cars('jeep')\n",
    "k.set_model('chevy')\n",
    "\n",
    "print('Members of {}\\n\\n'.format(k))\n",
    "pprint(inspect.getmembers(k, inspect.ismethod))"
   ]
  },
  {
   "cell_type": "markdown",
   "metadata": {},
   "source": [
    "### Example 4: Looking at Documentation\n",
    "retrieve documentation string"
   ]
  },
  {
   "cell_type": "code",
   "execution_count": null,
   "metadata": {
    "collapsed": false
   },
   "outputs": [],
   "source": [
    "print('__doc__ attribute:\\n', cla.__doc__)\n",
    "print()\n",
    "print('inspect.getdoc:\\n', inspect.getdoc(cla))\n",
    "print()\n",
    "print('inspect.getdoc:\\n', inspect.getdoc(cla.cars))"
   ]
  },
  {
   "cell_type": "code",
   "execution_count": null,
   "metadata": {
    "collapsed": true
   },
   "outputs": [],
   "source": [
    "print('__doc__ attribute:\\n', subprocess.__doc__)\n",
    "print()\n",
    "print('inspect.getdoc:\\n', inspect.getdoc(subprocess.run))"
   ]
  },
  {
   "cell_type": "markdown",
   "metadata": {},
   "source": [
    "### Example 5: looking at comments\n",
    "retrieve the comments from the source file where an object is implemented. It looks at lines preceding the object's implementation\n",
    "module comments must be the first string to appear in the file for it to be seen by inspect"
   ]
  },
  {
   "cell_type": "code",
   "execution_count": null,
   "metadata": {
    "collapsed": false
   },
   "outputs": [],
   "source": [
    "print(inspect.getcomments(cla.cars))\n",
    "print()\n",
    "print(inspect.getcomments(cla))"
   ]
  },
  {
   "cell_type": "markdown",
   "metadata": {},
   "source": [
    "### Example 6: looking at source code"
   ]
  },
  {
   "cell_type": "code",
   "execution_count": null,
   "metadata": {
    "collapsed": true
   },
   "outputs": [],
   "source": [
    "for line in inspect.getsourcelines(cla)[0]: # return a list of individual lines\n",
    "    print(line)"
   ]
  },
  {
   "cell_type": "code",
   "execution_count": null,
   "metadata": {
    "collapsed": false
   },
   "outputs": [],
   "source": [
    "print('Class {} starts on line {}.'.format(cla.Milk.__name__, inspect.getsourcelines(cla.Milk)[1]))\n",
    "print()\n",
    "print(inspect.getsourcelines(cla.Milk))"
   ]
  },
  {
   "cell_type": "code",
   "execution_count": null,
   "metadata": {
    "collapsed": true
   },
   "outputs": [],
   "source": [
    "print(inspect.getsource(cla.Make_tea)) # return properly formatted code\n",
    "print()\n",
    "print(inspect.getsource(cla.cars))"
   ]
  },
  {
   "cell_type": "code",
   "execution_count": null,
   "metadata": {
    "collapsed": false
   },
   "outputs": [],
   "source": [
    "import subprocess\n",
    "print(inspect.getsource(subprocess.run))\n",
    "mod_name = subprocess.__name__ + subprocess.run.__name__\n",
    "with open(mod_name + '.txt', 'w+') as fh:\n",
    "    fh.write(inspect.getsource(subprocess.run))"
   ]
  },
  {
   "cell_type": "code",
   "execution_count": null,
   "metadata": {
    "collapsed": false
   },
   "outputs": [],
   "source": [
    "subprocess.__name__"
   ]
  },
  {
   "cell_type": "markdown",
   "metadata": {},
   "source": [
    "### Example 6: looking at function and method arguments\n",
    "This information is obtained via the signature function"
   ]
  },
  {
   "cell_type": "code",
   "execution_count": 3,
   "metadata": {
    "collapsed": false
   },
   "outputs": [
    {
     "name": "stdout",
     "output_type": "stream",
     "text": [
      "(x, z=None, *args, **kwargs)\n"
     ]
    }
   ],
   "source": [
    "sig = inspect.signature(cla.module_func)\n",
    "print(sig)"
   ]
  },
  {
   "cell_type": "code",
   "execution_count": 8,
   "metadata": {
    "collapsed": false
   },
   "outputs": [
    {
     "name": "stdout",
     "output_type": "stream",
     "text": [
      "x x\n",
      "z z=None\n",
      "args *args\n",
      "kwargs **kwargs\n"
     ]
    }
   ],
   "source": [
    "for name, param in sig.parameters.items():\n",
    "    print(name, param)"
   ]
  },
  {
   "cell_type": "code",
   "execution_count": null,
   "metadata": {
    "collapsed": true
   },
   "outputs": [],
   "source": []
  }
 ],
 "metadata": {
  "kernelspec": {
   "display_name": "Python 3",
   "language": "python",
   "name": "python3"
  },
  "language_info": {
   "codemirror_mode": {
    "name": "ipython",
    "version": 3
   },
   "file_extension": ".py",
   "mimetype": "text/x-python",
   "name": "python",
   "nbconvert_exporter": "python",
   "pygments_lexer": "ipython3",
   "version": "3.6.0"
  }
 },
 "nbformat": 4,
 "nbformat_minor": 2
}
