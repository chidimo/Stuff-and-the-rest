{
 "cells": [
  {
   "cell_type": "markdown",
   "metadata": {},
   "source": [
    "## Resources\n",
    "\n",
    "https://pymotw.com/3/subprocess/index.html\n",
    "\n",
    "https://docs.python.org/3/library/subprocess.html\n",
    "\n",
    "\n",
    "https://biblicisminstitute.wordpress.com/2015/08/14/when-money-is-the-problem/\n",
    "\n",
    "http://www.zerohedge.com/news/2017-02-26/stockman-after-march-15-everything-will-grind-halt?page=1\n",
    "\n",
    "https://www.sovereignmoney.eu/"
   ]
  },
  {
   "cell_type": "markdown",
   "metadata": {},
   "source": [
    "### Changelog\n",
    "1. update read from stdin\n",
    "\n",
    "http://www.cs.ucsb.edu/~almeroth/classes/W99.276/assignment1/signals.html"
   ]
  },
  {
   "cell_type": "code",
   "execution_count": 10,
   "metadata": {
    "collapsed": true
   },
   "outputs": [],
   "source": [
    "from subprocess import *\n",
    "import os, sys, subprocess"
   ]
  },
  {
   "cell_type": "markdown",
   "metadata": {},
   "source": [
    "## Notes\n",
    "\n",
    "### Ways of reading input\n",
    "\n",
    "1. **input()** === prompt user\n",
    "2. **sys.stdin** === read what is outputted to command line\n",
    "3. **sys.argv** === passed as argument to script\n",
    "\n",
    "### Read from a file; Create a new file; Open with notepad; Pipe output to python file\n",
    "\n",
    "**Get-Content [filename1.ext], [filename2.ext] etc**\n",
    "\n",
    "**New-Item [filename.ext] -type file**\n",
    "\n",
    "**notepad.exe [filename.ext]**\n",
    "\n",
    "**Get-Content [filename.ext] | python file.py**\n",
    "\n",
    "**$HOME** is a special variable in linux/unix command line and powershell\n",
    "In powershell it returns **C:\\Users\\user_name**\n",
    "\n",
    "In linux/unix it return root drectory"
   ]
  },
  {
   "cell_type": "markdown",
   "metadata": {
    "collapsed": true
   },
   "source": [
    "### Example : Read from stdin\n",
    "\n",
    "The code below reads line by line from standard input (code word for command line in this case)\n",
    "\n",
    "            import sys\n",
    "            print('=======Welcome to Powershell========')\n",
    "            print('  --' * 10)\n",
    "\n",
    "            i = 0\n",
    "            for line in sys.stdin:\n",
    "                print('line {:<2} ====: {}'.format(i, line))\n",
    "                i += 1\n",
    "            print('Done')\n",
    "            print('{} lines were read'.format(i))\n",
    "            \n",
    "We can pipe the output of a powershell command such as **Get-Content** to this code and we will see the lines all read, numbered, and displayed on the command line.\n",
    "\n",
    "Below we do the following:\n",
    "\n",
    "1. Export the code to **line_reader.py** file\n",
    "2. run the code,capture the command line output and display in jupyter notebook.\n",
    "\n",
    "**For fun:** Try running **Get-Content line_reader.py | python line_reader.py**"
   ]
  },
  {
   "cell_type": "markdown",
   "metadata": {},
   "source": [
    "#### Execute the cell below to export the code to *line_reader.py* file"
   ]
  },
  {
   "cell_type": "code",
   "execution_count": 1,
   "metadata": {
    "collapsed": true
   },
   "outputs": [],
   "source": [
    "code = (\"import sys\",\n",
    "        \"print('=======Welcome to Powershell========')\",\n",
    "        \"print('  --' * 10)\", \n",
    "        \"i = 0\",\n",
    "        \"for line in sys.stdin:\",\n",
    "        \"    print('line {:<2} ====: {}'.format(i, line))\",\n",
    "        \"    i += 1\",\n",
    "        \"print('Done')\",\n",
    "        \"print('{} lines were read'.format(i))\")\n",
    "\n",
    "for line in code:\n",
    "    with open('line_reader.py', 'a') as f:\n",
    "        f.write(line + '\\n')"
   ]
  },
  {
   "cell_type": "markdown",
   "metadata": {},
   "source": [
    "#### Execute this code to see a listing of the content of current jn directory"
   ]
  },
  {
   "cell_type": "code",
   "execution_count": null,
   "metadata": {
    "collapsed": true
   },
   "outputs": [],
   "source": [
    "read_lines = run(['powershell', 'Get-ChildItem', '|', 'python', 'line_reader.py'], stdout=PIPE)\n",
    "print(read_lines.stdout.decode('utf-8'))"
   ]
  },
  {
   "cell_type": "code",
   "execution_count": null,
   "metadata": {
    "collapsed": true
   },
   "outputs": [],
   "source": []
  },
  {
   "cell_type": "markdown",
   "metadata": {},
   "source": [
    "### os.system()\n",
    "\n",
    "*ordinarily, this outputs to **stdout** (terminal) and therefore does not display the return value anywhere other than a terminal.\n",
    "To view the command output we redirect it to a file from which we can then read it.*\n",
    "\n",
    "*Also, the return value of 0 means that the process ran without error*"
   ]
  },
  {
   "cell_type": "code",
   "execution_count": null,
   "metadata": {
    "collapsed": true
   },
   "outputs": [],
   "source": [
    "print(os.getcwd())\n",
    "\n",
    "os.system('python')"
   ]
  },
  {
   "cell_type": "markdown",
   "metadata": {},
   "source": [
    "### subprocess.run()\n",
    "\n",
    "**subprocess.run(args, *, stdin=None, input=None, stdout=None, stderr=None, shell=False, timeout=None, check=False, encoding=None, errors=None)**\n",
    "\n",
    "\n",
    "### subprocess.call()\n",
    "This is basically just like the **Popen** class and takes all of the same arguments, but it simply wait until the command completes and gives us the return code.\n",
    "\n",
    "**call(args, *, stdin=None, stdout=None, stderr=None, shell=False)**"
   ]
  },
  {
   "cell_type": "markdown",
   "metadata": {},
   "source": [
    "### Discover home folder"
   ]
  },
  {
   "cell_type": "code",
   "execution_count": null,
   "metadata": {
    "collapsed": true
   },
   "outputs": [],
   "source": [
    "find_home = 'find_home.txt'\n",
    "call_home = 'call_home.txt'\n",
    "\n",
    "find_home = run(['powershell', 'echo', '$HOME', '>', find_home], shell=True)\n",
    "call_home = call(['powershell', 'echo', '$HOME', '>', call_home], shell=True)\n",
    "\n",
    "with open('find_home.txt', 'r+') as f:\n",
    "    print('Your home directory is: ', f.read())\n",
    "print('returncode:', find_home.returncode)\n",
    "\n",
    "print('--' * 25)\n",
    "\n",
    "print('The return value of run has type: ', type(find_home))\n",
    "print('The return value of call has type: ', type(call_home))\n",
    "print('The return value of returncode has type: ', type(find_home.returncode))"
   ]
  },
  {
   "cell_type": "markdown",
   "metadata": {},
   "source": [
    "### A better way: catch the output directly in a pipe"
   ]
  },
  {
   "cell_type": "code",
   "execution_count": null,
   "metadata": {
    "collapsed": true
   },
   "outputs": [],
   "source": [
    "run(['powershell', 'Clear-Host'])\n",
    "find_home = run(['powershell', 'echo', '$HOME'], stdout = PIPE, shell=True)\n",
    "#find_home = run(r'echo $HOME', stdout = PIPE, shell=True) # unix\n",
    "print('Your home folder is: {}'.format(find_home.stdout.decode('utf-8')))"
   ]
  },
  {
   "cell_type": "code",
   "execution_count": null,
   "metadata": {
    "collapsed": true
   },
   "outputs": [],
   "source": []
  },
  {
   "cell_type": "markdown",
   "metadata": {},
   "source": [
    "### Note\n",
    "Using **run()** without passing **check=True** is equivalent to using **call()**. In that case only the exit code from the process is returned\n",
    "\n",
    "Passing **check=True** to **run()** makes it equivalent to using **check_call()**.\n",
    "\n",
    "In sum, **run()** is simply a bundle of **call()** and **check_call()** with the **check** switch. I'm yet to verify this assertion of mine though"
   ]
  },
  {
   "cell_type": "code",
   "execution_count": null,
   "metadata": {
    "collapsed": true
   },
   "outputs": [],
   "source": [
    "os.chdir('/')\n",
    "call('dir', shell=True)\n",
    "output = check_output('dir', shell=True)\n",
    "print(str(output))"
   ]
  },
  {
   "cell_type": "markdown",
   "metadata": {},
   "source": [
    "### Launch cmd"
   ]
  },
  {
   "cell_type": "code",
   "execution_count": 14,
   "metadata": {},
   "outputs": [
    {
     "data": {
      "text/plain": [
       "0"
      ]
     },
     "execution_count": 14,
     "metadata": {},
     "output_type": "execute_result"
    }
   ],
   "source": [
    "call('cmd.exe', shell=True) # launches cmd.exe"
   ]
  },
  {
   "cell_type": "code",
   "execution_count": 15,
   "metadata": {},
   "outputs": [
    {
     "data": {
      "text/plain": [
       "0"
      ]
     },
     "execution_count": 15,
     "metadata": {},
     "output_type": "execute_result"
    }
   ],
   "source": [
    "call(['powershell', '$HOME', '|', 'Get-ChildItem']) # list home directory content"
   ]
  },
  {
   "cell_type": "markdown",
   "metadata": {},
   "source": [
    "### Launch cmd and navigate to specified patth"
   ]
  },
  {
   "cell_type": "code",
   "execution_count": 18,
   "metadata": {},
   "outputs": [
    {
     "data": {
      "text/plain": [
       "0"
      ]
     },
     "execution_count": 18,
     "metadata": {},
     "output_type": "execute_result"
    }
   ],
   "source": [
    "patth = r'c:\\users\\corji'\n",
    "call(['cmd.exe'], cwd=patth, shell=True)"
   ]
  },
  {
   "cell_type": "markdown",
   "metadata": {},
   "source": [
    "### Open a new powershell window; Open another window in c:\\users"
   ]
  },
  {
   "cell_type": "code",
   "execution_count": 20,
   "metadata": {
    "collapsed": true
   },
   "outputs": [],
   "source": [
    "patth = r'c:\\users\\corji'\n",
    "new_pws = call(['Start', 'powershell'], shell=True)\n",
    "new_pws = call(['Start', 'powershell'], cwd=patth, shell=True)"
   ]
  },
  {
   "cell_type": "code",
   "execution_count": null,
   "metadata": {
    "collapsed": true
   },
   "outputs": [],
   "source": []
  },
  {
   "cell_type": "markdown",
   "metadata": {},
   "source": [
    "### Open new command window, navigate to specified path and then turn it into a powershell\n",
    "\n",
    "the **r** prefix is used for *raw string literals* so as to avoid the need to escape special characters"
   ]
  },
  {
   "cell_type": "code",
   "execution_count": 11,
   "metadata": {
    "collapsed": true
   },
   "outputs": [],
   "source": [
    "from subprocess import call\n",
    "patth = r'c:\\users'\n",
    "cmd = ['start', 'cmd', 'powershell']\n",
    "new_win = call(cmd, cwd=patth, shell=True)"
   ]
  },
  {
   "cell_type": "markdown",
   "metadata": {},
   "source": [
    "Setting the shell argument to a true value causes **subprocess** to spawn an intermediate shell process, and tell it to run the command.\n",
    "\n",
    "i.e. using an intermediate shell means that variables, glob patterns, and other special shell features in the command string are processed before the command is run. Here, in the example below, **$HOME** was processed before the echo command"
   ]
  },
  {
   "cell_type": "code",
   "execution_count": 3,
   "metadata": {},
   "outputs": [
    {
     "data": {
      "text/plain": [
       "0"
      ]
     },
     "execution_count": 3,
     "metadata": {},
     "output_type": "execute_result"
    }
   ],
   "source": [
    "call('echo $HOME', shell=True)"
   ]
  },
  {
   "cell_type": "markdown",
   "metadata": {},
   "source": [
    "### subprocess.check_call()\n",
    "Run command with arguments. Wait for command to complete. If the return code was zero then return, otherwise raise **CalledProcessError**\n",
    "\n",
    "### subprocess.check_output()\n",
    "\n",
    "Run command with arguments and return its output.\n",
    "\n",
    "The standard input and output channels for the process started by **call()** are bound to the parent's input and output. That means the calling program cannot capture the output of the command. To capture the output, we can use **check_output()** for later processing."
   ]
  },
  {
   "cell_type": "code",
   "execution_count": 6,
   "metadata": {},
   "outputs": [
    {
     "data": {
      "text/plain": [
       "0"
      ]
     },
     "execution_count": 6,
     "metadata": {},
     "output_type": "execute_result"
    }
   ],
   "source": [
    "from subprocess import check_call, check_output\n",
    "# check_call(r'false')\n",
    "\n",
    "check_call(['echo','$HOME'], shell=True)"
   ]
  },
  {
   "cell_type": "code",
   "execution_count": 7,
   "metadata": {},
   "outputs": [
    {
     "name": "stdout",
     "output_type": "stream",
     "text": [
      "b'$HOME\\r\\n' \n",
      "Output type:  <class 'bytes'>\n"
     ]
    }
   ],
   "source": [
    "output = check_output(['echo','$HOME'], shell=True)\n",
    "print(output, '\\nOutput type: ', type(output))"
   ]
  },
  {
   "cell_type": "code",
   "execution_count": 8,
   "metadata": {},
   "outputs": [
    {
     "name": "stdout",
     "output_type": "stream",
     "text": [
      "s = b'\"Hello World!\"\\r\\n'\n"
     ]
    }
   ],
   "source": [
    "s = check_output(['echo', 'Hello World!'], shell=True)\n",
    "print('s = ' + str(s))"
   ]
  },
  {
   "cell_type": "code",
   "execution_count": null,
   "metadata": {
    "collapsed": true
   },
   "outputs": [],
   "source": []
  },
  {
   "cell_type": "code",
   "execution_count": null,
   "metadata": {
    "collapsed": true
   },
   "outputs": [],
   "source": [
    "import shlex\n",
    "command_line = input()\n",
    "args = shlex.split(command_line)\n",
    "print(args)\n",
    "print()\n",
    "print(command_line.split())"
   ]
  },
  {
   "cell_type": "code",
   "execution_count": null,
   "metadata": {
    "collapsed": true
   },
   "outputs": [],
   "source": [
    "for line in sys.stdin:\n",
    "    print('this is' + line)"
   ]
  },
  {
   "cell_type": "code",
   "execution_count": 9,
   "metadata": {},
   "outputs": [
    {
     "ename": "NameError",
     "evalue": "name 'run' is not defined",
     "output_type": "error",
     "traceback": [
      "\u001b[0;31m---------------------------------------------------------\u001b[0m",
      "\u001b[0;31mNameError\u001b[0m               Traceback (most recent call last)",
      "\u001b[0;32m<ipython-input-9-df6838e8b113>\u001b[0m in \u001b[0;36m<module>\u001b[0;34m()\u001b[0m\n\u001b[0;32m----> 1\u001b[0;31m \u001b[0mrun\u001b[0m\u001b[1;33m(\u001b[0m\u001b[1;33m[\u001b[0m\u001b[1;34m'powershell'\u001b[0m\u001b[1;33m,\u001b[0m \u001b[1;34m'Clear-Host'\u001b[0m\u001b[1;33m]\u001b[0m\u001b[1;33m)\u001b[0m\u001b[1;33m\u001b[0m\u001b[0m\n\u001b[0m\u001b[1;32m      2\u001b[0m \u001b[0mcom\u001b[0m \u001b[1;33m=\u001b[0m \u001b[0mrun\u001b[0m\u001b[1;33m(\u001b[0m\u001b[1;33m[\u001b[0m\u001b[1;34m'powershell'\u001b[0m\u001b[1;33m,\u001b[0m \u001b[1;34m'Get-ChildItem'\u001b[0m\u001b[1;33m,\u001b[0m \u001b[1;34m'-Recurse'\u001b[0m\u001b[1;33m]\u001b[0m\u001b[1;33m)\u001b[0m\u001b[1;33m\u001b[0m\u001b[0m\n\u001b[1;32m      3\u001b[0m \u001b[0mprint\u001b[0m\u001b[1;33m(\u001b[0m\u001b[1;34m'return code: '\u001b[0m\u001b[1;33m,\u001b[0m \u001b[0mcom\u001b[0m\u001b[1;33m.\u001b[0m\u001b[0mreturncode\u001b[0m\u001b[1;33m)\u001b[0m\u001b[1;33m\u001b[0m\u001b[0m\n",
      "\u001b[0;31mNameError\u001b[0m: name 'run' is not defined"
     ]
    }
   ],
   "source": [
    "run(['powershell', 'Clear-Host'])\n",
    "com = run(['powershell', 'Get-ChildItem', '-Recurse'])\n",
    "print('return code: ', com.returncode)"
   ]
  },
  {
   "cell_type": "markdown",
   "metadata": {
    "collapsed": true
   },
   "source": [
    "### Error Handling\n",
    "The returncode attribute of the CompletedProcess is the exit code of the program. The caller is responsible for interpreting it to detect errors. If the check argument to run() is True, the exit code is checked and if it indicates an error happened then a CalledProcessError exception is raised"
   ]
  },
  {
   "cell_type": "code",
   "execution_count": null,
   "metadata": {
    "collapsed": true
   },
   "outputs": [],
   "source": [
    "try:\n",
    "    run(['powershell', 'false'], check=True)\n",
    "except CalledProcessError as err:\n",
    "    print('ERROR:', err)"
   ]
  },
  {
   "cell_type": "code",
   "execution_count": null,
   "metadata": {
    "collapsed": true
   },
   "outputs": [],
   "source": []
  },
  {
   "cell_type": "markdown",
   "metadata": {
    "collapsed": true
   },
   "source": [
    "## Capturing Console Output\n",
    "The standard input and output channels for the process started by **run()** are bound to the parent’s input and output. That means the calling program cannot capture the output of the command. Pass **PIPE** for the **stdout** and **stderr** arguments to capture the output for later processing."
   ]
  },
  {
   "cell_type": "markdown",
   "metadata": {},
   "source": [
    "### Example 1: Capture Console output for the given command"
   ]
  },
  {
   "cell_type": "code",
   "execution_count": null,
   "metadata": {
    "collapsed": true
   },
   "outputs": [],
   "source": [
    "run(['powershell', 'Clear-Host'])\n",
    "#folder = r'c:\\users\\Chidimma\\desktop'\n",
    "folder = r''\n",
    "\n",
    "com = run(['powershell', 'get-childitem', folder, '-Recurse'], stdout=PIPE)\n",
    "\n",
    "print('returncode: ', com.returncode)\n",
    "print('Type of stdout: ', type(com.stdout))\n",
    "print('Have {} bytes in stdout:\\n {}'.format(len(com.stdout), \n",
    "                                             com.stdout.decode('utf-8')))"
   ]
  },
  {
   "cell_type": "markdown",
   "metadata": {
    "collapsed": true
   },
   "source": [
    "### Example 2: See all the hidden files in specified folder"
   ]
  },
  {
   "cell_type": "code",
   "execution_count": null,
   "metadata": {
    "collapsed": true
   },
   "outputs": [],
   "source": [
    "run(['powershell', 'Clear-Host'])\n",
    "folder = r'c:\\users\\chidimma'\n",
    "\n",
    "com = run(['powershell', 'Get-ChildItem', folder, '-Attribute', 'Hidden'], stdout=PIPE)\n",
    "\n",
    "print('returncode: ', com.returncode)\n",
    "print('Type of stdout: ', type(com.stdout))\n",
    "print('Have {} bytes in stdout:\\n {}'.format(len(com.stdout), com.stdout.decode('utf-8')))"
   ]
  },
  {
   "cell_type": "markdown",
   "metadata": {},
   "source": [
    "### Example 3: Display the parameters of the Get-ChildItem command"
   ]
  },
  {
   "cell_type": "code",
   "execution_count": null,
   "metadata": {
    "collapsed": true
   },
   "outputs": [],
   "source": [
    "run(['powershell', 'Clear-Host'])\n",
    "\n",
    "# params = run(['powershell', '(Get-Command Get-ChildItem).parameters'], stdout=PIPE)\n",
    "# params = run(['powershell', '(Get-Command Get-ChildItem).definition'], stdout=PIPE)\n",
    "params = run(['powershell', '(Get-Help Get-ChildItem).parameters'], stdout=PIPE)\n",
    "\n",
    "print('returncode: ', params.returncode)\n",
    "print('Type of stdout: ', type(params.stdout))\n",
    "print('Have {} bytes in stdout:\\n {}'.format(len(params.stdout), params.stdout.decode('utf-8')))"
   ]
  },
  {
   "cell_type": "code",
   "execution_count": null,
   "metadata": {
    "collapsed": true
   },
   "outputs": [],
   "source": []
  },
  {
   "cell_type": "markdown",
   "metadata": {},
   "source": [
    "### Example 4: Demonstrate CalledProcessError"
   ]
  },
  {
   "cell_type": "code",
   "execution_count": null,
   "metadata": {
    "collapsed": true
   },
   "outputs": [],
   "source": [
    "run(['powershell', 'Clear-Host'])\n",
    "try:\n",
    "    com = run(['powershell', 'echo', 'to stdout', ';', 'echo', 'to stderr', \n",
    "               '1>&2', ';', 'exit 1'], check=True, shell=True, stdout=PIPE,)\n",
    "except CalledProcessError as err:\n",
    "    print('ERROR:', err)\n",
    "else:\n",
    "    print('returncode:', com.returncode)\n",
    "    print('Have {} bytes in stdout: {!r}'.format(len(com.stdout), com.stdout.decode('utf-8')))"
   ]
  },
  {
   "cell_type": "markdown",
   "metadata": {},
   "source": [
    "##### Meaning of !r\n",
    "From the documentation: https://docs.python.org/3.6/library/string.html#format-string-syntax\n",
    "\n",
    "Three conversion flags are currently supported: **'!s'** which calls **str()** on the value, **'!r'** which calls **repr()** and **'!a'** which calls **ascii()**.\n",
    "\n",
    "##### Meaning of 1>&2\n",
    "File descriptor 0 is the standard input (stdin)\n",
    "\n",
    "File descriptor 1 is the standard output (stdout)\n",
    "\n",
    "File descriptor 2 is the standard error (stderr)\n",
    "\n",
    "Output and Error redirection formats: **&>word** and **>&word**. The first form is preferred and is semantically equivalent to **>word 2>&1**\n",
    "\n",
    "**>& /dev/null** suppresses both output and error/informational messages from the command.\n",
    "\n",
    "Using **1>2** means directing **1** to a file named **2**. Thus the need for **&** which serves to show that what follows is a file descriptor"
   ]
  },
  {
   "cell_type": "code",
   "execution_count": null,
   "metadata": {
    "collapsed": true
   },
   "outputs": [],
   "source": []
  },
  {
   "cell_type": "markdown",
   "metadata": {},
   "source": [
    "## Capturing errors in stderr"
   ]
  },
  {
   "cell_type": "markdown",
   "metadata": {},
   "source": [
    "### Example 5: No Error in process, but error during redirection\n",
    "**Note:** Bash behaves very differently in this example\n",
    "\n",
    "In the example below, running the command shows that there is nothing in **stdout** (0 bytes) but there is something in **stderr** (24 bytes). **stdout** has nothing to contribute here. This command ends with returncode 1.\n",
    "\n",
    "If we run **powershell echo to stdout; echo to stderr 1>&2** directly in powershell we see that powershell complains about **1>&2**.\n",
    "\n",
    "The error here is not in the process per say which would have triggered the **except** block and raised a **CalledProcessError**.\n",
    "\n",
    "The error occured in the redirection, when we try to redirect **stdout** to a non-existent **stderr**. That is the reason we see something in stderr in this case, though the cmd.exe console might try to convince us otherwise. The fact that we see a returncode of **0** and an empty **stdout** stream confirms that the process ran ok, but the overall end was not achieved.\n",
    "\n",
    "The **exit 1** only affects exists to simulate a failure of the process, thus changing our **returncode** value"
   ]
  },
  {
   "cell_type": "code",
   "execution_count": null,
   "metadata": {
    "collapsed": true
   },
   "outputs": [],
   "source": []
  },
  {
   "cell_type": "code",
   "execution_count": null,
   "metadata": {
    "collapsed": true
   },
   "outputs": [],
   "source": [
    "run(['powershell', 'Clear-Host'])\n",
    "try:\n",
    "    com = run(['powershell', 'echo', 'to stdout', ';', 'echo', 'to stderr',\n",
    "               '1>&2', ';', 'exit 1'], shell=True, stdout=PIPE, stderr=PIPE,)\n",
    "except CalledProcessError as err:\n",
    "    print('ERROR:', err)\n",
    "else:\n",
    "    print('returncode:', com.returncode)\n",
    "    print('Have {} bytes in stdout: {!r}'.format(len(com.stdout), com.stdout.decode('utf-8')))\n",
    "    print('Have {} bytes in stderr: \\n\\n{!r}'.format(len(com.stderr), com.stderr.decode('utf-8')))\n",
    "    print()\n",
    "    print('Output as appears in console: \\n\\n{}'.format(com.stderr.decode('utf-8')))"
   ]
  },
  {
   "cell_type": "code",
   "execution_count": null,
   "metadata": {
    "collapsed": true
   },
   "outputs": [],
   "source": []
  },
  {
   "cell_type": "markdown",
   "metadata": {},
   "source": [
    "### Example 6:\n",
    "\n",
    "Lets reverse file descriptors **1** and **2** in the example above. In this case we redirect **2 (stderr)** to **1(stdout)**.\n",
    "\n",
    "But since the code **powershell echo to stdout; echo to stderr** is perfectly ok, we did not get any **CalledProcess Error**, hence **stderr** is empty (0 bytes).\n",
    "\n",
    "But we still get a return code of 1 because we specifically instructed the command to end with a returncode of 1 (**exit 1**) instead of the normal **0** of a successful execution. We basically told the program to pretend that it encountered an error, i.e. we are simulating the error. \n",
    "\n",
    "Try deleting that **exit 1** temporarily and see your returncode go back to **0**"
   ]
  },
  {
   "cell_type": "code",
   "execution_count": null,
   "metadata": {
    "collapsed": true
   },
   "outputs": [],
   "source": [
    "run(['powershell', 'Clear-Host'])\n",
    "try:\n",
    "    com = run(['powershell', 'echo', 'to stdout', ';', 'echo', 'to stderr', \n",
    "               '2>&1', ';', 'exit 1'], shell=True, stdout=PIPE, stderr=PIPE,)\n",
    "except CalledProcessError as err:\n",
    "    print('ERROR:', err)\n",
    "else:\n",
    "    print('returncode:', com.returncode)\n",
    "    print('Have {} bytes in stdout: \\n{!r}'.format(len(com.stdout), com.stdout.decode('utf-8')))\n",
    "    print()\n",
    "    print('Have {} bytes in stderr: \\n\\n{!r}'.format(len(com.stderr), com.stderr.decode('utf-8')))\n",
    "    print()\n",
    "    print('Output as appears in console: \\n\\n{}'.format(com.stdout.decode('utf-8')))"
   ]
  },
  {
   "cell_type": "markdown",
   "metadata": {},
   "source": [
    "### Example 7: CalledProcessError directed to output stream\n",
    "\n",
    "In this example we\n",
    "1. Call a **Get-ChildItem** command for a non-existent folder\n",
    "2. We redirect the expected stderr stream (2) to the stdout (1) stream\n",
    "3. We redirect the stdout stream to a file, but since we have specified the output to go in a pipe, the output file is created but is empty.\n",
    "Thus, the resulting error message doesn't get printed on the console. The error is in the **CalledProcess**\n",
    "\n",
    "**get-childitem c:\\non\\existent\\path folder 2>&1 > filename.txt**"
   ]
  },
  {
   "cell_type": "code",
   "execution_count": null,
   "metadata": {
    "collapsed": true
   },
   "outputs": [],
   "source": [
    "run(['powershell', 'Clear-Host'])\n",
    "print(os.getcwd())\n",
    "try:\n",
    "    com = run(['powershell', 'get-childitem', r'c:\\non\\existent\\path', \n",
    "               '2>&1', '>' 'filename.txt'], shell=True, stdout=PIPE,)\n",
    "except CalledProcessError as err:\n",
    "    print('ERROR:', err)\n",
    "else:\n",
    "    print('returncode:', com.returncode)\n",
    "    print()\n",
    "    print('Have {} bytes in stdout: \\n\\n{!r}'.format(len(com.stdout), com.stdout.decode('utf-8')))\n",
    "    print()\n",
    "    print('Output as appears in console: \\n\\n{}'.format(com.stdout.decode('utf-8')))"
   ]
  },
  {
   "cell_type": "code",
   "execution_count": null,
   "metadata": {
    "collapsed": true
   },
   "outputs": [],
   "source": []
  },
  {
   "cell_type": "markdown",
   "metadata": {
    "collapsed": true
   },
   "source": [
    "### Example 8: Catch error when using check_output\n",
    "This uses the same command from example 5. **stderr=subprocess.STDOUT** merges the resulting error with the output from the command. This leaves **stderr** empty.\n",
    "\n",
    "If we temporarily delete the **stderr=STDOUT** assignment, we see that the command itself generates no output but gives an error. It is this error which has been merged with the output that makes up whatever bytes is in the **stdout** pipe.\n",
    "\n",
    "The bash and windows command line actually hides this error. Only when this command is run directly in powershell will this behaviour be seen in all its glory."
   ]
  },
  {
   "cell_type": "code",
   "execution_count": null,
   "metadata": {
    "collapsed": true
   },
   "outputs": [],
   "source": [
    "run(['powershell', 'Clear-Host'])\n",
    "try:\n",
    "    output = check_output(['powershell', 'echo', 'to stdout', ';', 'echo', 'to stderr',\n",
    "                           '1>&2'], shell=True, stderr=subprocess.STDOUT,)\n",
    "except CalledProcessError as err:\n",
    "    print('ERROR:', err)\n",
    "else:\n",
    "    print('Have {} bytes in output: {!r}'.format(len(output), output.decode('utf-8')))"
   ]
  },
  {
   "cell_type": "code",
   "execution_count": null,
   "metadata": {
    "collapsed": true
   },
   "outputs": [],
   "source": []
  },
  {
   "cell_type": "markdown",
   "metadata": {},
   "source": [
    "### Example 9: Suppressing output from being shown or captured\n",
    "subprocess.DEVNULL is used to achieve this behaviour"
   ]
  },
  {
   "cell_type": "code",
   "execution_count": null,
   "metadata": {
    "collapsed": true
   },
   "outputs": [],
   "source": [
    "try:\n",
    "    completed = run(['powershell', 'echo', 'to stdout', ';', 'echo', 'to stderr', \n",
    "                    '1>&2', ';', 'exit 1'], shell=True, \n",
    "                    stdout=subprocess.DEVNULL, \n",
    "                    stderr=subprocess.DEVNULL,)\n",
    "except CalledProcessError as err:\n",
    "    print('ERROR:', err)\n",
    "else:\n",
    "    print('returncode:', completed.returncode)\n",
    "    print('stdout is {!r}'.format(completed.stdout))\n",
    "    print('stderr is {!r}'.format(completed.stderr))"
   ]
  },
  {
   "cell_type": "code",
   "execution_count": null,
   "metadata": {
    "collapsed": true
   },
   "outputs": [],
   "source": []
  },
  {
   "cell_type": "markdown",
   "metadata": {},
   "source": [
    "## Working with Pipes Directly"
   ]
  },
  {
   "cell_type": "markdown",
   "metadata": {},
   "source": [
    "### subprocess.Popen()\n",
    "subprocess.Popen(args, bufsize=-1, executable=None, stdin=None, stdout=None, stderr=None, preexec_fn=None, close_fds=True, shell=False, cwd=None, env=None, universal_newlines=False, startupinfo=None, creationflags=0, restore_signals=True, start_new_session=False, pass_fds=(), *, encoding=None, errors=None)\n",
    "\n",
    "\n",
    "**run()**, **call()**, **check_call()**, and **check_output()** are all wrappers around **Popen()** "
   ]
  },
  {
   "cell_type": "markdown",
   "metadata": {},
   "source": [
    "**Popen.communicate(input=None, timeout=None)**\n",
    "\n",
    "Interact with process: \n",
    "\n",
    "1. Send data to **stdin**. This tells the process that the input should come from a pipe \n",
    "2. Read data from **stdout** and **stderr**, until end-of-file is reached. \n",
    "3. Wait for process to terminate.\n",
    "4. returns a tuple **(stdout_data, stderr_data)**. The data will be strings if streams were opened in text mode; otherwise, bytes.\n",
    "5. to send data to the process’s **stdin**, create the Popen object with **stdin=PIPE**.\n",
    "6. to get anything other than None in the result tuple, you need to give **stdout=PIPE** and/or **stderr=PIPE** too.\n",
    "\n",
    "6. The optional input argument should be data to be sent to the child process, or None, if no data should be sent to the child. If streams were opened in text mode, input must be a string. Otherwise, it must be bytes.\n",
    "7. If the process does not terminate after timeout seconds, a TimeoutExpired exception will be raised. Catching this exception and retrying communication will not lose any output.\n",
    "8. The child process is not killed if the timeout expires, so in order to cleanup properly a well-behaved application should kill the child process and finish communication:"
   ]
  },
  {
   "cell_type": "markdown",
   "metadata": {
    "collapsed": true
   },
   "source": [
    "### Example 10: One Way Communication with a process: reading output"
   ]
  },
  {
   "cell_type": "code",
   "execution_count": null,
   "metadata": {
    "collapsed": true
   },
   "outputs": [],
   "source": [
    "print('read:')\n",
    "proc = Popen(['powershell', 'echo', 'to stdout'], stdout=PIPE,)\n",
    "stdout_value = proc.communicate()[0].decode('utf-8')\n",
    "print('stdout:', repr(stdout_value))"
   ]
  },
  {
   "cell_type": "markdown",
   "metadata": {},
   "source": [
    "### Example 11: One Way Communication with a process: passing input\n",
    "This example executes the **Read Host** command. powershell uses this command to prompt the user for input. The command in **msg** is then passed in.\n",
    "\n",
    "As expected, the output tuple is (None, None), since we did not pass **stdout = PIPE**, but we can see our result in command line where jn is running."
   ]
  },
  {
   "cell_type": "code",
   "execution_count": null,
   "metadata": {
    "collapsed": true
   },
   "outputs": [],
   "source": [
    "from subprocess import *\n",
    "print('write:')\n",
    "msg = 'stdin: to stdin\\n'.encode('utf-8')\n",
    "proc = Popen(['powershell', 'Read-Host'], stdin=PIPE,)\n",
    "\n",
    "out, err = proc.communicate(msg)\n",
    "print(out, ',', err)\n",
    "print('returncode: {}'.format(proc.returncode))"
   ]
  },
  {
   "cell_type": "markdown",
   "metadata": {},
   "source": [
    "### Example 12: Two Way Communication with a process: write, read, catch error"
   ]
  },
  {
   "cell_type": "code",
   "execution_count": null,
   "metadata": {
    "collapsed": true
   },
   "outputs": [],
   "source": [
    "proc = Popen(['powershell', 'Read-Host'], shell=True, stdin=PIPE, stdout=PIPE, stderr=PIPE)\n",
    "msg = r'through stdin to stdout\\n'.encode('utf-8')\n",
    "\n",
    "stdout_value, stderr_value = proc.communicate(msg)\n",
    "print('pass through:\\n', stdout_value[0].decode('utf-8'))"
   ]
  },
  {
   "cell_type": "markdown",
   "metadata": {},
   "source": [
    "### Example 13: Two Way Communication with a process: combine output and error streams\n",
    "Simply set **stderr = subprocess.STDOUT**"
   ]
  },
  {
   "cell_type": "code",
   "execution_count": null,
   "metadata": {
    "collapsed": true
   },
   "outputs": [],
   "source": [
    "proc = Popen(['powershell'], shell=True, stdin=PIPE, stdout=PIPE, stderr=STDOUT,)\n",
    "\n",
    "msg = 'Get-Content read.py; echo \"to stderr\" 1>&2'.encode('utf-8')\n",
    "stdout_value, stderr_value = proc.communicate(msg)\n",
    "print('pass through:\\n\\n', repr(stdout_value.decode('utf-8')))\n",
    "print('---' * 25)\n",
    "#print('stderr      :', repr(stderr_value.decode('utf-8')))\n",
    "print('returncode {}'.format(proc.returncode))"
   ]
  },
  {
   "cell_type": "markdown",
   "metadata": {
    "collapsed": true
   },
   "source": [
    "### Example 14: Chaining pipes\n",
    "Using the output of one pipe as an input to another pipe\n",
    "\n",
    "Lets say we want to get the HOME directory and list all its content\n",
    "\n",
    "### Example : Read the content of this notebook\n",
    "\n",
    "We do this in two ways: one using **universal_newlines=True** to avoid issues with encoding\n",
    "\n",
    "The other way tries different encodings.\n",
    "\n",
    "The backtick/grave accent mark **\\`** is used as an escape character in powershell\n",
    "\n",
    "try **get-help \\*escape\\*** in powershell to see some description\n",
    "\n",
    "Encodings: **'cp437'**, **'windows-1252'**. **'utf-8'** doesn't work in this case"
   ]
  },
  {
   "cell_type": "code",
   "execution_count": null,
   "metadata": {
    "collapsed": true
   },
   "outputs": [],
   "source": [
    "doc = Popen(['powershell', 'Get-Content', 'subprocess` `(powershell`).ipynb'], stdout=PIPE)\n",
    "print(doc.communicate()[0].decode('cp437'))"
   ]
  },
  {
   "cell_type": "code",
   "execution_count": null,
   "metadata": {
    "collapsed": true
   },
   "outputs": [],
   "source": [
    "doc = Popen(['powershell', 'Get-Content', 'subprocess` `(powershell`).ipynb'], \n",
    "            universal_newlines=True, stdout=PIPE)\n",
    "print(doc.communicate()[0])"
   ]
  },
  {
   "cell_type": "code",
   "execution_count": 13,
   "metadata": {},
   "outputs": [
    {
     "data": {
      "text/plain": [
       "[0, 0, 0, 0, 0]"
      ]
     },
     "execution_count": 13,
     "metadata": {},
     "output_type": "execute_result"
    }
   ],
   "source": [
    "from subprocess import Popen\n",
    "\n",
    "# run commands in parallel\n",
    "processes = [Popen(\"echo {i:d}; sleep 2; echo {i:d}\".format(i=i), shell=True)\n",
    "             for i in range(5)]\n",
    "# collect statuses\n",
    "exitcodes = [p.wait() for p in processes]\n",
    "exitcodes"
   ]
  },
  {
   "cell_type": "code",
   "execution_count": null,
   "metadata": {
    "collapsed": true
   },
   "outputs": [],
   "source": []
  }
 ],
 "metadata": {
  "anaconda-cloud": {},
  "kernelspec": {
   "display_name": "Python 3",
   "language": "python",
   "name": "python3"
  },
  "language_info": {
   "codemirror_mode": {
    "name": "ipython",
    "version": 3
   },
   "file_extension": ".py",
   "mimetype": "text/x-python",
   "name": "python",
   "nbconvert_exporter": "python",
   "pygments_lexer": "ipython3",
   "version": "3.6.1"
  }
 },
 "nbformat": 4,
 "nbformat_minor": 2
}
