{
 "cells": [
  {
   "cell_type": "markdown",
   "metadata": {},
   "source": [
    "# Resources\n",
    "\n",
    "http://www.martinkeefe.com/mathjax-guide-1\n",
    "\n",
    "https://docs.python.org/3/library/argparse.html#module-argparse\n",
    "\n",
    "https://pymotw.com/3/argparse/index.html\n",
    "\n",
    "https://realpython.com/blog/python/comparing-python-command-line-parsing-libraries-argparse-docopt-click/"
   ]
  },
  {
   "cell_type": "markdown",
   "metadata": {},
   "source": [
    "Purpose of this module - Command line option and argument parsing"
   ]
  },
  {
   "cell_type": "markdown",
   "metadata": {},
   "source": [
    "## How to use this module\n",
    "1. import the module\n",
    "2. create a parser object\n",
    "3. add arguments to the parser object\n",
    "4. parse the arguments\n",
    "\n",
    "optional arguments are preceeded by **--**\n",
    "\n",
    "short argument options are preceded by **-**\n",
    "\n",
    "positional argments are not preceded by any sign"
   ]
  },
  {
   "cell_type": "markdown",
   "metadata": {},
   "source": [
    "### Example 1: The basics: creating a parser instance"
   ]
  },
  {
   "cell_type": "code",
   "execution_count": null,
   "metadata": {
    "collapsed": true
   },
   "outputs": [],
   "source": [
    "import argparse\n",
    "parser = argparse.ArgumentParser(prog=\"Area of Triangle\")\n",
    "parser.parse_args()"
   ]
  },
  {
   "cell_type": "markdown",
   "metadata": {},
   "source": [
    "ArgumentParser.add_argument(name or flags...[, action][, nargs][, const][, default][, type][, choices][, required][, help][, metavar][, dest])\n",
    "\n",
    "Define how a single command-line argument should be parsed. Each parameter has its own more detailed description below, but in short they are:\n",
    "name or flags - Either a name or a list of option strings, e.g. foo or -f, --foo.\n",
    "\n",
    "1. action - The basic type of action to be taken when this argument is encountered at the command line.\n",
    "2. nargs - The number of command-line arguments that should be consumed.\n",
    "3. const - A constant value required by some action and nargs selections.\n",
    "4. default - The value produced if the argument is absent from the command line.\n",
    "5. type - The type to which the command-line argument should be converted.\n",
    "6. choices - A container of the allowable values for the argument.\n",
    "7. required - Whether or not the command-line option may be omitted (optionals only).\n",
    "8. help - A brief description of what the argument does.\n",
    "9. metavar - A name for the argument in usage messages.\n",
    "10. dest - The name of the attribute to be added to the object returned by parse_args()."
   ]
  },
  {
   "cell_type": "markdown",
   "metadata": {},
   "source": [
    "### Problem statement\n",
    "Suppose we want to write a script that computes the area of a triangle and our options are either to use either of two formulas depending on whether we're given three sides or a base and a height\n",
    "\n",
    "Hero's formula: $A = \\surd s.(s-a).(s-b).(s-c)$\n",
    "\n",
    "Where the s is given by $s = (a + b + c)/2$\n",
    "\n",
    "Given a base and a height: $A = 1/2(b.h)$\n",
    "\n",
    "It is assumed that we read get our dimensions from the command line."
   ]
  },
  {
   "cell_type": "markdown",
   "metadata": {},
   "source": [
    "### Example 2: Adding positional arguments\n",
    "To start we will add a positional argument. This argument is our takeoff point and is required. With this argument the user specifies what data are available. We can then choose a formula to use based on this data\n",
    "\n",
    "Also note that by default, the argument type is a string"
   ]
  },
  {
   "cell_type": "code",
   "execution_count": null,
   "metadata": {
    "collapsed": true
   },
   "outputs": [],
   "source": [
    "import argparse\n",
    "parser = argparse.ArgumentParser(prog=\"Area of Triangle\")\n",
    "parser.add_argument(\"data_set\", help=\"what triangle data are available?\")\n",
    "args = parser.parse_args()"
   ]
  },
  {
   "cell_type": "markdown",
   "metadata": {},
   "source": [
    "### Example 3: Adding optional argments"
   ]
  },
  {
   "cell_type": "code",
   "execution_count": null,
   "metadata": {
    "collapsed": true
   },
   "outputs": [],
   "source": [
    "import argparse\n",
    "parser = argparse.ArgumentParser(prog=\"Area of Triangle\")\n",
    "parser.add_argument(\"data_set\", help=\"what triangle data are available?\")\n",
    "parser.add_argument(\"--sideA\", type=float, help=\"side A of triangle\")\n",
    "parser.add_argument(\"--sideB\", type=float, help=\"side B of triangle\")\n",
    "parser.add_argument(\"--sideC\", type=float, help=\"side C of triangle\")\n",
    "parser.add_argument(\"--base\", type=float, help=\"base of triangle\")\n",
    "parser.add_argument(\"--height\", type=float, help=\"height of triangle\")\n",
    "args = parser.parse_args()"
   ]
  },
  {
   "cell_type": "markdown",
   "metadata": {},
   "source": [
    "### Example 4: Adding the shortened version of each argment"
   ]
  },
  {
   "cell_type": "code",
   "execution_count": null,
   "metadata": {
    "collapsed": true
   },
   "outputs": [],
   "source": [
    "import argparse\n",
    "parser = argparse.ArgumentParser(prog=\"Area of Triangle\")\n",
    "parser.add_argument(\"-d\", \"parameters\", help=\"what triangle data are available?\")\n",
    "parser.add_argument(\"-sA\", \"--sideA\", type=float, help=\"side A of triangle\")\n",
    "parser.add_argument(\"-sB\", \"--sideB\", type=float, help=\"side B of triangle\")\n",
    "parser.add_argument(\"-sC\", \"--sideC\", type=float, help=\"side C of triangle\")\n",
    "parser.add_argument(\"-b\", \"--base\", type=float, help=\"base of triangle\")\n",
    "parser.add_argument(\"-he\", \"--height\", type=float, help=\"height of triangle\")\n",
    "args = parser.parse_args()"
   ]
  },
  {
   "cell_type": "markdown",
   "metadata": {},
   "source": [
    "### Example 5: restricting the possible values of \"parameters\" and add argument for detail level of result"
   ]
  },
  {
   "cell_type": "code",
   "execution_count": null,
   "metadata": {
    "collapsed": true
   },
   "outputs": [],
   "source": [
    "import argparse\n",
    "parser = argparse.ArgumentParser(prog=\"Area of Triangle\")\n",
    "parser.add_argument(\"-d\", \"parameters\", help=\"what triangle data are available? comes first in arg list\", \n",
    "                    choices = [\"hero\", \"bh\"])\n",
    "parser.add_argument(\"-v\", \"--verbose\", type=int help=\"turn verbosity ON/OFF\")\n",
    "parser.add_argument(\"-sA\", \"--sideA\", type=float, help=\"side A of triangle\")\n",
    "parser.add_argument(\"-sB\", \"--sideB\", type=float, help=\"side B of triangle\")\n",
    "parser.add_argument(\"-sC\", \"--sideC\", type=float, help=\"side C of triangle\")\n",
    "parser.add_argument(\"-b\", \"--base\", type=float, help=\"base of triangle\")\n",
    "parser.add_argument(\"-he\", \"--height\", type=float, help=\"height of triangle\")\n",
    "args = parser.parse_args()"
   ]
  },
  {
   "cell_type": "markdown",
   "metadata": {},
   "source": [
    "### Example 6: performing the actual computations"
   ]
  },
  {
   "cell_type": "code",
   "execution_count": null,
   "metadata": {
    "collapsed": true
   },
   "outputs": [],
   "source": [
    "import argparse\n",
    "from math import sqrt\n",
    "\n",
    "parser = argparse.ArgumentParser(prog=\"Area of Triangle\")\n",
    "parser.add_argument(\"data_set\", help=\"what triangle data are available? comes first in arg list\", \n",
    "                    choices = [\"hero\", \"bh\"])\n",
    "parser.add_argument(\"-v\", \"--verbose\", type=int, help=\"turn verbosity ON/OFF\", choices=[0,1])\n",
    "parser.add_argument(\"-sA\", \"--sideA\", type=float, help=\"side A of triangle\")\n",
    "parser.add_argument(\"-sB\", \"--sideB\", type=float, help=\"side B of triangle\")\n",
    "parser.add_argument(\"-sC\", \"--sideC\", type=float, help=\"side C of triangle\")\n",
    "parser.add_argument(\"-b\", \"--base\", type=float, help=\"base of triangle\")\n",
    "parser.add_argument(\"-he\", \"--height\", type=float, help=\"height of triangle\")\n",
    "args = parser.parse_args()\n",
    "\n",
    "if args.data_set==\"hero\":\n",
    "    s = (args.sideA + args.sideB + args.sideC)/2\n",
    "    area_hero = sqrt(s*(s-args.sideA)*(s-args.sideB)*(s-args.sideC))\n",
    "    \n",
    "    if args.verbose==1:\n",
    "        print(\"for triangle of sides {:<6f}, {:<6f}, {:<6f}, \".format(args.sideA, args.sideB, args.sideC))\n",
    "        print(\"the semi perimeter is {:<6f} while the area is {:<6f}\".format(s, area_hero))\n",
    "    else:\n",
    "        print(\"area = {:<6f}\".format(area_hero))\n",
    "        \n",
    "elif args.data_set==\"bh\":\n",
    "    area_bh = (1/2)*args.base*args.height\n",
    "    \n",
    "    if args.verbose==1:\n",
    "        print(\"for triangle of base {:<6f} and height {:<6f}\".format(args.base, args.height))\n",
    "        print(\"the area is {:<6f}\".format(area_bh))\n",
    "    else:\n",
    "        print(\"area = {:<6f}\".format(area_bh))\n",
    "print('Done')"
   ]
  },
  {
   "cell_type": "code",
   "execution_count": null,
   "metadata": {
    "collapsed": true
   },
   "outputs": [],
   "source": []
  }
 ],
 "metadata": {
  "kernelspec": {
   "display_name": "Python 3",
   "language": "python",
   "name": "python3"
  },
  "language_info": {
   "codemirror_mode": {
    "name": "ipython",
    "version": 3
   },
   "file_extension": ".py",
   "mimetype": "text/x-python",
   "name": "python",
   "nbconvert_exporter": "python",
   "pygments_lexer": "ipython3",
   "version": "3.7.3"
  }
 },
 "nbformat": 4,
 "nbformat_minor": 2
}
