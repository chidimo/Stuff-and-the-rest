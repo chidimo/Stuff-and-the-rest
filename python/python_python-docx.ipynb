{
 "cells": [
  {
   "cell_type": "code",
   "execution_count": null,
   "metadata": {
    "collapsed": true
   },
   "outputs": [],
   "source": [
    "import docx"
   ]
  },
  {
   "cell_type": "code",
   "execution_count": null,
   "metadata": {
    "collapsed": true
   },
   "outputs": [],
   "source": [
    "doc = docx.Document('practice.docx')"
   ]
  },
  {
   "cell_type": "markdown",
   "metadata": {},
   "source": [
    "em_dash = '—'\n",
    "\n",
    "To see styles in Word: Ctrl+Alt+Shift+s\n",
    "\n",
    "Types of styles:\n",
    "\n",
    "*paragraph syles*: can be applied to **Paragraph** objects\n",
    "\n",
    "*character styles*: can be applied to **Run** objects\n",
    "\n",
    "*linked styles*: can be applied to **both** kinds"
   ]
  },
  {
   "cell_type": "code",
   "execution_count": null,
   "metadata": {
    "collapsed": true
   },
   "outputs": [],
   "source": [
    "[x.text for x in doc.paragraphs]"
   ]
  },
  {
   "cell_type": "code",
   "execution_count": null,
   "metadata": {
    "collapsed": true
   },
   "outputs": [],
   "source": [
    "[(x.text, len(x.runs)) for x in doc.paragraphs]"
   ]
  },
  {
   "cell_type": "code",
   "execution_count": null,
   "metadata": {
    "collapsed": true
   },
   "outputs": [],
   "source": [
    "[([y.text for y in x.runs], len(x.runs)) for x in doc.paragraphs]"
   ]
  },
  {
   "cell_type": "code",
   "execution_count": null,
   "metadata": {
    "collapsed": true
   },
   "outputs": [],
   "source": [
    "def get_text(filename):\n",
    "    doc = docx.Document(filename)\n",
    "    full_text = []\n",
    "    for para in doc.paragraphs:\n",
    "        full_text.append(para.text)\n",
    "    return '\\n'.join(full_text)\n",
    "print(get_text('practice.docx'))"
   ]
  },
  {
   "cell_type": "code",
   "execution_count": null,
   "metadata": {
    "collapsed": true
   },
   "outputs": [],
   "source": [
    "[([(y.text, y.style.name) for y in x.runs], len(x.runs)) for x in doc.paragraphs]"
   ]
  },
  {
   "cell_type": "code",
   "execution_count": null,
   "metadata": {
    "collapsed": true
   },
   "outputs": [],
   "source": [
    "# for run in doc.paragraphs[1].runs:\n",
    "#     run.underline=True\n",
    "# doc.paragraphs[0].style='Normal'\n",
    "\n",
    "for each in doc.paragraphs:\n",
    "    for run in each.runs:\n",
    "        run.underline = True\n",
    "        run.bold = True\n",
    "        run.embox = True\n",
    "doc.save('newdoc.docx')"
   ]
  },
  {
   "cell_type": "code",
   "execution_count": null,
   "metadata": {
    "collapsed": true
   },
   "outputs": [],
   "source": [
    "doc2 = docx.Document('newdoc.docx')\n",
    "[([(y.text, y.style.name) for y in x.runs], len(x.runs)) for x in doc2.paragraphs]"
   ]
  },
  {
   "cell_type": "code",
   "execution_count": null,
   "metadata": {
    "collapsed": true
   },
   "outputs": [],
   "source": [
    "doc3 = docx.Document()\n",
    "doc3.add_paragraph('Hello World !')\n",
    "\n",
    "p_obj1 = doc3.add_paragraph('This is a second paragraph')\n",
    "p_obj2 = doc3.add_paragraph('Third paragraph')\n",
    "p_obj1.add_run(' ***Second run of paragraph 2')\n",
    "p_obj3 = doc3.add_paragraph(\"s\\u2081  m\\u2081   s\\u2081\")\n",
    "\n",
    "doc3.save('hello.docx')"
   ]
  },
  {
   "cell_type": "code",
   "execution_count": null,
   "metadata": {
    "collapsed": true
   },
   "outputs": [],
   "source": [
    "step = [\"s\", \"m\", \"s\"]\n",
    "step2 = [\"s\\u2081\", \"m\\u2081\", \"s\\u2081\"]\n",
    "lyric = [\"O\", None, \"Je\"]"
   ]
  },
  {
   "cell_type": "code",
   "execution_count": null,
   "metadata": {
    "collapsed": true
   },
   "outputs": [],
   "source": [
    "score = docx.Document()\n",
    "\n",
    "step_line = score.add_paragraph()\n",
    "lyric_line = score.add_paragraph()\n",
    "\n",
    "for s, l in zip(step2, lyric):\n",
    "    step_line.add_run('{} - '.format(s))\n",
    "    lyric_line.add_run('{} - '.format(l))\n",
    "    \n",
    "score.save('text.docx')"
   ]
  },
  {
   "cell_type": "code",
   "execution_count": null,
   "metadata": {
    "collapsed": true
   },
   "outputs": [],
   "source": []
  }
 ],
 "metadata": {
  "anaconda-cloud": {},
  "kernelspec": {
   "display_name": "Python 3",
   "language": "python",
   "name": "python3"
  },
  "language_info": {
   "codemirror_mode": {
    "name": "ipython",
    "version": 3
   },
   "file_extension": ".py",
   "mimetype": "text/x-python",
   "name": "python",
   "nbconvert_exporter": "python",
   "pygments_lexer": "ipython3",
   "version": "3.6.1"
  }
 },
 "nbformat": 4,
 "nbformat_minor": 1
}
