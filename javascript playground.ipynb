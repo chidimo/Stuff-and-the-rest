{
 "cells": [
  {
   "cell_type": "code",
   "execution_count": null,
   "metadata": {},
   "outputs": [],
   "source": [
    "class Animal {\n",
    "  constructor(name) {\n",
    "    this.speed = 0;\n",
    "    this.name = name;\n",
    "  }\n",
    "  run(speed) {\n",
    "    this.speed += speed;\n",
    "    console.log(`${this.name} runs with speed ${this.speed}.`);\n",
    "  }\n",
    "  stop() {\n",
    "    this.speed = 0;\n",
    "    console.log(`${this.name} stands still.`);\n",
    "  }\n",
    "}\n",
    "\n",
    "class Rabbit extends Animal {\n",
    "  hide() {\n",
    "    console.log(`${this.name} hides!`);\n",
    "  }\n",
    "}\n",
    "\n",
    "let rabbit = new Rabbit(\"White Rabbit\");\n",
    "\n",
    "rabbit.run(5); // White Rabbit runs with speed 5.\n",
    "rabbit.hide(); // White Rabbit hides!"
   ]
  },
  {
   "cell_type": "code",
   "execution_count": null,
   "metadata": {},
   "outputs": [],
   "source": [
    "console.log('type:', typeof rabbit, '<>', '__proto__:', rabbit.__proto__, '<>', 'prototype:', rabbit.prototype)\n",
    "\n",
    "console.log('type:', typeof Rabbit, '<>', '__proto__:', Rabbit.__proto__, '<>', 'prototype:', Rabbit.prototype, '<>', 'prototype.__proto__:', Rabbit.prototype.__proto__)\n",
    "console.log(Rabbit.prototype.__proto__ === Rabbit.__proto__)\n",
    "console.log(typeof Rabbit.prototype.__proto__, typeof Rabbit.__proto__)\n",
    "\n",
    "console.log(Rabbit.prototype)\n",
    "console.log(Rabbit.prototype.__proto__)"
   ]
  },
  {
   "cell_type": "code",
   "execution_count": null,
   "metadata": {},
   "outputs": [],
   "source": [
    "const pet = new String(\"dog\")"
   ]
  },
  {
   "cell_type": "code",
   "execution_count": null,
   "metadata": {},
   "outputs": [],
   "source": [
    "console.log(pet, typeof pet, pet.constructor)"
   ]
  },
  {
   "cell_type": "code",
   "execution_count": null,
   "metadata": {},
   "outputs": [],
   "source": []
  }
 ],
 "metadata": {
  "kernelspec": {
   "display_name": "Javascript (Node.js)",
   "language": "javascript",
   "name": "javascript"
  },
  "language_info": {
   "file_extension": ".js",
   "mimetype": "application/javascript",
   "name": "javascript",
   "version": "12.12.0"
  }
 },
 "nbformat": 4,
 "nbformat_minor": 2
}
