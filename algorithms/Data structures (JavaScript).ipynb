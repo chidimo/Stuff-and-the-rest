{
 "cells": [
  {
   "cell_type": "markdown",
   "metadata": {},
   "source": [
    "# Data structures\n",
    "\n",
    "<https://github.com/kuychaco/algoClass>"
   ]
  },
  {
   "cell_type": "markdown",
   "metadata": {},
   "source": [
    "## Stack"
   ]
  },
  {
   "cell_type": "markdown",
   "metadata": {},
   "source": [
    "### Stack implementation with string"
   ]
  },
  {
   "cell_type": "code",
   "execution_count": null,
   "metadata": {},
   "outputs": [],
   "source": [
    "let StackS, stack_s"
   ]
  },
  {
   "cell_type": "code",
   "execution_count": null,
   "metadata": {},
   "outputs": [],
   "source": [
    "StackS = function() {\n",
    "    this.storage = \"\"\n",
    "    this.divider = '-'\n",
    "}\n",
    "\n",
    "StackS.prototype.push = function(value) {\n",
    "    if (typeof value !== 'string') {\n",
    "        return 'Only strings are allowed.'\n",
    "    }\n",
    "    if (this.storage !== \"\") {\n",
    "        // if not an empty string, add a divider\n",
    "        this.storage += this.divider\n",
    "    }\n",
    "    this.storage += value\n",
    "    return this.storage.split(this.divider).length\n",
    "}\n",
    "StackS.prototype.pop = function() {\n",
    "    if (this.storage === '') {\n",
    "        return 'Empty stack'\n",
    "    }\n",
    "    const index = this.storage.lastIndexOf(this.divider);\n",
    "    const sub = this.storage.substring(index+1)\n",
    "    this.storage = this.storage.substring(0, index)\n",
    "    return sub\n",
    "}\n",
    "StackS.prototype.size = function() {\n",
    "    return this.storage.split(this.divider).length;\n",
    "}"
   ]
  },
  {
   "cell_type": "code",
   "execution_count": null,
   "metadata": {},
   "outputs": [],
   "source": [
    "stack_s = new StackS();\n",
    "\n",
    "console.assert(stack_s.push([]) === 'Only strings are allowed.')\n",
    "console.assert(stack_s.push('5') === 1)\n",
    "console.assert(stack_s.push('6') === 2)\n",
    "console.assert(stack_s.push('7') === 3)\n",
    "console.assert(stack_s.push('8') === 4)\n",
    "\n",
    "console.assert(stack_s.size() === 4)\n",
    "console.assert(stack_s.pop() === '8')\n",
    "console.assert(stack_s.pop() === '7')\n",
    "console.assert(stack_s.pop() === '6')\n",
    "console.assert(stack_s.pop() === '5')\n",
    "console.assert(stack_s.pop() === 'Empty stack')"
   ]
  },
  {
   "cell_type": "markdown",
   "metadata": {},
   "source": [
    "### Stack implementation with array"
   ]
  },
  {
   "cell_type": "code",
   "execution_count": null,
   "metadata": {},
   "outputs": [],
   "source": [
    "let StackA, stack_a"
   ]
  },
  {
   "cell_type": "code",
   "execution_count": null,
   "metadata": {},
   "outputs": [],
   "source": [
    "StackA = function() {\n",
    "    this.storage = [];\n",
    "}\n",
    "\n",
    "StackA.prototype.push = function(value) {\n",
    "    this.storage.push(value)\n",
    "    return this.storage.length\n",
    "}\n",
    "StackA.prototype.pop = function() {\n",
    "    if (this.storage.length === 0) {\n",
    "        return 'Empty stack'\n",
    "    }\n",
    "    return this.storage.pop()\n",
    "}\n",
    "StackA.prototype.size = function() {\n",
    "    return this.storage.length;\n",
    "}"
   ]
  },
  {
   "cell_type": "code",
   "execution_count": null,
   "metadata": {},
   "outputs": [],
   "source": [
    "stack_a = new StackA();\n",
    "\n",
    "console.assert(stack_a.push(5) === 1)\n",
    "console.assert(stack_a.push(6) === 2)\n",
    "console.assert(stack_a.push(7) === 3)\n",
    "console.assert(stack_a.push(8) === 4)\n",
    "\n",
    "console.assert(stack_a.size() === 4)\n",
    "console.assert(stack_a.pop() === 8)\n",
    "console.assert(stack_a.pop() === 7)\n",
    "console.assert(stack_a.pop() === 6)\n",
    "console.assert(stack_a.pop() === 5)\n",
    "console.assert(stack_a.pop() === 'Empty stack')"
   ]
  },
  {
   "cell_type": "markdown",
   "metadata": {},
   "source": [
    "### Stack implementation with an object"
   ]
  },
  {
   "cell_type": "code",
   "execution_count": null,
   "metadata": {},
   "outputs": [],
   "source": [
    "let Stack, stack_o"
   ]
  },
  {
   "cell_type": "code",
   "execution_count": null,
   "metadata": {},
   "outputs": [],
   "source": [
    "Stack = function(capacity) {\n",
    "    this._storage = {};\n",
    "    this._nextIndex = 0;\n",
    "    this._capacity = capacity || Infinity;\n",
    "}\n",
    "\n",
    "Stack.prototype.push = function(value) {\n",
    "    if (this._nextIndex >= this._capacity) {\n",
    "        return 'Max capacity reached.'\n",
    "    }\n",
    "    this._storage[this._nextIndex] = value;\n",
    "    this._nextIndex += 1;\n",
    "    return this._nextIndex;\n",
    "};\n",
    "\n",
    "Stack.prototype.pop = function() {\n",
    "    if (this._nextIndex === 0) {\n",
    "        return 'Empty stack'\n",
    "    }\n",
    "    const value = this._storage[this._nextIndex - 1];\n",
    "    delete this._storage[this._nextIndex - 1];\n",
    "    this._nextIndex -= 1;\n",
    "    return value;\n",
    "};\n",
    "\n",
    "Stack.prototype.peek = function() {\n",
    "    return this._storage[this._nextIndex]\n",
    "};\n",
    "\n",
    "Stack.prototype.count = function() {\n",
    "    return this._nextIndex;\n",
    "};\n",
    "\n",
    "Stack.prototype.contains = function(value) {\n",
    "    return Object.values(this._storage).includes(value)\n",
    "}\n",
    "\n",
    "Stack.prototype.until = function(value) {\n",
    "    // how many pops before we get to \"value\"\n",
    "    const index = Object.values(this._storage).indexOf(value)\n",
    "    if (index === -1) {\n",
    "        return 'Value not found'\n",
    "    }\n",
    "    return index + 1;\n",
    "}\n",
    "\n",
    "Stack.prototype.min = function() {\n",
    "    // should have O(1) time complexity\n",
    "}"
   ]
  },
  {
   "cell_type": "code",
   "execution_count": null,
   "metadata": {},
   "outputs": [],
   "source": [
    "stack_o = new Stack(4);"
   ]
  },
  {
   "cell_type": "code",
   "execution_count": null,
   "metadata": {},
   "outputs": [],
   "source": [
    "console.assert(stack_o.push(5) === 1)\n",
    "console.assert(stack_o.push(6) === 2)\n",
    "console.assert(stack_o.push(7) === 3)\n",
    "console.assert(stack_o.push(8) === 4)\n",
    "\n",
    "console.assert(stack_o.count() === 4)\n",
    "console.assert(stack_o.until(7) === 3)\n",
    "console.assert(stack_o.until('matt') === 'Value not found')\n",
    "console.assert(stack_o.push('item') === 'Max capacity reached.')\n",
    "\n",
    "console.assert(stack_o.pop() === 8)\n",
    "console.assert(stack_o.pop() === 7)\n",
    "console.assert(stack_o.pop() === 6)\n",
    "console.assert(stack_o.pop() === 5)\n",
    "console.assert(stack_o.pop() === 'Empty stack')"
   ]
  },
  {
   "cell_type": "markdown",
   "metadata": {},
   "source": [
    "## Queue"
   ]
  },
  {
   "cell_type": "markdown",
   "metadata": {},
   "source": [
    "### Implementing queue with array"
   ]
  },
  {
   "cell_type": "code",
   "execution_count": null,
   "metadata": {},
   "outputs": [],
   "source": [
    "let QueuePS, queue_ps, QueueUP, queue_up, \n",
    "// QueuePS with push and shift\n",
    "// QueueUP with unshift and pop"
   ]
  },
  {
   "cell_type": "code",
   "execution_count": null,
   "metadata": {},
   "outputs": [],
   "source": [
    "QueuePS = function() {\n",
    "    // RHS is enqueueing end - push\n",
    "    // LHS is dequeueing end - shift\n",
    "    this.storage = [];\n",
    "}\n",
    "\n",
    "QueuePS.prototype.enqueue = function(value) {\n",
    "    return this.storage.push(value);\n",
    "}\n",
    "QueuePS.prototype.dequeue = function() {\n",
    "    if (this.storage.length === 0) {\n",
    "        return 'Empty queue'\n",
    "    }\n",
    "    return this.storage.shift();\n",
    "}\n",
    "QueuePS.prototype.size = function() {\n",
    "    return this.storage.length;\n",
    "}"
   ]
  },
  {
   "cell_type": "code",
   "execution_count": null,
   "metadata": {},
   "outputs": [],
   "source": [
    "QueueUP = function() {\n",
    "    // LHS is enqueueing end - unshift\n",
    "    // RHS is dequeueing end - pop\n",
    "    this.storage = [];\n",
    "}\n",
    "\n",
    "QueueUP.prototype.enqueue = function(value) {\n",
    "    return this.storage.unshift(value);\n",
    "}\n",
    "QueueUP.prototype.dequeue = function() {\n",
    "    if (this.storage.length === 0) {\n",
    "        return 'Empty queue'\n",
    "    }\n",
    "    return this.storage.pop();\n",
    "}\n",
    "QueueUP.prototype.size = function() {\n",
    "    return this.storage.length;\n",
    "}"
   ]
  },
  {
   "cell_type": "code",
   "execution_count": null,
   "metadata": {},
   "outputs": [],
   "source": [
    "queue_ps = new QueuePS();"
   ]
  },
  {
   "cell_type": "code",
   "execution_count": null,
   "metadata": {},
   "outputs": [],
   "source": [
    "console.assert(queue_ps.push(5) === 1)\n",
    "console.assert(queue_ps.push(6) === 2)\n",
    "console.assert(queue_ps.push(7) === 3)\n",
    "console.assert(queue_ps.push(8) === 4)\n",
    "\n",
    "console.assert(queue_ps.size() === 4)\n",
    "console.assert(queue_ps.pop() === 5)\n",
    "console.assert(queue_ps.pop() === 6)\n",
    "console.assert(queue_ps.pop() === 7)\n",
    "console.assert(queue_ps.pop() === 8)\n",
    "console.assert(queue_ps.pop() === 'Empty queue')"
   ]
  },
  {
   "cell_type": "markdown",
   "metadata": {},
   "source": [
    "### Implementing queue with an object"
   ]
  },
  {
   "cell_type": "code",
   "execution_count": 2,
   "metadata": {},
   "outputs": [],
   "source": [
    "let Queue, queue_o"
   ]
  },
  {
   "cell_type": "code",
   "execution_count": 3,
   "metadata": {},
   "outputs": [
    {
     "data": {
      "text/plain": [
       "[Function]"
      ]
     },
     "execution_count": 3,
     "metadata": {},
     "output_type": "execute_result"
    }
   ],
   "source": [
    "Queue = function(capacity) {\n",
    "    this._storage = {};\n",
    "    this._head = 0;\n",
    "    this._tail = 0;\n",
    "    this._capacity = capacity || Infinity;\n",
    "}\n",
    "\n",
    "Queue.prototype.enqueue = function(value) {\n",
    "    if (this._head >= this._capacity) {\n",
    "        return 'Max capacity reached.'\n",
    "    }\n",
    "    this._storage[this._head] = value;\n",
    "    this._head += 1;\n",
    "    return this._head;\n",
    "};\n",
    "\n",
    "Queue.prototype.dequeue = function() {\n",
    "    if (this._head === this._tail) {\n",
    "        return 'Empty queue.'\n",
    "    }\n",
    "    const value = this._storage[this._tail];\n",
    "    delete this._storage[this._tail];\n",
    "    this._tail += 1;\n",
    "    return value;\n",
    "};\n",
    "\n",
    "Queue.prototype.peek = function() {\n",
    "    return this._storage[this._head-1]\n",
    "};\n",
    "\n",
    "Queue.prototype.contains = function(value) {\n",
    "    return Object.values(this._storage).includes(value)\n",
    "}\n",
    "\n",
    "Queue.prototype.until = function(value) {\n",
    "    // how many dequeues before we get to \"value\"\n",
    "    const index = Object.values(this._storage).indexOf(value)\n",
    "    if (index === -1) {\n",
    "        return 'Value not found'\n",
    "    }\n",
    "    return index + 1;\n",
    "}\n",
    "\n",
    "Queue.prototype.count = function() {\n",
    "    return this._head - this._tail;\n",
    "};"
   ]
  },
  {
   "cell_type": "code",
   "execution_count": 5,
   "metadata": {},
   "outputs": [
    {
     "name": "stdout",
     "output_type": "stream",
     "text": [
      "Queue { _storage: {}, _head: 0, _tail: 0, _capacity: 4 }\n"
     ]
    }
   ],
   "source": [
    "queue_o = new Queue(4);\n",
    "console.log(queue_o)\n",
    "\n",
    "console.assert(queue_o.enqueue(5) === 1)\n",
    "console.assert(queue_o.enqueue(6) === 2)\n",
    "console.assert(queue_o.enqueue(7) === 3)\n",
    "console.assert(queue_o.enqueue(8) === 4)\n",
    "console.assert(queue_o.enqueue(9) === 'Max capacity reached.')\n",
    "\n",
    "console.assert(queue_o.peek() === 8)\n",
    "console.assert(queue_o.count() === 4)\n",
    "\n",
    "console.assert(queue_o.dequeue() === 5)\n",
    "console.assert(queue_o.dequeue() === 6)\n",
    "\n",
    "console.assert(queue_o.count() === 2)\n",
    "\n",
    "console.assert(queue_o.dequeue() === 7)\n",
    "console.assert(queue_o.dequeue() === 8)\n",
    "console.assert(queue_o.dequeue() === 'Empty queue.')\n",
    "\n",
    "console.assert(queue_o.count() === 0)"
   ]
  },
  {
   "cell_type": "code",
   "execution_count": null,
   "metadata": {},
   "outputs": [],
   "source": []
  }
 ],
 "metadata": {
  "kernelspec": {
   "display_name": "Javascript (Node.js)",
   "language": "javascript",
   "name": "javascript"
  },
  "language_info": {
   "file_extension": ".js",
   "mimetype": "application/javascript",
   "name": "javascript",
   "version": "12.12.0"
  }
 },
 "nbformat": 4,
 "nbformat_minor": 2
}
