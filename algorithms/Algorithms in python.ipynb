{
 "cells": [
  {
   "cell_type": "markdown",
   "metadata": {},
   "source": [
    "# Algorithms\n",
    "\n",
    "Source: <https://runestone.academy/runestone/static/pythonds/index.html>"
   ]
  },
  {
   "cell_type": "markdown",
   "metadata": {},
   "source": [
    "## Algorithm characteristics\n",
    "\n",
    "Correct, Understandable, Efficient (CUE)\n",
    "\n",
    "## Circumstances\n",
    "\n",
    "Every case, Best case, Average case, Worst case, Expected case (EBAWE)\n",
    "\n",
    "Predicting behaviour, comparison, provability\n",
    "\n",
    "1. <https://stackoverflow.com/questions/2307283/what-does-olog-n-mean-exactly>\n",
    "1. <https://stackoverflow.com/questions/487258/what-is-a-plain-english-explanation-of-big-o-notation/487278#487278>\n",
    "1. <http://interactivepython.org/runestone/static/pythonds/index.html>\n",
    "1. <https://bradfieldcs.com/algos/>\n",
    "1. <http://www.ee.ryerson.ca/~courses/coe428/index.html>\n",
    "1. <https://www.hackerearth.com/practice/algorithms/sorting/merge-sort/visualize/>\n",
    "1. <https://www.toptal.com/developers/sorting-algorithms/>\n",
    "\n",
    "## Binary search (*O(logn) time*)\n",
    "\n",
    "This search works by splitting the ordered collection into two halves\n",
    "It then looks to see if the target is in the midpoint.\n",
    "If it is not, it checks to see if the target is likely to be in the left half or the right half\n",
    "\n",
    "It then takes the half where the target is likely to be found and repeats the process."
   ]
  },
  {
   "cell_type": "markdown",
   "metadata": {},
   "source": [
    "### Problem: minimum number in a list\n",
    "\n",
    "Write two Python functions to find the minimum number in a list. The first function should compare each number to every other number on the list. $O(n^2)$. The second function should be linear $O(n)$."
   ]
  },
  {
   "cell_type": "code",
   "execution_count": 27,
   "metadata": {},
   "outputs": [],
   "source": [
    "l = [11, 5, 8, 7, 10, 15, 4]\n",
    "def minimum_in_n_time(l):\n",
    "    \"\"\"Find minimum number in a list in n time\"\"\"\n",
    "    m = l[0]\n",
    "    for each in l:\n",
    "        if each < m:\n",
    "            m = each\n",
    "    return m\n",
    "\n",
    "def minimum_in_n_squared_time(l):\n",
    "    \"\"\"Find minimum number in a list in n**2 time\"\"\"\n",
    "    minimum = l[0]\n",
    "    for each in l:\n",
    "        for every in l:\n",
    "            if each < every:\n",
    "                minimum = each\n",
    "    return minimum"
   ]
  },
  {
   "cell_type": "code",
   "execution_count": null,
   "metadata": {},
   "outputs": [
    {
     "name": "stdout",
     "output_type": "stream",
     "text": [
      "minimum_in_n_time for list(range(1000)) =  0.032760032001533546 ms\n",
      "minimum_in_n_squared_time for list(range(1000)) =  32.95586366600037 ms\n",
      "minimum_in_n_time for list(range(10000)) =  0.2662410220000311 ms\n"
     ]
    }
   ],
   "source": [
    "from timeit import Timer\n",
    "\n",
    "test_list_1 = list(range(1000))\n",
    "test_list_2 = list(range(10000))\n",
    "\n",
    "t1 = Timer(\"minimum_in_n_time(test_list_1)\", \"from __main__ import minimum_in_n_time, test_list_1\")\n",
    "print(\"minimum_in_n_time for list(range(1000)) = \", t1.timeit(number=1000), \"ms\")\n",
    "\n",
    "t2 = Timer(\"minimum_in_n_squared_time(test_list_1)\", \"from __main__ import minimum_in_n_squared_time, test_list_1\")\n",
    "print(\"minimum_in_n_squared_time for list(range(1000)) = \", t2.timeit(number=1000), \"ms\")\n",
    "\n",
    "t3 = Timer(\"minimum_in_n_time(test_list_2)\", \"from __main__ import minimum_in_n_time, test_list_2\")\n",
    "print(\"minimum_in_n_time for list(range(10000)) = \", t3.timeit(number=1000), \"ms\")\n",
    "\n",
    "t4 = Timer(\"minimum_in_n_squared_time(test_list_2)\", \"from __main__ import minimum_in_n_squared_time, test_list_2\")\n",
    "print(\"minimum_in_n_squared_time for list(range(10000)) = \", t4.timeit(number=1000), \"ms\")"
   ]
  },
  {
   "cell_type": "markdown",
   "metadata": {},
   "source": [
    "### Problem: anagram check\n",
    "\n",
    "Given two strings, check to see if they are anagrams. An anagram is when the two strings can be written using the exact same letters (so you can just rearrange the letters to get a different phrase or word)."
   ]
  },
  {
   "cell_type": "code",
   "execution_count": 1,
   "metadata": {},
   "outputs": [],
   "source": [
    "def detect_anagram_1(word1, word2):\n",
    "    \"\"\"Checking off letters\"\"\"\n",
    "    word1 = word1.replace(' ', '').lower()\n",
    "    word2 = word2.replace(' ', '').lower()\n",
    "\n",
    "    if len(word1) != len(word2):\n",
    "        return False\n",
    "\n",
    "    word2 = list(word2)\n",
    "    for index, letter in enumerate(word1):\n",
    "        if letter in word2:\n",
    "            anagram = True\n",
    "            word2.pop(word2.index(letter))\n",
    "        else:\n",
    "            anagram = False\n",
    "            return anagram\n",
    "    return anagram\n",
    "\n",
    "def detect_anagram_2(word1, word2):\n",
    "    \"\"\"Counting letters\"\"\"\n",
    "\n",
    "    word1 = word1.replace(' ', '').lower()\n",
    "    word2 = word2.replace(' ', '').lower()\n",
    "\n",
    "    if len(word1) != len(word2):\n",
    "        return False\n",
    "\n",
    "    count = {}\n",
    "\n",
    "    for letter in word1:\n",
    "        if letter in count:\n",
    "            count[letter] += 1\n",
    "        else:\n",
    "            count[letter] = 1\n",
    "\n",
    "    for letter in word2:\n",
    "        if letter in count:\n",
    "            count[letter] -= 1\n",
    "        else:\n",
    "            count[letter] = 1\n",
    "\n",
    "    for key, value in count.items():\n",
    "        if value != 0:\n",
    "            return False\n",
    "    return True"
   ]
  },
  {
   "cell_type": "code",
   "execution_count": 3,
   "metadata": {},
   "outputs": [
    {
     "name": "stdout",
     "output_type": "stream",
     "text": [
      "ALL TEST CASES PASSED\n"
     ]
    }
   ],
   "source": [
    "\"\"\"\n",
    "RUN THIS CELL TO TEST YOUR SOLUTION\n",
    "\"\"\"\n",
    "\n",
    "class AnagramTest(object):\n",
    "    def test(self,sol):\n",
    "        assert(sol('python', 'typhon') == True)\n",
    "        assert(sol('go go go', 'gggooo') == True)\n",
    "        assert(sol('abc', 'cba') == True)\n",
    "        assert(sol('hi man', 'hi     man') == True)\n",
    "        assert(sol('aabbcc', 'aabbc') == False)\n",
    "        assert(sol('123', '1 2') == False)\n",
    "        print(\"ALL TEST CASES PASSED\")\n",
    "\n",
    "# Run Tests\n",
    "t = AnagramTest()\n",
    "t.test(detect_anagram_2)"
   ]
  },
  {
   "cell_type": "markdown",
   "metadata": {},
   "source": [
    "## Performance of python lists\n",
    "\n",
    "$\n",
    "\\text{1. Index [] - }O(1)\\\\\n",
    "\\text{2. Index assignment - }O(1)\\\\\n",
    "\\text{3. append - }O(1)\\\\\n",
    "\\text{4. pop() - }O(1)\\\\\n",
    "\\text{5. pop(i) - }O(n)\\\\\n",
    "\\text{6. insert(i, item) - }O(n)\\\\\n",
    "\\text{7. del operator() - }O(n)\\\\\n",
    "\\text{8. iteration - }O(n)\\\\\n",
    "\\text{9. contains (in) - }O(n)\\\\\n",
    "\\text{10. get slice [x:y] - }O(k)\\\\\n",
    "\\text{11. del slice - } O(n)\\\\\n",
    "\\text{12. set slice - }O(n+k)\\\\\n",
    "\\text{13. reverse - }O(n)\\\\\n",
    "\\text{14. concatenate - }O(k)\\\\\n",
    "\\text{15. sort - }O(n\\log{n})\\\\\n",
    "\\text{16. multiply - }O(nk)\n",
    "$\n",
    "\n",
    "## Performance of python dictionaries\n",
    "\n",
    "$\n",
    "\\text{1. Copy - }O(n)\\\\\n",
    "\\text{2. Iteration - }O(n)\\\\\n",
    "\\text{3. Get item - }O(1)\\\\\n",
    "\\text{4. Set item  - }O(1)\\\\\n",
    "\\text{5. Delete item - }O(1)\\\\\n",
    "\\text{6. Contains (in) - }O(1)\n",
    "$"
   ]
  },
  {
   "cell_type": "markdown",
   "metadata": {},
   "source": [
    "### Devise an experiment to verify that the list index operator is $O(1)$\n",
    "\n",
    "#### Strategy\n",
    "\n",
    "1. Generate a very large list of integers\n",
    "1. Pick a series of integers at different positions from the list\n",
    "1. Compare the times taken to pick each of these integers\n",
    "\n",
    "The only problem with my test is that the list generation time takes up most of the time for the experiment. I don't know how to remove that factor yet.\n",
    "But our results show that no matter which point along the list we choose to pick an item, the time it takes stays relatively constant."
   ]
  },
  {
   "cell_type": "code",
   "execution_count": 1,
   "metadata": {},
   "outputs": [
    {
     "name": "stdout",
     "output_type": "stream",
     "text": [
      "List generated in  0.1985346750007011  ms\n",
      "\n",
      "Time to get 1 =  0.1696364370000083  ms\n",
      "Time to get 10 =  0.18317659300009836  ms\n",
      "Time to get 100 =  0.19704669100065075  ms\n",
      "Time to get 1000 =  0.21483453300061228  ms\n",
      "Time to get 9999 =  0.2700023120014521  ms\n"
     ]
    }
   ],
   "source": [
    "from timeit import Timer\n",
    "\n",
    "test_item_1 = 1\n",
    "test_item_2 = 10\n",
    "test_item_3 = 100\n",
    "test_item_4 = 1000\n",
    "test_item_5 = 9999\n",
    "\n",
    "def time_list_generation():\n",
    "    test_list = list(range(10000))\n",
    "\n",
    "def test_list_index_operator(test_item):\n",
    "    \"\"\"time list index operation\"\"\"\n",
    "    test_list = list(range(10000))\n",
    "    num = test_list[test_item]\n",
    "\n",
    "t0 = Timer(\"time_list_generation()\", \"from __main__ import time_list_generation\")\n",
    "print(\"List generated in \", t0.timeit(number=1000), \" ms\\n\")\n",
    "\n",
    "t1 = Timer(\"test_list_index_operator(test_item_1)\", \"from __main__ import test_list_index_operator, test_item_1\")\n",
    "print(\"Time to get {} = \".format(test_item_1), t1.timeit(number=1000), \" ms\")\n",
    "\n",
    "t2 = Timer(\"test_list_index_operator(test_item_2)\", \"from __main__ import test_list_index_operator, test_item_2\")\n",
    "print(\"Time to get {} = \".format(test_item_2), t2.timeit(number=1000), \" ms\")\n",
    "\n",
    "t3 = Timer(\"test_list_index_operator(test_item_3)\", \"from __main__ import test_list_index_operator, test_item_3\")\n",
    "print(\"Time to get {} = \".format(test_item_3), t3.timeit(number=1000), \" ms\")\n",
    "\n",
    "t4 = Timer(\"test_list_index_operator(test_item_4)\", \"from __main__ import test_list_index_operator, test_item_4\")\n",
    "print(\"Time to get {} = \".format(test_item_4), t4.timeit(number=1000), \" ms\")\n",
    "\n",
    "t5 = Timer(\"test_list_index_operator(test_item_5)\", \"from __main__ import test_list_index_operator, test_item_5\")\n",
    "print(\"Time to get {} = \".format(test_item_5), t5.timeit(number=1000), \" ms\")"
   ]
  },
  {
   "cell_type": "code",
   "execution_count": 2,
   "metadata": {},
   "outputs": [
    {
     "name": "stdout",
     "output_type": "stream",
     "text": [
      "176 µs ± 1.79 µs per loop (mean ± std. dev. of 7 runs, 10000 loops each)\n",
      "175 µs ± 1.92 µs per loop (mean ± std. dev. of 7 runs, 10000 loops each)\n"
     ]
    }
   ],
   "source": [
    "%timeit time_list_generation()\n",
    "%timeit test_list_index_operator(9999)"
   ]
  },
  {
   "cell_type": "markdown",
   "metadata": {},
   "source": [
    "### Devise an experiment to verify that get item and set item are $O(1)$ for dictionaries.\n",
    "\n",
    "#### Strategy\n",
    "\n",
    "1. Generate a large dictionary\n",
    "1. Pick/set a series of items from the dictionary\n",
    "1. Compare the times taken to pick/set the items"
   ]
  },
  {
   "cell_type": "code",
   "execution_count": null,
   "metadata": {},
   "outputs": [],
   "source": [
    "from timeit import Timer\n",
    "\n",
    "test_item_1 = 1\n",
    "test_item_2 = 10\n",
    "test_item_3 = 100\n",
    "test_item_4 = 1000\n",
    "test_item_5 = 9999\n",
    "\n",
    "def get_item_from_dictionary(item):\n",
    "    dictionary = {i : None for i in range(10000)}\n",
    "    s = dictionary[item]\n",
    "\n",
    "print(\"Test times for getting dictionary keys\\n\")\n",
    "t1 = Timer(\"get_item_from_dictionary(test_item_1)\", \"from __main__ import get_item_from_dictionary, test_item_1\")\n",
    "print(\"Time to get {} =\".format(test_item_1), t1.timeit(number=1000), 'ms')\n",
    "\n",
    "t2 = Timer(\"get_item_from_dictionary(test_item_2)\", \"from __main__ import get_item_from_dictionary, test_item_2\")\n",
    "print(\"Time to get {} =\".format(test_item_2), t2.timeit(number=1000), 'ms')\n",
    "\n",
    "t3 = Timer(\"get_item_from_dictionary(test_item_3)\", \"from __main__ import get_item_from_dictionary, test_item_3\")\n",
    "print(\"Time to get {} =\".format(test_item_3), t3.timeit(number=1000), 'ms')\n",
    "\n",
    "t4 = Timer(\"get_item_from_dictionary(test_item_4)\", \"from __main__ import get_item_from_dictionary, test_item_4\")\n",
    "print(\"Time to get {} =\".format(test_item_4), t4.timeit(number=1000), 'ms')\n",
    "\n",
    "t5 = Timer(\"get_item_from_dictionary(test_item_5)\", \"from __main__ import get_item_from_dictionary, test_item_5\")\n",
    "print(\"Time to get {} =\".format(test_item_5), t5.timeit(number=1000), 'ms')\n",
    "\n",
    "def set_item_in_dictionary(item):\n",
    "    dictionary = {i : None for i in range(10000)}\n",
    "    dictionary[item] = 'None'\n",
    "\n",
    "print(\"\\n\\nTest times for setting dictionary values\\n\")\n",
    "t1 = Timer(\"set_item_in_dictionary(test_item_1)\", \"from __main__ import set_item_in_dictionary, test_item_1\")\n",
    "print(\"Time to set item {} =\".format(test_item_1), t1.timeit(number=1000), 'ms')\n",
    "\n",
    "t2 = Timer(\"set_item_in_dictionary(test_item_2)\", \"from __main__ import set_item_in_dictionary, test_item_2\")\n",
    "print(\"Time to set item {} =\".format(test_item_2), t2.timeit(number=1000), 'ms')\n",
    "\n",
    "t3 = Timer(\"set_item_in_dictionary(test_item_3)\", \"from __main__ import set_item_in_dictionary, test_item_3\")\n",
    "print(\"Time to set item {} =\".format(test_item_3), t3.timeit(number=1000), 'ms')\n",
    "\n",
    "t4 = Timer(\"set_item_in_dictionary(test_item_4)\", \"from __main__ import set_item_in_dictionary, test_item_4\")\n",
    "print(\"Time to set item {} =\".format(test_item_4), t4.timeit(number=1000), 'ms')\n",
    "\n",
    "t5 = Timer(\"set_item_in_dictionary(test_item_5)\", \"from __main__ import set_item_in_dictionary, test_item_5\")\n",
    "print(\"Time to set item {} =\".format(test_item_5), t5.timeit(number=1000), 'ms')"
   ]
  },
  {
   "cell_type": "markdown",
   "metadata": {},
   "source": [
    "### Devise an experiment that compares the performance of the $del$ operator on lists and dictionaries\n",
    "\n",
    "#### Strategy\n",
    "\n",
    "1. Make a list of integers using $range$ method\n",
    "1. Make a dictionary of integers (using dictionary comprehension) whose keys are the values of a list generated by $range$\n",
    "1. Call $del$ on same items in both list and dictionary and time the operation"
   ]
  },
  {
   "cell_type": "code",
   "execution_count": null,
   "metadata": {},
   "outputs": [],
   "source": [
    "from timeit import Timer\n",
    "\n",
    "test_item_1 = 1\n",
    "test_item_2 = 10\n",
    "test_item_3 = 100\n",
    "test_item_4 = 1000\n",
    "test_item_5 = 9999\n",
    "\n",
    "def del_from_list(test_item):\n",
    "    test_list = list(range(10000))\n",
    "    del test_list[test_item]\n",
    "\n",
    "def del_from_dict(test_item):\n",
    "    test_dict = {i : None for i in range(10000)}\n",
    "\n",
    "print(\"Test 1\")\n",
    "tlist_1 = Timer(\"del_from_list(test_item_1)\", \"from __main__ import del_from_list, test_item_1\")\n",
    "print(\"Time to delete item at index {} from list =\".format(test_item_1), tlist_1.timeit(number=1000), \"ms\")\n",
    "\n",
    "tdict_1 = Timer(\"del_from_dict(test_item_1)\", \"from __main__ import del_from_dict, test_item_1\")\n",
    "print(\"Time to delete key {} from dict =\".format(test_item_1), tdict_1.timeit(number=1000), \"ms\")\n",
    "\n",
    "print(\"\\nTest 2\")\n",
    "tlist_2 = Timer(\"del_from_list(test_item_2)\", \"from __main__ import del_from_list, test_item_2\")\n",
    "print(\"Time to delete item at index {} from list =\".format(test_item_2), tlist_2.timeit(number=1000), \"ms\")\n",
    "\n",
    "tdict_2 = Timer(\"del_from_dict(test_item_2)\", \"from __main__ import del_from_dict, test_item_2\")\n",
    "print(\"Time to delete key {} from dict =\".format(test_item_2), tdict_2.timeit(number=1000), \"ms\")\n",
    "\n",
    "print(\"\\nTest 3\")\n",
    "tlist_3 = Timer(\"del_from_list(test_item_3)\", \"from __main__ import del_from_list, test_item_3\")\n",
    "print(\"Time to delete item at index {} from list =\".format(test_item_3), tlist_3.timeit(number=1000), \"ms\")\n",
    "\n",
    "tdict_3 = Timer(\"del_from_dict(test_item_3)\", \"from __main__ import del_from_dict, test_item_3\")\n",
    "print(\"Time to delete key {} from dict =\".format(test_item_3), tdict_3.timeit(number=1000), \"ms\")\n",
    "\n",
    "print(\"\\nTest 4\")\n",
    "tlist_4 = Timer(\"del_from_list(test_item_4)\", \"from __main__ import del_from_list, test_item_4\")\n",
    "print(\"Time to delete item at index {} from list =\".format(test_item_4), tlist_4.timeit(number=1000), \"ms\")\n",
    "\n",
    "tdict_4 = Timer(\"del_from_dict(test_item_4)\", \"from __main__ import del_from_dict, test_item_4\")\n",
    "print(\"Time to delete key {} from dict =\".format(test_item_4), tdict_4.timeit(number=1000), \"ms\")\n",
    "\n",
    "print(\"\\nTest 5\")\n",
    "tlist_5 = Timer(\"del_from_list(test_item_5)\", \"from __main__ import del_from_list, test_item_5\")\n",
    "print(\"Time to delete item at index {} from list =\".format(test_item_5), tlist_5.timeit(number=1000), \"ms\")\n",
    "\n",
    "tdict_5 = Timer(\"del_from_dict(test_item_5)\", \"from __main__ import del_from_dict, test_item_5\")\n",
    "print(\"Time to delete key {} from dict =\".format(test_item_5), tdict_5.timeit(number=1000), \"ms\")"
   ]
  },
  {
   "cell_type": "markdown",
   "metadata": {},
   "source": [
    "### Devise an experiment to verify that $del$ operator is $O(n)$ for lists."
   ]
  },
  {
   "cell_type": "code",
   "execution_count": null,
   "metadata": {},
   "outputs": [],
   "source": [
    "from timeit import Timer\n",
    "\n",
    "test_item_1 = 9\n",
    "test_item_2 = 99\n",
    "test_item_3 = 999\n",
    "test_item_4 = 9999\n",
    "\n",
    "def del_from_list_10(test_item):\n",
    "    test_list = list(range(10))\n",
    "    del test_list[test_item]\n",
    "\n",
    "def del_from_list_100(test_item):\n",
    "    test_list = list(range(100))\n",
    "    del test_list[test_item]\n",
    "\n",
    "def del_from_list_1000(test_item):\n",
    "    test_list = list(range(1000))\n",
    "    del test_list[test_item]\n",
    "\n",
    "def del_from_list_10000(test_item):\n",
    "    test_list = list(range(10000))\n",
    "    del test_list[test_item]\n",
    "\n",
    "t1 = Timer(\"del_from_list_10(test_item_1)\", \"from __main__ import del_from_list_10, test_item_1\")\n",
    "print(\"Time to delete {} from list of length {} =\".format(test_item_1, len(range(10))), t1.timeit(number=1000), \"ms\")\n",
    "\n",
    "t2 = Timer(\"del_from_list_100(test_item_2)\", \"from __main__ import del_from_list_100, test_item_2\")\n",
    "print(\"Time to delete {} from list of length {} =\".format(test_item_2, len(range(100))), t2.timeit(number=1000), \"ms\")\n",
    "\n",
    "t3 = Timer(\"del_from_list_1000(test_item_3)\", \"from __main__ import del_from_list_1000, test_item_3\")\n",
    "print(\"Time to delete {} from list of length {} =\".format(test_item_3, len(range(1000))), t3.timeit(number=1000), \"ms\")\n",
    "\n",
    "t4 = Timer(\"del_from_list_10000(test_item_4)\", \"from __main__ import del_from_list_10000, test_item_4\")\n",
    "print(\"Time to delete {} from list of length {} =\".format(test_item_4, len(range(10000))), t4.timeit(number=1000), \"ms\")"
   ]
  },
  {
   "cell_type": "markdown",
   "metadata": {},
   "source": [
    "### Given a list of numbers in random order, write an algorithm that works in $O(nlog(n))$ to find the $kth$ smallest number in the list\n",
    "\n",
    "We might be required to find the *first*, *second* or *third* smallest number. This looks like a sorting problem. To sort the numbers in ascending order, then read off the index.\n",
    "\n",
    "#### Follow up question - Can you improve the algorithm to be linear? Explain."
   ]
  },
  {
   "cell_type": "code",
   "execution_count": null,
   "metadata": {},
   "outputs": [],
   "source": [
    "def find_kth_smallest(number_list, k):\n",
    "    smallest = number_list[k-1] #element at kth position, assuming a list in ascending order\n",
    "    pass\n",
    "\n",
    "find_kth_smallest([6, 2, 0, 9], 2)"
   ]
  },
  {
   "cell_type": "markdown",
   "metadata": {},
   "source": [
    "## Linear data structures\n",
    "\n",
    "Collections in which each element stays in a *fixed* position relative to other elements. The differences between them lies in how elements are *added* or *removed* from each one.\n",
    "\n",
    "### Stack - LIFO\n",
    "\n",
    "|Operation | Description | Return value\n",
    "| --------- | --------- | --------- |\n",
    "|Stack()  | Create an empty stack | `Stack()` object\n",
    "|push(item)| Add item to stack | No return value\n",
    "|pop() | Remove an item from stack | popped item or `None`\n",
    "|peek() | Look at the top item in the stack | peeked item or `None` for an empty stack\n",
    "|isEmpty() | Check if stack is empty | `Bool`\n",
    "|size() | Check the length of the stack | `int`\n",
    "\n",
    "### Queue - FIFO\n",
    "\n",
    "|Operation | Description | Return value\n",
    "| --------- | --------- | --------- |\n",
    "|Queue()  | Create an empty queue | `Queue()` object\n",
    "|enqueue(item) | Adds an item to the queue | No return value\n",
    "|dequeue() | removes the top most item from the queue | dequeued item\n",
    "|isEmpty() | Check if queue is empty | `Bool`\n",
    "|size() | Check the length of the queue | `int`"
   ]
  },
  {
   "cell_type": "code",
   "execution_count": null,
   "metadata": {},
   "outputs": [],
   "source": [
    "class Stack():\n",
    "    def __init__(self):\n",
    "        self.items = []\n",
    "\n",
    "    def push(self, item):\n",
    "        self.items.append(item) # append operation is O(1)\n",
    "\n",
    "    def pop(self):\n",
    "        try:\n",
    "            return self.items.pop() # pop operation is O(1)\n",
    "        except IndexError:\n",
    "            return None\n",
    "\n",
    "    def peek(self):\n",
    "        try:\n",
    "            return self.items[-1] # index[] operation is O(1)\n",
    "        except IndexError:\n",
    "            return None\n",
    "\n",
    "    def isEmpty(self):\n",
    "        return self.items == []\n",
    "\n",
    "    def size(self):\n",
    "        return len(self.items)"
   ]
  },
  {
   "cell_type": "code",
   "execution_count": null,
   "metadata": {},
   "outputs": [],
   "source": [
    "def revstring(string):\n",
    "    \"\"\"Reverses a string using stack\"\"\"\n",
    "    s = Stack()\n",
    "    for e in string[-1:-(len(string)+1):-1]:\n",
    "        s.push(e)\n",
    "    return \"\".join(s.items)\n",
    "revstring('chidimma')"
   ]
  },
  {
   "cell_type": "code",
   "execution_count": null,
   "metadata": {},
   "outputs": [],
   "source": [
    "def open_close_symbol_pairs(symbol):\n",
    "    \"\"\"Given an opening symbol, return its corresponding closing symbol\"\"\"\n",
    "    if symbol == \"(\":\n",
    "        return \")\"\n",
    "    elif symbol == \"{\":\n",
    "        return \"}\"\n",
    "    elif symbol == \"[\":\n",
    "        return \"]\"\n",
    "    elif symbol == \"<\":\n",
    "        return \">\""
   ]
  },
  {
   "cell_type": "code",
   "execution_count": 3,
   "metadata": {},
   "outputs": [
    {
     "name": "stdout",
     "output_type": "stream",
     "text": [
      "True\n",
      "False\n",
      "True\n",
      "False\n"
     ]
    }
   ],
   "source": [
    "def single_balanced_symbol_checker(expression, opening_symbol):\n",
    "    \"\"\"check for balance of a particular symbol.\n",
    "    Parameters\n",
    "    expression\n",
    "        str : expression to check\n",
    "    symbol\n",
    "        str : opening symbol of symbol pair to check\n",
    "    \"\"\"\n",
    "    s = Stack()\n",
    "    closing_symbol = open_close_symbol_pairs(opening_symbol)\n",
    "\n",
    "    for e in expression:\n",
    "        if e == opening_symbol:\n",
    "            s.push(e)\n",
    "        elif (e == closing_symbol) and (s.isEmpty() is False): # encounter a closing symbol and the stack is NOT empty\n",
    "            s.pop()\n",
    "        else:\n",
    "            pass\n",
    "    if s.isEmpty():\n",
    "        return True\n",
    "    return False\n",
    "\n",
    "def balanced_expression_checker(expression):\n",
    "    opening_strings = [\"(\", \"{\", \"[\", \"<\"]\n",
    "\n",
    "    if all([single_balanced_symbol_checker(expression, each) for each in opening_strings]):\n",
    "        return True\n",
    "    return False\n",
    "\n",
    "print(balanced_expression_checker('((()))'))\n",
    "print(balanced_expression_checker('(()'))\n",
    "print(balanced_expression_checker('{{([][])}()}'))\n",
    "print(balanced_expression_checker('[{()]'))"
   ]
  },
  {
   "cell_type": "code",
   "execution_count": 4,
   "metadata": {},
   "outputs": [
    {
     "data": {
      "text/plain": [
       "'100'"
      ]
     },
     "execution_count": 4,
     "metadata": {},
     "output_type": "execute_result"
    }
   ],
   "source": [
    "def decimal_to_binary(decimal_number, base):\n",
    "    \"\"\"Convert decimal number to a different base, upto base 16\"\"\"\n",
    "    s = Stack()\n",
    "    converted_str = \"\"\n",
    "    digits = list(\"0123456789ABCDEF\")\n",
    "\n",
    "    while decimal_number > 0:\n",
    "        remainder = digits[decimal_number % base]\n",
    "\n",
    "        s.push(remainder)\n",
    "        decimal_number = decimal_number // base # integer division\n",
    "\n",
    "    while s.isEmpty() is False:\n",
    "        converted_str += str(s.pop())\n",
    "    return converted_str\n",
    "\n",
    "decimal_to_binary(256, 16)"
   ]
  },
  {
   "cell_type": "markdown",
   "metadata": {},
   "source": [
    "### Conversion of `infix` expression to `postfix`\n",
    "\n",
    "1. Create an empty called `operator_stack` stack for keeping operators. Create an empty list called `final_post_fix_exp` for output.\n",
    "1. Convert the input infix string to a list by using the string method split.\n",
    "1. Scan the token list from left to right.\n",
    "\n",
    "    1. If the token is an operand, append it to `final_post_fix_exp`.\n",
    "    1. If the token is a left parenthesis, push it on `operator_stack`.\n",
    "    1. If the token is a right parenthesis, pop `operator_stack` until the corresponding left parenthesis is removed. Append each operator to `final_post_fix_exp`.\n",
    "    1. If the token is an operator, *, /, +, or -, push it on the `operator_stack`. However, first remove any operators already on `operator_stack` that have higher or equal precedence and append them to `final_post_fix_exp`.\n",
    "    1. When the input expression has been completely processed, check `operator_stack`. Any operators still on the stack can be removed and appended to `final_post_fix_exp`."
   ]
  },
  {
   "cell_type": "code",
   "execution_count": 5,
   "metadata": {},
   "outputs": [
    {
     "name": "stdout",
     "output_type": "stream",
     "text": [
      "A B * C D * +\n",
      "A B + C * D E - F G + * -\n",
      "A B + C D + *\n",
      "A B + C *\n",
      "A B C * +\n",
      "10 3 5 * 16 4 - / +\n",
      "5 3 4 2 - ** *\n"
     ]
    }
   ],
   "source": [
    "def infix_to_postfix(expression):\n",
    "    math_operators = {\"**\" : 4, \"*\" : 3, \"/\" : 3, \"+\" : 2, \"-\" : 2, \"(\" : 1}\n",
    "    operator_stack = Stack()\n",
    "    final_post_fix_exp = []\n",
    "    expression_tokens = expression.split()\n",
    "    operands = \"ABCDEFGHIJKLMNOPQRSTUVWXYZ012345678910111213141516\"\n",
    "\n",
    "    for token in expression_tokens:\n",
    "        if token in operands:\n",
    "            final_post_fix_exp.append(token)\n",
    "        elif token == \"(\":\n",
    "            operator_stack.push(token)\n",
    "        elif token == \")\":\n",
    "            top_of_stack = operator_stack.pop()\n",
    "            while top_of_stack != \"(\":\n",
    "                final_post_fix_exp.append(top_of_stack)\n",
    "                top_of_stack = operator_stack.pop()\n",
    "        else: # take a look, if there's something there, do comparison, the remove or leave it alone\n",
    "            top_of_stack = operator_stack.peek()\n",
    "\n",
    "            while (top_of_stack is not None) and (math_operators[top_of_stack] >= math_operators[token]):\n",
    "                final_post_fix_exp.append(operator_stack.pop())\n",
    "                top_of_stack = operator_stack.peek()\n",
    "            operator_stack.push(token)\n",
    "\n",
    "    while operator_stack.isEmpty() is False:\n",
    "        final_post_fix_exp.append(operator_stack.pop())\n",
    "    return \" \".join(final_post_fix_exp)\n",
    "\n",
    "print(infix_to_postfix(\"A * B + C * D\"))\n",
    "print(infix_to_postfix(\"( A + B ) * C - ( D - E ) * ( F + G )\"))\n",
    "print(infix_to_postfix(\"( A + B ) * ( C + D )\"))\n",
    "print(infix_to_postfix(\"( A + B ) * C\"))\n",
    "print(infix_to_postfix(\"A + B * C\"))\n",
    "print(infix_to_postfix(\"10 + 3 * 5 / ( 16 - 4 )\"))\n",
    "print(infix_to_postfix(\"5 * 3 ** ( 4 - 2 )\"))"
   ]
  },
  {
   "cell_type": "markdown",
   "metadata": {},
   "source": [
    "### Conversion of `postfix` expression to `infix`\n",
    "\n",
    "1. Create an empty stack called `operand_stack`.\n",
    "1. Convert the string to a list by using the string method split.\n",
    "1. Scan the token list from left to right.\n",
    "    1. If the token is an operand, convert it from a string to an integer and push the value onto `operand_stack`.\n",
    "    1. If the token is an operator, $*$, $/$, $+$, or $-$, it will need two operands. Pop `operand_stack` twice. The first pop is the second operand and the second pop is the first operand. Perform the arithmetic operation. Push the result back on `operand_stack`.\n",
    "1. When the input expression has been completely processed, the result is on the stack. Pop the operandStack and return the value."
   ]
  },
  {
   "cell_type": "code",
   "execution_count": 10,
   "metadata": {},
   "outputs": [],
   "source": [
    "def parenthesize(operand_1, operand_2, operator):\n",
    "    \"\"\"Takes two operands and an operator and covers them in brackets\"\"\"\n",
    "    return f\"({operand_1} {operator} {operand_2})\"\n",
    "\n",
    "assert(parenthesize(8, 7, \"+\") == '(8 + 7)')\n",
    "assert(parenthesize('A', 'B', \"-\") == '(A - B)')"
   ]
  },
  {
   "cell_type": "code",
   "execution_count": 16,
   "metadata": {},
   "outputs": [
    {
     "name": "stdout",
     "output_type": "stream",
     "text": [
      "['5']\n",
      "['(None * 5)']\n",
      "['(None * 5)', '3']\n",
      "['((None * 5) ** 3)']\n",
      "['(None ( ((None * 5) ** 3))']\n",
      "['(None ( ((None * 5) ** 3))', '4']\n",
      "['((None ( ((None * 5) ** 3)) - 4)']\n",
      "['((None ( ((None * 5) ** 3)) - 4)', '2']\n",
      "['((None ( ((None * 5) ** 3)) - 4)', '2']\n",
      "2\n"
     ]
    }
   ],
   "source": [
    "def postfix_to_infix(expression):\n",
    "    operand_stack = Stack()\n",
    "    final_post_fix_exp = []\n",
    "    expression_tokens = expression.split()\n",
    "    operands = \"ABCDEFGHIJKLMNOPQRSTUVWXYZ012345678910111213141516\"\n",
    "    math_operators = {\"**\" : 4, \"*\" : 3, \"/\" : 3, \"+\" : 2, \"-\" : 2, \"(\" : 1}\n",
    "\n",
    "    for token in expression_tokens:\n",
    "        if token in operands:\n",
    "            operand_stack.push(token)\n",
    "        elif token in math_operators:\n",
    "            operand_2 = operand_stack.pop()\n",
    "            operand_1 = operand_stack.pop()\n",
    "            evaluation = parenthesize(operand_1, operand_2, token)\n",
    "            operand_stack.push(evaluation)\n",
    "        print(operand_stack.items)\n",
    "    return operand_stack.pop()\n",
    "\n",
    "print(postfix_to_infix('7 8 + 3 2 + /'))\n",
    "print(postfix_to_infix('5 * 3 ** ( 4 - 2 )'))\n",
    "eval(postfix_to_infix('7 8 + 3 2 + /'))\n",
    "\n",
    "assert(postfix_to_infix('7 8 + 3 2 + /') == '((7 + 8) / (3 + 2))')"
   ]
  },
  {
   "cell_type": "code",
   "execution_count": null,
   "metadata": {},
   "outputs": [],
   "source": [
    "class Queue1():\n",
    "    \"\"\"\n",
    "    Implementation I\n",
    "    Fast enqueue: self.items.append(item) with time complexity O(1)\n",
    "    Slow dequeue: self.items.pop(0) with time complexity O(n)\n",
    "    \"\"\"\n",
    "    def __init__(self):\n",
    "        self.items = []\n",
    "\n",
    "    def isEmpty(self):\n",
    "        return self.items == []\n",
    "\n",
    "    def enqueue(self, item):\n",
    "        self.items.append(item)\n",
    "\n",
    "    def dequeue(self):\n",
    "        self.items.pop(0)\n",
    "\n",
    "    def size(self):\n",
    "        return len(self.items)\n",
    "\n",
    "class Queue2():\n",
    "    \"\"\"\n",
    "    Implementation II\n",
    "    Slow enqueue: self.items.insert(i, item) with time complexity O(n)\n",
    "    Fast dequeue: self.items.pop() with time complexity O(1)\n",
    "    \"\"\"\n",
    "    def __init__(self):\n",
    "        self.items = []\n",
    "\n",
    "    def isEmpty(self):\n",
    "        return self.items == []\n",
    "\n",
    "    def enqueue(self, item):\n",
    "        self.items.insert(0, item)\n",
    "\n",
    "    def dequeue(self):\n",
    "        self.items.pop(0)\n",
    "\n",
    "    def size(self):\n",
    "        return len(self.items)"
   ]
  },
  {
   "cell_type": "code",
   "execution_count": null,
   "metadata": {},
   "outputs": [],
   "source": [
    "import sys\n",
    "\"\"\"\n",
    "Demonstration of python's preallocation of memory for list items (dynamic array)\n",
    "\"\"\"\n",
    "\n",
    "n = 100\n",
    "l = []\n",
    "byte_size = 64\n",
    "\n",
    "for i in range(n):\n",
    "    print(\"Array length: {:2}, Byte size {:4}\".format(len(l), byte_size))\n",
    "    l.append(i)\n",
    "\n",
    "    if sys.getsizeof(l) > byte_size:\n",
    "        print(\"\\n\\nSize jump of {}\".format(sys.getsizeof(l) - byte_size))\n",
    "    byte_size = sys.getsizeof(l)"
   ]
  },
  {
   "cell_type": "markdown",
   "metadata": {},
   "source": [
    "### Implementing a dynamic array\n",
    "\n",
    "A dynamic array requires that we preallocate memory\n",
    "\n",
    "1. Create a new larger array, $B$, larger than array $A$\n",
    "    1. How large of a new array to create? A common rule: make it twice the size of the previous array\n",
    "1. Perform $\\sum_{1}^{n-1}B[i]=A[i]$\n",
    "1. Set $A = B$\n",
    "1. Add new elements to array $A$"
   ]
  },
  {
   "cell_type": "code",
   "execution_count": 17,
   "metadata": {},
   "outputs": [
    {
     "data": {
      "text/plain": [
       "'<__main__.DynamicArray object at 0x107fa5390>'"
      ]
     },
     "execution_count": 17,
     "metadata": {},
     "output_type": "execute_result"
    }
   ],
   "source": [
    "import ctypes\n",
    "\n",
    "class DynamicArray(object):\n",
    "    \"\"\"A dynamic array that behaves similar to a python list\"\"\"\n",
    "\n",
    "    def __init__(self):\n",
    "        self.n = 0\n",
    "        self.capacity = 1\n",
    "        self.A = self.make_array(self.capacity)\n",
    "\n",
    "    def __len__(self):\n",
    "        return self.n\n",
    "\n",
    "    def __getitem__(self, k):\n",
    "        if (0 <= k < 5) is False:\n",
    "            return IndexError('Index k is out of bounds')\n",
    "        return self.A[k]\n",
    "\n",
    "    def append(self, k):\n",
    "        if self.n == self.capacity:\n",
    "            self._resize(2 * self.capacity)\n",
    "        self.A[self.n] = k\n",
    "        self.n += 1\n",
    "\n",
    "    def _resize(self, new_capacity):\n",
    "        B = self.make_array(new_capacity)\n",
    "        for k in range(self.n):\n",
    "            B[k] = self.A[k]\n",
    "        self.A = B\n",
    "        self.capacity = new_capacity\n",
    "\n",
    "    def make_array(self, new_capacity):\n",
    "        return (new_capacity * ctypes.py_object)()\n",
    "\n",
    "l = DynamicArray()\n",
    "repr(l)"
   ]
  },
  {
   "cell_type": "markdown",
   "metadata": {},
   "source": [
    "## Array Pair Sum\n",
    "\n",
    "### Problem \n",
    "\n",
    "Given an integer array, output all the *unique* pairs that sum up to a specific value **k**."
   ]
  },
  {
   "cell_type": "code",
   "execution_count": 21,
   "metadata": {},
   "outputs": [],
   "source": [
    "def array_pair_sum_1(integer_array, k):\n",
    "    \"\"\"Popping arrays\"\"\"\n",
    "    l = []\n",
    "    count = 0\n",
    "    for i in range(len(integer_array)):\n",
    "        try:\n",
    "            current = integer_array.pop(i) # O(n) time\n",
    "            for each in integer_array:\n",
    "                if current + each == k:\n",
    "                    l.append((current, each))\n",
    "                    count += 1\n",
    "        except IndexError:\n",
    "            pass\n",
    "    print(l)\n",
    "    return count\n",
    "\n",
    "def array_pair_sum_2(integer_array, k):\n",
    "    seen = set()\n",
    "    l = set()\n",
    "\n",
    "    for each in integer_array:\n",
    "        target = k - each\n",
    "\n",
    "        if target not in seen:\n",
    "            seen.add(each)\n",
    "        else:\n",
    "            l.add((min(each, target), max(each, target)))\n",
    "#     print(seen)\n",
    "    return l\n",
    "\n",
    "assert(array_pair_sum_2([1, 9, 2, 8, 3, 7, 4, 6, 5, 5, 13, 14, 11, 13, -1], 10) == {(4, 6), (5, 5), (2, 8), (-1, 11), (1, 9), (3, 7)})\n",
    "assert(array_pair_sum_2([1, 2, 3, 1], 3) == {(1, 2)})\n",
    "assert(array_pair_sum_2([1, 3, 2, 2], 4) == {(1, 3), (2, 2)})"
   ]
  },
  {
   "cell_type": "code",
   "execution_count": 26,
   "metadata": {},
   "outputs": [
    {
     "name": "stdout",
     "output_type": "stream",
     "text": [
      "[(1, 9), (2, 8), (3, 7), (4, 6), (5, 5), (11, -1)]\n",
      "[(1, 2)]\n",
      "[(1, 3), (2, 2)]\n",
      "ALL TEST CASES PASSED\n"
     ]
    },
    {
     "name": "stderr",
     "output_type": "stream",
     "text": [
      "<>:3: SyntaxWarning: assertion is always true, perhaps remove parentheses?\n",
      "<>:4: SyntaxWarning: assertion is always true, perhaps remove parentheses?\n",
      "<>:5: SyntaxWarning: assertion is always true, perhaps remove parentheses?\n",
      "<>:3: SyntaxWarning: assertion is always true, perhaps remove parentheses?\n",
      "<>:4: SyntaxWarning: assertion is always true, perhaps remove parentheses?\n",
      "<>:5: SyntaxWarning: assertion is always true, perhaps remove parentheses?\n",
      "<>:3: SyntaxWarning: assertion is always true, perhaps remove parentheses?\n",
      "<>:4: SyntaxWarning: assertion is always true, perhaps remove parentheses?\n",
      "<>:5: SyntaxWarning: assertion is always true, perhaps remove parentheses?\n",
      "<ipython-input-26-6a2f2536c707>:3: SyntaxWarning: assertion is always true, perhaps remove parentheses?\n",
      "  assert(sol([1, 9, 2, 8, 3, 7, 4, 6, 5, 5, 13, 14, 11, 13, -1], 10), 6)\n",
      "<ipython-input-26-6a2f2536c707>:4: SyntaxWarning: assertion is always true, perhaps remove parentheses?\n",
      "  assert(sol([1, 2, 3, 1], 3), 1)\n",
      "<ipython-input-26-6a2f2536c707>:5: SyntaxWarning: assertion is always true, perhaps remove parentheses?\n",
      "  assert(sol([1, 3, 2, 2], 4), 2)\n"
     ]
    }
   ],
   "source": [
    "class TestPair(object):\n",
    "    def test(self, sol):\n",
    "        assert(sol([1, 9, 2, 8, 3, 7, 4, 6, 5, 5, 13, 14, 11, 13, -1], 10), 6)\n",
    "        assert(sol([1, 2, 3, 1], 3), 1)\n",
    "        assert(sol([1, 3, 2, 2], 4), 2)\n",
    "        print('ALL TEST CASES PASSED')\n",
    "#Run tests\n",
    "t = TestPair()\n",
    "t.test(array_pair_sum_1)"
   ]
  },
  {
   "cell_type": "code",
   "execution_count": 23,
   "metadata": {},
   "outputs": [
    {
     "ename": "ModuleNotFoundError",
     "evalue": "No module named 'operations_timer'",
     "output_type": "error",
     "traceback": [
      "\u001b[0;31m---------------------------------------------------------------------------\u001b[0m",
      "\u001b[0;31mModuleNotFoundError\u001b[0m                       Traceback (most recent call last)",
      "\u001b[0;32m<ipython-input-23-1430241143c4>\u001b[0m in \u001b[0;36m<module>\u001b[0;34m\u001b[0m\n\u001b[0;32m----> 1\u001b[0;31m \u001b[0;32mfrom\u001b[0m \u001b[0moperations_timer\u001b[0m \u001b[0;32mimport\u001b[0m \u001b[0;34m*\u001b[0m\u001b[0;34m\u001b[0m\u001b[0;34m\u001b[0m\u001b[0m\n\u001b[0m\u001b[1;32m      2\u001b[0m \u001b[0;32mfrom\u001b[0m \u001b[0msearch_timer\u001b[0m \u001b[0;32mimport\u001b[0m \u001b[0;34m*\u001b[0m\u001b[0;34m\u001b[0m\u001b[0;34m\u001b[0m\u001b[0m\n\u001b[1;32m      3\u001b[0m \u001b[0;34m\u001b[0m\u001b[0m\n\u001b[1;32m      4\u001b[0m \u001b[0;32mfrom\u001b[0m \u001b[0mpythonds\u001b[0m\u001b[0;34m.\u001b[0m\u001b[0mbasic\u001b[0m\u001b[0;34m.\u001b[0m\u001b[0mstack\u001b[0m \u001b[0;32mimport\u001b[0m \u001b[0mStack\u001b[0m\u001b[0;34m\u001b[0m\u001b[0;34m\u001b[0m\u001b[0m\n\u001b[1;32m      5\u001b[0m \u001b[0;32mfrom\u001b[0m \u001b[0mtower_of_hanoi_stack\u001b[0m \u001b[0;32mimport\u001b[0m \u001b[0mmake_tower\u001b[0m\u001b[0;34m,\u001b[0m \u001b[0mmove_disk\u001b[0m\u001b[0;34m\u001b[0m\u001b[0;34m\u001b[0m\u001b[0m\n",
      "\u001b[0;31mModuleNotFoundError\u001b[0m: No module named 'operations_timer'"
     ]
    }
   ],
   "source": [
    "from operations_timer import *\n",
    "from search_timer import *\n",
    "\n",
    "from pythonds.basic.stack import Stack\n",
    "from tower_of_hanoi_stack import make_tower, move_disk\n",
    "\n",
    "intermediate = Stack()\n",
    "final = Stack()"
   ]
  },
  {
   "cell_type": "code",
   "execution_count": null,
   "metadata": {},
   "outputs": [],
   "source": [
    "def move_tower(n_disk, intermediate, final):\n",
    "    number_of_disk = 5\n",
    "    [i for i in range(number_of_disk, 0, -1)]"
   ]
  },
  {
   "cell_type": "code",
   "execution_count": 25,
   "metadata": {},
   "outputs": [
    {
     "name": "stdout",
     "output_type": "stream",
     "text": [
      "for input size            1024, the function runs in 0.009059906005859375\n",
      "for input size            2048, the function runs in 0.010967254638671875\n",
      "for input size            4096, the function runs in 0.010013580322265625\n",
      "for input size            8192, the function runs in 0.012159347534179688\n",
      "for input size           16384, the function runs in 0.013828277587890625\n",
      "for input size           32768, the function runs in 0.012159347534179688\n",
      "for input size           65536, the function runs in 0.013828277587890625\n",
      "for input size          131072, the function runs in 0.021219253540039062\n",
      "for input size          262144, the function runs in     0.02288818359375\n",
      "for input size          524288, the function runs in    0.019073486328125\n",
      "for input size         1048576, the function runs in 0.029087066650390625\n",
      "for input size         2097152, the function runs in  0.02193450927734375\n",
      "for input size         4194304, the function runs in   0.0209808349609375\n",
      "for input size         8388608, the function runs in    0.019073486328125\n",
      "for input size        16777216, the function runs in  0.02193450927734375\n",
      "for input size        33554432, the function runs in     0.02288818359375\n",
      "for input size        67108864, the function runs in 0.025987625122070312\n",
      "for input size       134217728, the function runs in 0.030279159545898438\n",
      "for input size       268435456, the function runs in 0.028133392333984375\n",
      "for input size       536870912, the function runs in 0.029802322387695312\n",
      "for input size      1073741824, the function runs in 0.030040740966796875\n",
      "for input size      2147483648, the function runs in  0.03409385681152344\n",
      "for input size      4294967296, the function runs in  0.03361701965332031\n",
      "for input size      8589934592, the function runs in  0.03600120544433594\n",
      "for input size     17179869184, the function runs in 0.029802322387695312\n",
      "for input size     34359738368, the function runs in 0.030994415283203125\n",
      "for input size     68719476736, the function runs in 0.030040740966796875\n",
      "for input size    137438953472, the function runs in 0.030994415283203125\n",
      "for input size    274877906944, the function runs in  0.03910064697265625\n"
     ]
    }
   ],
   "source": [
    "from time import time\n",
    "\n",
    "def bs_contains(ordered_coll, target):\n",
    "    \"\"\"Use binary array search to determine if target is in an ordered collection\"\"\"\n",
    "    low = 0\n",
    "    high = len(ordered_coll) - 1\n",
    "\n",
    "    while low <= high:\n",
    "        mid = int((low + high) / 2)\n",
    "        if target == ordered_coll[mid]:\n",
    "            return True\n",
    "        elif target < ordered_coll[mid]:\n",
    "            high = mid - 1\n",
    "        else:\n",
    "            low = mid + 1\n",
    "    return False\n",
    "\n",
    "def performance():\n",
    "    \"\"\"This function runs the defined function a number of times and prints the time it takes\n",
    "    to run it each time\"\"\"\n",
    "\n",
    "    n = 1024\n",
    "    while n < 500000000000:\n",
    "        sorted = range(n)\n",
    "        now = time()\n",
    "\n",
    "        # code to be evaluated\n",
    "        # we use -1, so we have a worst case scenario\n",
    "        bs_contains(sorted, -1)\n",
    "\n",
    "        done = time()\n",
    "        #print((n, (done-now)*1000))\n",
    "        print('for input size {:15}, the function runs in {:20}'.format(n, (done-now)*1000))\n",
    "        n *= 2\n",
    "\n",
    "performance()\n",
    "\n",
    "# A slight modification of the problem would be a situation where we want to \n",
    "# insert that value into the collection if it is not found in the collection"
   ]
  },
  {
   "cell_type": "code",
   "execution_count": 24,
   "metadata": {},
   "outputs": [
    {
     "name": "stdout",
     "output_type": "stream",
     "text": [
      "for input size            1024, the function runs in      6.29425048828125e-05\n",
      "for input size            2048, the function runs in    0.00011396408081054688\n",
      "for input size            4096, the function runs in       0.00020599365234375\n",
      "for input size            8192, the function runs in    0.00033783912658691406\n",
      "for input size           16384, the function runs in      0.002022266387939453\n",
      "for input size           32768, the function runs in     0.0015468597412109375\n",
      "for input size           65536, the function runs in      0.008774042129516602\n",
      "for input size          131072, the function runs in      0.006882190704345703\n",
      "for input size          262144, the function runs in      0.012258052825927734\n",
      "for input size          524288, the function runs in      0.027883052825927734\n",
      "for input size         1048576, the function runs in      0.052072763442993164\n",
      "for input size         2097152, the function runs in       0.09146595001220703\n",
      "for input size         4194304, the function runs in        0.1920459270477295\n",
      "done\n"
     ]
    }
   ],
   "source": [
    "from time import time\n",
    "\n",
    "def bs_contains(ordered_coll, target):\n",
    "    \"\"\"Use binary array search to return index position of target in an ordered collection\"\"\"\n",
    "    low = 0\n",
    "    high = len(ordered_coll) - 1\n",
    "\n",
    "    while low <= high:\n",
    "        mid = int((low + high) / 2)\n",
    "        if target == ordered_coll[mid]:\n",
    "            return mid\n",
    "        elif target < ordered_coll[mid]:\n",
    "            high = mid - 1\n",
    "        else:\n",
    "            low = mid + 1\n",
    "    return -(low + 1)\n",
    "\n",
    "def insert_in_place(ordered_coll, target):\n",
    "    idx = bs_contains(ordered_coll, target)\n",
    "\n",
    "    if idx < 0:\n",
    "        ordered_coll.insert(-(idx+1), target)\n",
    "    ordered_coll.insert(idx, target)\n",
    "\n",
    "def performance():\n",
    "    \"\"\"This function runs the defined function a number of times and prints the time it takes\n",
    "    to run it each time\"\"\"\n",
    "\n",
    "    n = 1024\n",
    "    while n < 5000000:\n",
    "        sorted = range(n)\n",
    "        now = time()\n",
    "\n",
    "        # code to be evaluated\n",
    "        # we use -1, so we have a worst case scenario\n",
    "        insert_in_place(list(sorted), -1)\n",
    "\n",
    "        done = time()\n",
    "        #print((n, (done-now)*1000))\n",
    "        print('for input size {:15}, the function runs in {:25}'.format(n, (done-now)))\n",
    "        n *= 2\n",
    "\n",
    "performance()\n",
    "print('done')"
   ]
  },
  {
   "cell_type": "code",
   "execution_count": null,
   "metadata": {},
   "outputs": [],
   "source": []
  }
 ],
 "metadata": {
  "kernelspec": {
   "display_name": "Python 3",
   "language": "python",
   "name": "python3"
  },
  "language_info": {
   "codemirror_mode": {
    "name": "ipython",
    "version": 3
   },
   "file_extension": ".py",
   "mimetype": "text/x-python",
   "name": "python",
   "nbconvert_exporter": "python",
   "pygments_lexer": "ipython3",
   "version": "3.7.4"
  }
 },
 "nbformat": 4,
 "nbformat_minor": 2
}
