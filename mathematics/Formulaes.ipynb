{
 "cells": [
  {
   "cell_type": "markdown",
   "metadata": {},
   "source": [
    "# Formulaes"
   ]
  },
  {
   "cell_type": "markdown",
   "metadata": {},
   "source": [
    "## Logarithms\n",
    "\n",
    "$\n",
    "\\text{1. } log_a (n^k) = k log_a n\\\\\n",
    "\\text{2. } log_a (mn) = log_a m + log_a n\\\\\n",
    "\\text{3. } n^{log_a b} = b^{log_a n}\\\\\n",
    "\\text{4. } log_a n . log_b a = log_b n\\\\\n",
    "\\text{5. } log_b n = \\frac{log_a n}{log_a b}\n",
    "$"
   ]
  },
  {
   "cell_type": "code",
   "execution_count": null,
   "metadata": {},
   "outputs": [],
   "source": []
  }
 ],
 "metadata": {
  "kernelspec": {
   "display_name": "Python 3",
   "language": "python",
   "name": "python3"
  },
  "language_info": {
   "codemirror_mode": {
    "name": "ipython",
    "version": 3
   },
   "file_extension": ".py",
   "mimetype": "text/x-python",
   "name": "python",
   "nbconvert_exporter": "python",
   "pygments_lexer": "ipython3",
   "version": "3.7.4"
  }
 },
 "nbformat": 4,
 "nbformat_minor": 2
}
